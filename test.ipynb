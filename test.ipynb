{
 "cells": [
  {
   "cell_type": "code",
   "execution_count": 49,
   "metadata": {},
   "outputs": [],
   "source": [
    "# Import Dependencies\n",
    "import os\n",
    "from dotenv import load_dotenv\n",
    "import requests\n",
    "from alpha_vantage.cryptocurrencies import CryptoCurrencies\n",
    "from alpha_vantage.techindicators import TechIndicators\n",
    "import pandas as pd"
   ]
  },
  {
   "cell_type": "code",
   "execution_count": 50,
   "metadata": {},
   "outputs": [],
   "source": [
    "# https://github.com/RomelTorres/alpha_vantage/tree/master\n",
    "load_dotenv()\n",
    "API_KEY = os.getenv('ALPHAVANTAGE_API_KEY')\n",
    "\n",
    "cc = CryptoCurrencies(key=API_KEY, output_format='pandas')"
   ]
  },
  {
   "cell_type": "code",
   "execution_count": 52,
   "metadata": {},
   "outputs": [],
   "source": [
    "df, md = cc.get_digital_currency_daily(symbol='ETH', market='USD')"
   ]
  },
  {
   "cell_type": "code",
   "execution_count": 53,
   "metadata": {},
   "outputs": [
    {
     "data": {
      "text/html": [
       "<div>\n",
       "<style scoped>\n",
       "    .dataframe tbody tr th:only-of-type {\n",
       "        vertical-align: middle;\n",
       "    }\n",
       "\n",
       "    .dataframe tbody tr th {\n",
       "        vertical-align: top;\n",
       "    }\n",
       "\n",
       "    .dataframe thead th {\n",
       "        text-align: right;\n",
       "    }\n",
       "</style>\n",
       "<table border=\"1\" class=\"dataframe\">\n",
       "  <thead>\n",
       "    <tr style=\"text-align: right;\">\n",
       "      <th></th>\n",
       "      <th>1a. open (USD)</th>\n",
       "      <th>1b. open (USD)</th>\n",
       "      <th>2a. high (USD)</th>\n",
       "      <th>2b. high (USD)</th>\n",
       "      <th>3a. low (USD)</th>\n",
       "      <th>3b. low (USD)</th>\n",
       "      <th>4a. close (USD)</th>\n",
       "      <th>4b. close (USD)</th>\n",
       "      <th>5. volume</th>\n",
       "      <th>6. market cap (USD)</th>\n",
       "    </tr>\n",
       "    <tr>\n",
       "      <th>date</th>\n",
       "      <th></th>\n",
       "      <th></th>\n",
       "      <th></th>\n",
       "      <th></th>\n",
       "      <th></th>\n",
       "      <th></th>\n",
       "      <th></th>\n",
       "      <th></th>\n",
       "      <th></th>\n",
       "      <th></th>\n",
       "    </tr>\n",
       "  </thead>\n",
       "  <tbody>\n",
       "    <tr>\n",
       "      <th>2021-12-27</th>\n",
       "      <td>4063.57</td>\n",
       "      <td>4063.57</td>\n",
       "      <td>4080.47</td>\n",
       "      <td>4080.47</td>\n",
       "      <td>4063.56</td>\n",
       "      <td>4063.56</td>\n",
       "      <td>4078.87</td>\n",
       "      <td>4078.87</td>\n",
       "      <td>4084.7287</td>\n",
       "      <td>4084.7287</td>\n",
       "    </tr>\n",
       "    <tr>\n",
       "      <th>2021-12-26</th>\n",
       "      <td>4094.36</td>\n",
       "      <td>4094.36</td>\n",
       "      <td>4105.00</td>\n",
       "      <td>4105.00</td>\n",
       "      <td>4000.00</td>\n",
       "      <td>4000.00</td>\n",
       "      <td>4063.56</td>\n",
       "      <td>4063.56</td>\n",
       "      <td>189309.2550</td>\n",
       "      <td>189309.2550</td>\n",
       "    </tr>\n",
       "    <tr>\n",
       "      <th>2021-12-25</th>\n",
       "      <td>4046.35</td>\n",
       "      <td>4046.35</td>\n",
       "      <td>4137.91</td>\n",
       "      <td>4137.91</td>\n",
       "      <td>4018.62</td>\n",
       "      <td>4018.62</td>\n",
       "      <td>4094.83</td>\n",
       "      <td>4094.83</td>\n",
       "      <td>208126.8805</td>\n",
       "      <td>208126.8805</td>\n",
       "    </tr>\n",
       "    <tr>\n",
       "      <th>2021-12-24</th>\n",
       "      <td>4111.41</td>\n",
       "      <td>4111.41</td>\n",
       "      <td>4134.84</td>\n",
       "      <td>4134.84</td>\n",
       "      <td>4017.17</td>\n",
       "      <td>4017.17</td>\n",
       "      <td>4046.36</td>\n",
       "      <td>4046.36</td>\n",
       "      <td>230833.1661</td>\n",
       "      <td>230833.1661</td>\n",
       "    </tr>\n",
       "    <tr>\n",
       "      <th>2021-12-23</th>\n",
       "      <td>3979.51</td>\n",
       "      <td>3979.51</td>\n",
       "      <td>4150.00</td>\n",
       "      <td>4150.00</td>\n",
       "      <td>3893.23</td>\n",
       "      <td>3893.23</td>\n",
       "      <td>4111.41</td>\n",
       "      <td>4111.41</td>\n",
       "      <td>380207.8166</td>\n",
       "      <td>380207.8166</td>\n",
       "    </tr>\n",
       "  </tbody>\n",
       "</table>\n",
       "</div>"
      ],
      "text/plain": [
       "            1a. open (USD)  1b. open (USD)  2a. high (USD)  2b. high (USD)  \\\n",
       "date                                                                         \n",
       "2021-12-27         4063.57         4063.57         4080.47         4080.47   \n",
       "2021-12-26         4094.36         4094.36         4105.00         4105.00   \n",
       "2021-12-25         4046.35         4046.35         4137.91         4137.91   \n",
       "2021-12-24         4111.41         4111.41         4134.84         4134.84   \n",
       "2021-12-23         3979.51         3979.51         4150.00         4150.00   \n",
       "\n",
       "            3a. low (USD)  3b. low (USD)  4a. close (USD)  4b. close (USD)  \\\n",
       "date                                                                         \n",
       "2021-12-27        4063.56        4063.56          4078.87          4078.87   \n",
       "2021-12-26        4000.00        4000.00          4063.56          4063.56   \n",
       "2021-12-25        4018.62        4018.62          4094.83          4094.83   \n",
       "2021-12-24        4017.17        4017.17          4046.36          4046.36   \n",
       "2021-12-23        3893.23        3893.23          4111.41          4111.41   \n",
       "\n",
       "              5. volume  6. market cap (USD)  \n",
       "date                                          \n",
       "2021-12-27    4084.7287            4084.7287  \n",
       "2021-12-26  189309.2550          189309.2550  \n",
       "2021-12-25  208126.8805          208126.8805  \n",
       "2021-12-24  230833.1661          230833.1661  \n",
       "2021-12-23  380207.8166          380207.8166  "
      ]
     },
     "execution_count": 53,
     "metadata": {},
     "output_type": "execute_result"
    }
   ],
   "source": [
    "df.head()"
   ]
  },
  {
   "cell_type": "code",
   "execution_count": 54,
   "metadata": {},
   "outputs": [],
   "source": [
    "# RUN ONCE\n",
    "\n",
    "# List of duplicate columns.\n",
    "duplicate_columns=['1b. open (USD)', '2b. high (USD)', '3b. low (USD)', '4b. close (USD)', '6. market cap (USD)']\n",
    "\n",
    "# Function to delete a list of columns.\n",
    "def delete_columns(dataframe, columns):\n",
    "    for i in columns:\n",
    "        del dataframe[i]\n",
    "    return dataframe\n",
    "\n",
    "# Function Call\n",
    "df = delete_columns(df, duplicate_columns)"
   ]
  },
  {
   "cell_type": "code",
   "execution_count": 55,
   "metadata": {},
   "outputs": [],
   "source": [
    "# Dictionary with original and new column names.\n",
    "new_col_names = {'1a. open (USD)': 'open',\n",
    "        '2a. high (USD)': 'high',\n",
    "        '3a. low (USD)': 'low',\n",
    "        '4a. close (USD)': 'close',\n",
    "        '5. volume': 'volume',}\n",
    "  \n",
    "# Call rename() method. \n",
    "df.rename(columns= new_col_names,\n",
    "          inplace=True)"
   ]
  },
  {
   "cell_type": "code",
   "execution_count": 56,
   "metadata": {},
   "outputs": [
    {
     "ename": "ValueError",
     "evalue": "Thank you for using Alpha Vantage! This is a premium endpoint and there are multiple ways to unlock premium endpoints: (1) become a holder of Alpha Vantage Coin (AVC), an Ethereum-based cryptocurrency that provides various utility & governance functions within the Alpha Vantage ecosystem (AVC mining guide: https://www.alphatournament.com/avc_mining_guide/) to unlock all premium endpoints, (2) subscribe to any of the premium plans at https://www.alphavantage.co/premium/ to instantly unlock all premium endpoints",
     "output_type": "error",
     "traceback": [
      "\u001b[0;31m---------------------------------------------------------------------------\u001b[0m",
      "\u001b[0;31mValueError\u001b[0m                                Traceback (most recent call last)",
      "\u001b[0;32m/tmp/ipykernel_465/3062528714.py\u001b[0m in \u001b[0;36m<module>\u001b[0;34m\u001b[0m\n\u001b[1;32m      6\u001b[0m \u001b[0;34m\u001b[0m\u001b[0m\n\u001b[1;32m      7\u001b[0m \u001b[0;31m# Collect data and meta data for ETH to USD daily MACD.\u001b[0m\u001b[0;34m\u001b[0m\u001b[0;34m\u001b[0m\u001b[0;34m\u001b[0m\u001b[0m\n\u001b[0;32m----> 8\u001b[0;31m \u001b[0mmacd_df\u001b[0m\u001b[0;34m,\u001b[0m \u001b[0mmacd_md\u001b[0m \u001b[0;34m=\u001b[0m \u001b[0mti\u001b[0m\u001b[0;34m.\u001b[0m\u001b[0mget_macd\u001b[0m\u001b[0;34m(\u001b[0m\u001b[0;34m'ETHUSD'\u001b[0m\u001b[0;34m,\u001b[0m \u001b[0minterval\u001b[0m\u001b[0;34m=\u001b[0m\u001b[0;34m'daily'\u001b[0m\u001b[0;34m,\u001b[0m \u001b[0mseries_type\u001b[0m\u001b[0;34m=\u001b[0m\u001b[0;34m'close'\u001b[0m\u001b[0;34m,\u001b[0m \u001b[0mfastperiod\u001b[0m\u001b[0;34m=\u001b[0m\u001b[0;36m12\u001b[0m\u001b[0;34m,\u001b[0m \u001b[0mslowperiod\u001b[0m\u001b[0;34m=\u001b[0m\u001b[0;36m26\u001b[0m\u001b[0;34m,\u001b[0m \u001b[0msignalperiod\u001b[0m\u001b[0;34m=\u001b[0m\u001b[0;36m9\u001b[0m\u001b[0;34m)\u001b[0m\u001b[0;34m\u001b[0m\u001b[0;34m\u001b[0m\u001b[0m\n\u001b[0m\u001b[1;32m      9\u001b[0m \u001b[0;34m\u001b[0m\u001b[0m\n\u001b[1;32m     10\u001b[0m \u001b[0;31m# Collect data and meta data for ETH to USD daily RSI.\u001b[0m\u001b[0;34m\u001b[0m\u001b[0;34m\u001b[0m\u001b[0;34m\u001b[0m\u001b[0m\n",
      "\u001b[0;32m~/.local/lib/python3.8/site-packages/alpha_vantage/alphavantage.py\u001b[0m in \u001b[0;36m_format_wrapper\u001b[0;34m(self, *args, **kwargs)\u001b[0m\n\u001b[1;32m    216\u001b[0m         \u001b[0;34m@\u001b[0m\u001b[0mwraps\u001b[0m\u001b[0;34m(\u001b[0m\u001b[0mfunc\u001b[0m\u001b[0;34m)\u001b[0m\u001b[0;34m\u001b[0m\u001b[0;34m\u001b[0m\u001b[0m\n\u001b[1;32m    217\u001b[0m         \u001b[0;32mdef\u001b[0m \u001b[0m_format_wrapper\u001b[0m\u001b[0;34m(\u001b[0m\u001b[0mself\u001b[0m\u001b[0;34m,\u001b[0m \u001b[0;34m*\u001b[0m\u001b[0margs\u001b[0m\u001b[0;34m,\u001b[0m \u001b[0;34m**\u001b[0m\u001b[0mkwargs\u001b[0m\u001b[0;34m)\u001b[0m\u001b[0;34m:\u001b[0m\u001b[0;34m\u001b[0m\u001b[0;34m\u001b[0m\u001b[0m\n\u001b[0;32m--> 218\u001b[0;31m             call_response, data_key, meta_data_key = func(\n\u001b[0m\u001b[1;32m    219\u001b[0m                 self, *args, **kwargs)\n\u001b[1;32m    220\u001b[0m             \u001b[0;32mif\u001b[0m \u001b[0;34m'json'\u001b[0m \u001b[0;32min\u001b[0m \u001b[0mself\u001b[0m\u001b[0;34m.\u001b[0m\u001b[0moutput_format\u001b[0m\u001b[0;34m.\u001b[0m\u001b[0mlower\u001b[0m\u001b[0;34m(\u001b[0m\u001b[0;34m)\u001b[0m \u001b[0;32mor\u001b[0m \u001b[0;34m'pandas'\u001b[0m\u001b[0;31m \u001b[0m\u001b[0;31m\\\u001b[0m\u001b[0;34m\u001b[0m\u001b[0;34m\u001b[0m\u001b[0m\n",
      "\u001b[0;32m~/.local/lib/python3.8/site-packages/alpha_vantage/alphavantage.py\u001b[0m in \u001b[0;36m_call_wrapper\u001b[0;34m(self, *args, **kwargs)\u001b[0m\n\u001b[1;32m    158\u001b[0m             \u001b[0;32melse\u001b[0m\u001b[0;34m:\u001b[0m\u001b[0;34m\u001b[0m\u001b[0;34m\u001b[0m\u001b[0m\n\u001b[1;32m    159\u001b[0m                 \u001b[0murl\u001b[0m \u001b[0;34m=\u001b[0m \u001b[0;34m'{}{}'\u001b[0m\u001b[0;34m.\u001b[0m\u001b[0mformat\u001b[0m\u001b[0;34m(\u001b[0m\u001b[0murl\u001b[0m\u001b[0;34m,\u001b[0m \u001b[0mapikey_parameter\u001b[0m\u001b[0;34m)\u001b[0m\u001b[0;34m\u001b[0m\u001b[0;34m\u001b[0m\u001b[0m\n\u001b[0;32m--> 160\u001b[0;31m             \u001b[0;32mreturn\u001b[0m \u001b[0mself\u001b[0m\u001b[0;34m.\u001b[0m\u001b[0m_handle_api_call\u001b[0m\u001b[0;34m(\u001b[0m\u001b[0murl\u001b[0m\u001b[0;34m)\u001b[0m\u001b[0;34m,\u001b[0m \u001b[0mdata_key\u001b[0m\u001b[0;34m,\u001b[0m \u001b[0mmeta_data_key\u001b[0m\u001b[0;34m\u001b[0m\u001b[0;34m\u001b[0m\u001b[0m\n\u001b[0m\u001b[1;32m    161\u001b[0m         \u001b[0;32mreturn\u001b[0m \u001b[0m_call_wrapper\u001b[0m\u001b[0;34m\u001b[0m\u001b[0;34m\u001b[0m\u001b[0m\n\u001b[1;32m    162\u001b[0m \u001b[0;34m\u001b[0m\u001b[0m\n",
      "\u001b[0;32m~/.local/lib/python3.8/site-packages/alpha_vantage/alphavantage.py\u001b[0m in \u001b[0;36m_handle_api_call\u001b[0;34m(self, url)\u001b[0m\n\u001b[1;32m    359\u001b[0m                 \u001b[0;32mraise\u001b[0m \u001b[0mValueError\u001b[0m\u001b[0;34m(\u001b[0m\u001b[0mjson_response\u001b[0m\u001b[0;34m[\u001b[0m\u001b[0;34m\"Error Message\"\u001b[0m\u001b[0;34m]\u001b[0m\u001b[0;34m)\u001b[0m\u001b[0;34m\u001b[0m\u001b[0;34m\u001b[0m\u001b[0m\n\u001b[1;32m    360\u001b[0m             \u001b[0;32melif\u001b[0m \u001b[0;34m\"Information\"\u001b[0m \u001b[0;32min\u001b[0m \u001b[0mjson_response\u001b[0m \u001b[0;32mand\u001b[0m \u001b[0mself\u001b[0m\u001b[0;34m.\u001b[0m\u001b[0mtreat_info_as_error\u001b[0m\u001b[0;34m:\u001b[0m\u001b[0;34m\u001b[0m\u001b[0;34m\u001b[0m\u001b[0m\n\u001b[0;32m--> 361\u001b[0;31m                 \u001b[0;32mraise\u001b[0m \u001b[0mValueError\u001b[0m\u001b[0;34m(\u001b[0m\u001b[0mjson_response\u001b[0m\u001b[0;34m[\u001b[0m\u001b[0;34m\"Information\"\u001b[0m\u001b[0;34m]\u001b[0m\u001b[0;34m)\u001b[0m\u001b[0;34m\u001b[0m\u001b[0;34m\u001b[0m\u001b[0m\n\u001b[0m\u001b[1;32m    362\u001b[0m             \u001b[0;32melif\u001b[0m \u001b[0;34m\"Note\"\u001b[0m \u001b[0;32min\u001b[0m \u001b[0mjson_response\u001b[0m \u001b[0;32mand\u001b[0m \u001b[0mself\u001b[0m\u001b[0;34m.\u001b[0m\u001b[0mtreat_info_as_error\u001b[0m\u001b[0;34m:\u001b[0m\u001b[0;34m\u001b[0m\u001b[0;34m\u001b[0m\u001b[0m\n\u001b[1;32m    363\u001b[0m                 \u001b[0;32mraise\u001b[0m \u001b[0mValueError\u001b[0m\u001b[0;34m(\u001b[0m\u001b[0mjson_response\u001b[0m\u001b[0;34m[\u001b[0m\u001b[0;34m\"Note\"\u001b[0m\u001b[0;34m]\u001b[0m\u001b[0;34m)\u001b[0m\u001b[0;34m\u001b[0m\u001b[0;34m\u001b[0m\u001b[0m\n",
      "\u001b[0;31mValueError\u001b[0m: Thank you for using Alpha Vantage! This is a premium endpoint and there are multiple ways to unlock premium endpoints: (1) become a holder of Alpha Vantage Coin (AVC), an Ethereum-based cryptocurrency that provides various utility & governance functions within the Alpha Vantage ecosystem (AVC mining guide: https://www.alphatournament.com/avc_mining_guide/) to unlock all premium endpoints, (2) subscribe to any of the premium plans at https://www.alphavantage.co/premium/ to instantly unlock all premium endpoints"
     ]
    }
   ],
   "source": [
    "# RUN ONCE\n",
    "\n",
    "# Technical Indicator object from alpha_vantage formatted for pandas.\n",
    "ti = TechIndicators(output_format='pandas')\n",
    "#help(app.get_macd)\n",
    "\n",
    "# Collect data and meta data for ETH to USD daily MACD.\n",
    "macd_df, macd_md = ti.get_macd('ETHUSD', interval='daily', series_type='close', fastperiod=12, slowperiod=26, signalperiod=9)\n",
    "\n",
    "# Collect data and meta data for ETH to USD daily RSI.\n",
    "rsi_df, rsi_md = ti.get_rsi('ETHUSD', interval='daily', time_period=14, series_type='close')\n",
    "\n",
    "# Collect data and meta data for ETH to USD daily BBands.\n",
    "bbands_df, bbands_md = ti.get_bbands('ETHUSD', interval='daily', time_period=20, series_type='close')"
   ]
  },
  {
   "cell_type": "code",
   "execution_count": null,
   "metadata": {},
   "outputs": [],
   "source": [
    "# RUN ONCE\n",
    "#df = df.join(macd_df, on='date')\n",
    "df = df.join(rsi_df, on='date')\n",
    "df = df.join(bbands_df, on='date')"
   ]
  },
  {
   "cell_type": "code",
   "execution_count": null,
   "metadata": {},
   "outputs": [],
   "source": [
    "# Dictionary with original and new column names.\n",
    "new_col_names = {'Real Upper Band': 'bband_up',\n",
    "        'Real Middle Band': 'bband_mid',\n",
    "        'Real Lower Band': 'bband_low',\n",
    "        'RSI': 'rsi'}\n",
    "  \n",
    "# Call rename() method. \n",
    "df.rename(columns= new_col_names,\n",
    "          inplace=True)"
   ]
  },
  {
   "cell_type": "code",
   "execution_count": null,
   "metadata": {},
   "outputs": [],
   "source": [
    "df.info()\n",
    "df.head()"
   ]
  }
 ],
 "metadata": {
  "interpreter": {
   "hash": "31f2aee4e71d21fbe5cf8b01ff0e069b9275f58929596ceb00d14d90e3e16cd6"
  },
  "kernelspec": {
   "display_name": "Python 3.8.10 64-bit",
   "language": "python",
   "name": "python3"
  },
  "language_info": {
   "codemirror_mode": {
    "name": "ipython",
    "version": 3
   },
   "file_extension": ".py",
   "mimetype": "text/x-python",
   "name": "python",
   "nbconvert_exporter": "python",
   "pygments_lexer": "ipython3",
   "version": "3.8.10"
  },
  "orig_nbformat": 4
 },
 "nbformat": 4,
 "nbformat_minor": 2
}
