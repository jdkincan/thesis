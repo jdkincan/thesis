{
 "cells": [
  {
   "cell_type": "code",
   "execution_count": 1,
   "metadata": {},
   "outputs": [],
   "source": [
    "# Import Dependencies\n",
    "import os\n",
    "from dotenv import load_dotenv\n",
    "import requests\n",
    "from alpha_vantage.cryptocurrencies import CryptoCurrencies\n",
    "from alpha_vantage.techindicators import TechIndicators\n",
    "import pandas as pd\n",
    "import matplotlib.pyplot as plt\n",
    "import seaborn as sns\n",
    "from datetime import datetime"
   ]
  },
  {
   "cell_type": "code",
   "execution_count": 2,
   "metadata": {},
   "outputs": [],
   "source": [
    "# RUN ONCE\n",
    "load_dotenv()\n",
    "API_KEY = os.getenv('SPECIAL_API_KEY')"
   ]
  },
  {
   "cell_type": "code",
   "execution_count": 3,
   "metadata": {},
   "outputs": [
    {
     "name": "stdout",
     "output_type": "stream",
     "text": [
      "https://www.alphavantage.co/query?function=CRYPTO_INTRADAY&symbol=ETH&market=USD&interval=5min&time_zone=US%2FEastern+Time&apikey=J1CWSFE0KTEO2I97\n",
      "dict_keys(['Meta Data', 'Time Series Crypto (5min)'])\n"
     ]
    }
   ],
   "source": [
    "# RUN ONCE\n",
    "params = {\n",
    " 'function': 'CRYPTO_INTRADAY',\n",
    " 'symbol': 'ETH',\n",
    " 'market': 'USD',\n",
    " 'interval': '5min',\n",
    " 'time_zone': 'US/Eastern Time',\n",
    " 'apikey': API_KEY\n",
    " }\n",
    "\n",
    "r = requests.get('https://www.alphavantage.co/query', params=params)\n",
    "print(r.url)\n",
    "price_data = r.json()\n",
    "print(price_data.keys())\n",
    "r.close()"
   ]
  },
  {
   "cell_type": "code",
   "execution_count": 4,
   "metadata": {},
   "outputs": [
    {
     "name": "stdout",
     "output_type": "stream",
     "text": [
      "{'1. Information': 'Crypto Intraday (5min) Time Series', '2. Digital Currency Code': 'ETH', '3. Digital Currency Name': 'Ethereum', '4. Market Code': 'USD', '5. Market Name': 'United States Dollar', '6. Last Refreshed': '2021-12-30 20:30:00', '7. Interval': '5min', '8. Output Size': 'Compact', '9. Time Zone': 'UTC'}\n"
     ]
    },
    {
     "name": "stderr",
     "output_type": "stream",
     "text": [
      "/tmp/ipykernel_195/2187447110.py:5: FutureWarning: In a future version of pandas all arguments of DataFrame.drop except for the argument 'labels' will be keyword-only\n",
      "  price_df = price_df.drop('index', 1)\n"
     ]
    },
    {
     "data": {
      "text/html": [
       "<div>\n",
       "<style scoped>\n",
       "    .dataframe tbody tr th:only-of-type {\n",
       "        vertical-align: middle;\n",
       "    }\n",
       "\n",
       "    .dataframe tbody tr th {\n",
       "        vertical-align: top;\n",
       "    }\n",
       "\n",
       "    .dataframe thead th {\n",
       "        text-align: right;\n",
       "    }\n",
       "</style>\n",
       "<table border=\"1\" class=\"dataframe\">\n",
       "  <thead>\n",
       "    <tr style=\"text-align: right;\">\n",
       "      <th></th>\n",
       "      <th>1. open</th>\n",
       "      <th>2. high</th>\n",
       "      <th>3. low</th>\n",
       "      <th>4. close</th>\n",
       "      <th>5. volume</th>\n",
       "      <th>date.utc</th>\n",
       "    </tr>\n",
       "  </thead>\n",
       "  <tbody>\n",
       "    <tr>\n",
       "      <th>0</th>\n",
       "      <td>3750.71000</td>\n",
       "      <td>3751.49000</td>\n",
       "      <td>3749.09000</td>\n",
       "      <td>3751.49000</td>\n",
       "      <td>49</td>\n",
       "      <td>2021-12-30 20:30:00</td>\n",
       "    </tr>\n",
       "    <tr>\n",
       "      <th>1</th>\n",
       "      <td>3754.86000</td>\n",
       "      <td>3757.44000</td>\n",
       "      <td>3747.96000</td>\n",
       "      <td>3750.71000</td>\n",
       "      <td>292</td>\n",
       "      <td>2021-12-30 20:25:00</td>\n",
       "    </tr>\n",
       "    <tr>\n",
       "      <th>2</th>\n",
       "      <td>3753.60000</td>\n",
       "      <td>3760.00000</td>\n",
       "      <td>3753.59000</td>\n",
       "      <td>3754.86000</td>\n",
       "      <td>346</td>\n",
       "      <td>2021-12-30 20:20:00</td>\n",
       "    </tr>\n",
       "    <tr>\n",
       "      <th>3</th>\n",
       "      <td>3746.19000</td>\n",
       "      <td>3754.86000</td>\n",
       "      <td>3746.17000</td>\n",
       "      <td>3753.59000</td>\n",
       "      <td>308</td>\n",
       "      <td>2021-12-30 20:15:00</td>\n",
       "    </tr>\n",
       "    <tr>\n",
       "      <th>4</th>\n",
       "      <td>3746.28000</td>\n",
       "      <td>3748.95000</td>\n",
       "      <td>3743.59000</td>\n",
       "      <td>3746.19000</td>\n",
       "      <td>305</td>\n",
       "      <td>2021-12-30 20:10:00</td>\n",
       "    </tr>\n",
       "  </tbody>\n",
       "</table>\n",
       "</div>"
      ],
      "text/plain": [
       "      1. open     2. high      3. low    4. close 5. volume  \\\n",
       "0  3750.71000  3751.49000  3749.09000  3751.49000        49   \n",
       "1  3754.86000  3757.44000  3747.96000  3750.71000       292   \n",
       "2  3753.60000  3760.00000  3753.59000  3754.86000       346   \n",
       "3  3746.19000  3754.86000  3746.17000  3753.59000       308   \n",
       "4  3746.28000  3748.95000  3743.59000  3746.19000       305   \n",
       "\n",
       "              date.utc  \n",
       "0  2021-12-30 20:30:00  \n",
       "1  2021-12-30 20:25:00  \n",
       "2  2021-12-30 20:20:00  \n",
       "3  2021-12-30 20:15:00  \n",
       "4  2021-12-30 20:10:00  "
      ]
     },
     "execution_count": 4,
     "metadata": {},
     "output_type": "execute_result"
    }
   ],
   "source": [
    "price_df = pd.DataFrame(price_data['Time Series Crypto (5min)']).T\n",
    "print(price_data['Meta Data'])\n",
    "price_df.reset_index(inplace=True)\n",
    "price_df['date.utc'] = price_df['index']\n",
    "price_df = price_df.drop('index', 1)\n",
    "price_df.head()"
   ]
  },
  {
   "cell_type": "code",
   "execution_count": 5,
   "metadata": {},
   "outputs": [
    {
     "name": "stdout",
     "output_type": "stream",
     "text": [
      "https://www.alphavantage.co/query?function=BBANDS&symbol=ETHUSD&interval=5min&time_period=20&series_type=close&apikey=J1CWSFE0KTEO2I97\n",
      "dict_keys(['Meta Data', 'Technical Analysis: BBANDS'])\n"
     ]
    }
   ],
   "source": [
    "# RUN ONCE\n",
    "params = {\n",
    " 'function': 'BBANDS',\n",
    " 'symbol': 'ETHUSD',\n",
    " 'interval': '5min',\n",
    " 'time_period': '20',\n",
    " 'series_type': 'close',\n",
    " 'apikey': API_KEY\n",
    " }\n",
    "\n",
    "r = requests.get('https://www.alphavantage.co/query', params=params)\n",
    "print(r.url)\n",
    "bband_data = r.json()\n",
    "print(bband_data.keys())\n",
    "r.close()"
   ]
  },
  {
   "cell_type": "code",
   "execution_count": 6,
   "metadata": {},
   "outputs": [
    {
     "name": "stdout",
     "output_type": "stream",
     "text": [
      "{'1: Symbol': 'ETHUSD', '2: Indicator': 'Bollinger Bands (BBANDS)', '3: Last Refreshed': '2021-12-30 15:30:00', '4: Interval': '5min', '5: Time Period': 20, '6.1: Deviation multiplier for upper band': 2, '6.2: Deviation multiplier for lower band': 2, '6.3: MA Type': 0, '7: Series Type': 'close', '8: Time Zone': 'US/Eastern Time'}\n"
     ]
    },
    {
     "name": "stderr",
     "output_type": "stream",
     "text": [
      "/tmp/ipykernel_195/2181832318.py:5: FutureWarning: In a future version of pandas all arguments of DataFrame.drop except for the argument 'labels' will be keyword-only\n",
      "  bbands_df = bbands_df.drop('index', 1)\n"
     ]
    },
    {
     "data": {
      "text/html": [
       "<div>\n",
       "<style scoped>\n",
       "    .dataframe tbody tr th:only-of-type {\n",
       "        vertical-align: middle;\n",
       "    }\n",
       "\n",
       "    .dataframe tbody tr th {\n",
       "        vertical-align: top;\n",
       "    }\n",
       "\n",
       "    .dataframe thead th {\n",
       "        text-align: right;\n",
       "    }\n",
       "</style>\n",
       "<table border=\"1\" class=\"dataframe\">\n",
       "  <thead>\n",
       "    <tr style=\"text-align: right;\">\n",
       "      <th></th>\n",
       "      <th>Real Upper Band</th>\n",
       "      <th>Real Lower Band</th>\n",
       "      <th>Real Middle Band</th>\n",
       "      <th>date.est1</th>\n",
       "    </tr>\n",
       "  </thead>\n",
       "  <tbody>\n",
       "    <tr>\n",
       "      <th>0</th>\n",
       "      <td>3765.5021</td>\n",
       "      <td>3744.0039</td>\n",
       "      <td>3754.7530</td>\n",
       "      <td>2021-12-30 15:30</td>\n",
       "    </tr>\n",
       "    <tr>\n",
       "      <th>1</th>\n",
       "      <td>3765.5382</td>\n",
       "      <td>3744.2408</td>\n",
       "      <td>3754.8895</td>\n",
       "      <td>2021-12-30 15:25</td>\n",
       "    </tr>\n",
       "    <tr>\n",
       "      <th>2</th>\n",
       "      <td>3766.1126</td>\n",
       "      <td>3742.9814</td>\n",
       "      <td>3754.5470</td>\n",
       "      <td>2021-12-30 15:20</td>\n",
       "    </tr>\n",
       "    <tr>\n",
       "      <th>3</th>\n",
       "      <td>3766.8461</td>\n",
       "      <td>3740.8549</td>\n",
       "      <td>3753.8505</td>\n",
       "      <td>2021-12-30 15:15</td>\n",
       "    </tr>\n",
       "    <tr>\n",
       "      <th>4</th>\n",
       "      <td>3767.4577</td>\n",
       "      <td>3738.9183</td>\n",
       "      <td>3753.1880</td>\n",
       "      <td>2021-12-30 15:10</td>\n",
       "    </tr>\n",
       "  </tbody>\n",
       "</table>\n",
       "</div>"
      ],
      "text/plain": [
       "  Real Upper Band Real Lower Band Real Middle Band         date.est1\n",
       "0       3765.5021       3744.0039        3754.7530  2021-12-30 15:30\n",
       "1       3765.5382       3744.2408        3754.8895  2021-12-30 15:25\n",
       "2       3766.1126       3742.9814        3754.5470  2021-12-30 15:20\n",
       "3       3766.8461       3740.8549        3753.8505  2021-12-30 15:15\n",
       "4       3767.4577       3738.9183        3753.1880  2021-12-30 15:10"
      ]
     },
     "execution_count": 6,
     "metadata": {},
     "output_type": "execute_result"
    }
   ],
   "source": [
    "bbands_df = pd.DataFrame(bband_data['Technical Analysis: BBANDS']).T\n",
    "print(bband_data['Meta Data'])\n",
    "bbands_df.reset_index(inplace=True)\n",
    "bbands_df['date.est1'] = bbands_df['index']\n",
    "bbands_df = bbands_df.drop('index', 1)\n",
    "bbands_df.head()"
   ]
  },
  {
   "cell_type": "code",
   "execution_count": 7,
   "metadata": {},
   "outputs": [
    {
     "name": "stdout",
     "output_type": "stream",
     "text": [
      "https://www.alphavantage.co/query?function=MACD&symbol=ETHUSD&interval=5min&series_type=close&apikey=J1CWSFE0KTEO2I97\n",
      "dict_keys(['Meta Data', 'Technical Analysis: MACD'])\n"
     ]
    }
   ],
   "source": [
    "# RUN ONCE\n",
    "params = {\n",
    " 'function': 'MACD',\n",
    " 'symbol': 'ETHUSD',\n",
    " 'interval': '5min',\n",
    " 'series_type': 'close',\n",
    " 'apikey': API_KEY\n",
    " }\n",
    "\n",
    "r = requests.get('https://www.alphavantage.co/query', params=params)\n",
    "print(r.url)\n",
    "macd_data = r.json()\n",
    "print(macd_data.keys())\n",
    "r.close()"
   ]
  },
  {
   "cell_type": "code",
   "execution_count": 8,
   "metadata": {},
   "outputs": [
    {
     "name": "stdout",
     "output_type": "stream",
     "text": [
      "{'1: Symbol': 'ETHUSD', '2: Indicator': 'Moving Average Convergence/Divergence (MACD)', '3: Last Refreshed': '2021-12-30 15:30:00', '4: Interval': '5min', '5.1: Fast Period': 12, '5.2: Slow Period': 26, '5.3: Signal Period': 9, '6: Series Type': 'close', '7: Time Zone': 'US/Eastern'}\n"
     ]
    },
    {
     "name": "stderr",
     "output_type": "stream",
     "text": [
      "/tmp/ipykernel_195/1630572137.py:5: FutureWarning: In a future version of pandas all arguments of DataFrame.drop except for the argument 'labels' will be keyword-only\n",
      "  macd_df = macd_df.drop('index', 1)\n"
     ]
    },
    {
     "data": {
      "text/html": [
       "<div>\n",
       "<style scoped>\n",
       "    .dataframe tbody tr th:only-of-type {\n",
       "        vertical-align: middle;\n",
       "    }\n",
       "\n",
       "    .dataframe tbody tr th {\n",
       "        vertical-align: top;\n",
       "    }\n",
       "\n",
       "    .dataframe thead th {\n",
       "        text-align: right;\n",
       "    }\n",
       "</style>\n",
       "<table border=\"1\" class=\"dataframe\">\n",
       "  <thead>\n",
       "    <tr style=\"text-align: right;\">\n",
       "      <th></th>\n",
       "      <th>MACD_Signal</th>\n",
       "      <th>MACD</th>\n",
       "      <th>MACD_Hist</th>\n",
       "      <th>date.est2</th>\n",
       "    </tr>\n",
       "  </thead>\n",
       "  <tbody>\n",
       "    <tr>\n",
       "      <th>0</th>\n",
       "      <td>2.2129</td>\n",
       "      <td>1.1451</td>\n",
       "      <td>-1.0678</td>\n",
       "      <td>2021-12-30 15:30</td>\n",
       "    </tr>\n",
       "    <tr>\n",
       "      <th>1</th>\n",
       "      <td>2.4799</td>\n",
       "      <td>1.3149</td>\n",
       "      <td>-1.1650</td>\n",
       "      <td>2021-12-30 15:25</td>\n",
       "    </tr>\n",
       "    <tr>\n",
       "      <th>2</th>\n",
       "      <td>2.7711</td>\n",
       "      <td>1.5920</td>\n",
       "      <td>-1.1791</td>\n",
       "      <td>2021-12-30 15:20</td>\n",
       "    </tr>\n",
       "    <tr>\n",
       "      <th>3</th>\n",
       "      <td>3.0659</td>\n",
       "      <td>1.5000</td>\n",
       "      <td>-1.5660</td>\n",
       "      <td>2021-12-30 15:15</td>\n",
       "    </tr>\n",
       "    <tr>\n",
       "      <th>4</th>\n",
       "      <td>3.4574</td>\n",
       "      <td>1.4900</td>\n",
       "      <td>-1.9674</td>\n",
       "      <td>2021-12-30 15:10</td>\n",
       "    </tr>\n",
       "  </tbody>\n",
       "</table>\n",
       "</div>"
      ],
      "text/plain": [
       "  MACD_Signal    MACD MACD_Hist         date.est2\n",
       "0      2.2129  1.1451   -1.0678  2021-12-30 15:30\n",
       "1      2.4799  1.3149   -1.1650  2021-12-30 15:25\n",
       "2      2.7711  1.5920   -1.1791  2021-12-30 15:20\n",
       "3      3.0659  1.5000   -1.5660  2021-12-30 15:15\n",
       "4      3.4574  1.4900   -1.9674  2021-12-30 15:10"
      ]
     },
     "execution_count": 8,
     "metadata": {},
     "output_type": "execute_result"
    }
   ],
   "source": [
    "macd_df = pd.DataFrame(macd_data['Technical Analysis: MACD']).T\n",
    "print(macd_data['Meta Data'])\n",
    "macd_df.reset_index(inplace=True)\n",
    "macd_df['date.est2'] = macd_df['index']\n",
    "macd_df = macd_df.drop('index', 1)\n",
    "macd_df.head()"
   ]
  },
  {
   "cell_type": "code",
   "execution_count": 9,
   "metadata": {},
   "outputs": [
    {
     "name": "stdout",
     "output_type": "stream",
     "text": [
      "https://www.alphavantage.co/query?function=VWAP&symbol=ETHUSD&interval=5min&apikey=J1CWSFE0KTEO2I97\n",
      "dict_keys(['Meta Data', 'Technical Analysis: VWAP'])\n"
     ]
    }
   ],
   "source": [
    "# RUN ONCE\n",
    "params = {\n",
    " 'function': 'VWAP',\n",
    " 'symbol': 'ETHUSD',\n",
    " 'interval': '5min',\n",
    " 'apikey': API_KEY\n",
    " }\n",
    "\n",
    "r = requests.get('https://www.alphavantage.co/query', params=params)\n",
    "print(r.url)\n",
    "vwap_data = r.json()\n",
    "print(vwap_data.keys())\n",
    "r.close()"
   ]
  },
  {
   "cell_type": "code",
   "execution_count": 10,
   "metadata": {},
   "outputs": [
    {
     "name": "stdout",
     "output_type": "stream",
     "text": [
      "{'1: Symbol': 'ETHUSD', '2: Indicator': 'Volume Weighted Average Price (VWAP)', '3: Last Refreshed': '2021-12-30 15:30:00', '4: Interval': '5min', '5: Time Zone': 'US/Eastern'}\n"
     ]
    },
    {
     "name": "stderr",
     "output_type": "stream",
     "text": [
      "/tmp/ipykernel_195/3144706710.py:5: FutureWarning: In a future version of pandas all arguments of DataFrame.drop except for the argument 'labels' will be keyword-only\n",
      "  vwap_df = vwap_df.drop('index', 1)\n"
     ]
    },
    {
     "data": {
      "text/html": [
       "<div>\n",
       "<style scoped>\n",
       "    .dataframe tbody tr th:only-of-type {\n",
       "        vertical-align: middle;\n",
       "    }\n",
       "\n",
       "    .dataframe tbody tr th {\n",
       "        vertical-align: top;\n",
       "    }\n",
       "\n",
       "    .dataframe thead th {\n",
       "        text-align: right;\n",
       "    }\n",
       "</style>\n",
       "<table border=\"1\" class=\"dataframe\">\n",
       "  <thead>\n",
       "    <tr style=\"text-align: right;\">\n",
       "      <th></th>\n",
       "      <th>VWAP</th>\n",
       "      <th>date.est3</th>\n",
       "    </tr>\n",
       "  </thead>\n",
       "  <tbody>\n",
       "    <tr>\n",
       "      <th>0</th>\n",
       "      <td>3719.1712</td>\n",
       "      <td>2021-12-30 15:30</td>\n",
       "    </tr>\n",
       "    <tr>\n",
       "      <th>1</th>\n",
       "      <td>3719.1609</td>\n",
       "      <td>2021-12-30 15:25</td>\n",
       "    </tr>\n",
       "    <tr>\n",
       "      <th>2</th>\n",
       "      <td>3719.0975</td>\n",
       "      <td>2021-12-30 15:20</td>\n",
       "    </tr>\n",
       "    <tr>\n",
       "      <th>3</th>\n",
       "      <td>3719.0127</td>\n",
       "      <td>2021-12-30 15:15</td>\n",
       "    </tr>\n",
       "    <tr>\n",
       "      <th>4</th>\n",
       "      <td>3718.9461</td>\n",
       "      <td>2021-12-30 15:10</td>\n",
       "    </tr>\n",
       "  </tbody>\n",
       "</table>\n",
       "</div>"
      ],
      "text/plain": [
       "        VWAP         date.est3\n",
       "0  3719.1712  2021-12-30 15:30\n",
       "1  3719.1609  2021-12-30 15:25\n",
       "2  3719.0975  2021-12-30 15:20\n",
       "3  3719.0127  2021-12-30 15:15\n",
       "4  3718.9461  2021-12-30 15:10"
      ]
     },
     "execution_count": 10,
     "metadata": {},
     "output_type": "execute_result"
    }
   ],
   "source": [
    "vwap_df = pd.DataFrame(vwap_data['Technical Analysis: VWAP']).T\n",
    "print(vwap_data['Meta Data'])\n",
    "vwap_df.reset_index(inplace=True)\n",
    "vwap_df['date.est3'] = vwap_df['index']\n",
    "vwap_df = vwap_df.drop('index', 1)\n",
    "vwap_df.head()"
   ]
  },
  {
   "cell_type": "code",
   "execution_count": 11,
   "metadata": {},
   "outputs": [
    {
     "data": {
      "text/html": [
       "<div>\n",
       "<style scoped>\n",
       "    .dataframe tbody tr th:only-of-type {\n",
       "        vertical-align: middle;\n",
       "    }\n",
       "\n",
       "    .dataframe tbody tr th {\n",
       "        vertical-align: top;\n",
       "    }\n",
       "\n",
       "    .dataframe thead th {\n",
       "        text-align: right;\n",
       "    }\n",
       "</style>\n",
       "<table border=\"1\" class=\"dataframe\">\n",
       "  <thead>\n",
       "    <tr style=\"text-align: right;\">\n",
       "      <th></th>\n",
       "      <th>1. open</th>\n",
       "      <th>2. high</th>\n",
       "      <th>3. low</th>\n",
       "      <th>4. close</th>\n",
       "      <th>5. volume</th>\n",
       "      <th>date.utc</th>\n",
       "      <th>Real Upper Band</th>\n",
       "      <th>Real Lower Band</th>\n",
       "      <th>Real Middle Band</th>\n",
       "      <th>date.est1</th>\n",
       "      <th>MACD_Signal</th>\n",
       "      <th>MACD</th>\n",
       "      <th>MACD_Hist</th>\n",
       "      <th>date.est2</th>\n",
       "      <th>VWAP</th>\n",
       "      <th>date.est3</th>\n",
       "    </tr>\n",
       "  </thead>\n",
       "  <tbody>\n",
       "    <tr>\n",
       "      <th>0</th>\n",
       "      <td>3750.71000</td>\n",
       "      <td>3751.49000</td>\n",
       "      <td>3749.09000</td>\n",
       "      <td>3751.49000</td>\n",
       "      <td>49</td>\n",
       "      <td>2021-12-30 20:30:00</td>\n",
       "      <td>3765.5021</td>\n",
       "      <td>3744.0039</td>\n",
       "      <td>3754.7530</td>\n",
       "      <td>2021-12-30 15:30</td>\n",
       "      <td>2.2129</td>\n",
       "      <td>1.1451</td>\n",
       "      <td>-1.0678</td>\n",
       "      <td>2021-12-30 15:30</td>\n",
       "      <td>3719.1712</td>\n",
       "      <td>2021-12-30 15:30</td>\n",
       "    </tr>\n",
       "    <tr>\n",
       "      <th>1</th>\n",
       "      <td>3754.86000</td>\n",
       "      <td>3757.44000</td>\n",
       "      <td>3747.96000</td>\n",
       "      <td>3750.71000</td>\n",
       "      <td>292</td>\n",
       "      <td>2021-12-30 20:25:00</td>\n",
       "      <td>3765.5382</td>\n",
       "      <td>3744.2408</td>\n",
       "      <td>3754.8895</td>\n",
       "      <td>2021-12-30 15:25</td>\n",
       "      <td>2.4799</td>\n",
       "      <td>1.3149</td>\n",
       "      <td>-1.1650</td>\n",
       "      <td>2021-12-30 15:25</td>\n",
       "      <td>3719.1609</td>\n",
       "      <td>2021-12-30 15:25</td>\n",
       "    </tr>\n",
       "    <tr>\n",
       "      <th>2</th>\n",
       "      <td>3753.60000</td>\n",
       "      <td>3760.00000</td>\n",
       "      <td>3753.59000</td>\n",
       "      <td>3754.86000</td>\n",
       "      <td>346</td>\n",
       "      <td>2021-12-30 20:20:00</td>\n",
       "      <td>3766.1126</td>\n",
       "      <td>3742.9814</td>\n",
       "      <td>3754.5470</td>\n",
       "      <td>2021-12-30 15:20</td>\n",
       "      <td>2.7711</td>\n",
       "      <td>1.5920</td>\n",
       "      <td>-1.1791</td>\n",
       "      <td>2021-12-30 15:20</td>\n",
       "      <td>3719.0975</td>\n",
       "      <td>2021-12-30 15:20</td>\n",
       "    </tr>\n",
       "    <tr>\n",
       "      <th>3</th>\n",
       "      <td>3746.19000</td>\n",
       "      <td>3754.86000</td>\n",
       "      <td>3746.17000</td>\n",
       "      <td>3753.59000</td>\n",
       "      <td>308</td>\n",
       "      <td>2021-12-30 20:15:00</td>\n",
       "      <td>3766.8461</td>\n",
       "      <td>3740.8549</td>\n",
       "      <td>3753.8505</td>\n",
       "      <td>2021-12-30 15:15</td>\n",
       "      <td>3.0659</td>\n",
       "      <td>1.5000</td>\n",
       "      <td>-1.5660</td>\n",
       "      <td>2021-12-30 15:15</td>\n",
       "      <td>3719.0127</td>\n",
       "      <td>2021-12-30 15:15</td>\n",
       "    </tr>\n",
       "    <tr>\n",
       "      <th>4</th>\n",
       "      <td>3746.28000</td>\n",
       "      <td>3748.95000</td>\n",
       "      <td>3743.59000</td>\n",
       "      <td>3746.19000</td>\n",
       "      <td>305</td>\n",
       "      <td>2021-12-30 20:10:00</td>\n",
       "      <td>3767.4577</td>\n",
       "      <td>3738.9183</td>\n",
       "      <td>3753.1880</td>\n",
       "      <td>2021-12-30 15:10</td>\n",
       "      <td>3.4574</td>\n",
       "      <td>1.4900</td>\n",
       "      <td>-1.9674</td>\n",
       "      <td>2021-12-30 15:10</td>\n",
       "      <td>3718.9461</td>\n",
       "      <td>2021-12-30 15:10</td>\n",
       "    </tr>\n",
       "  </tbody>\n",
       "</table>\n",
       "</div>"
      ],
      "text/plain": [
       "      1. open     2. high      3. low    4. close 5. volume  \\\n",
       "0  3750.71000  3751.49000  3749.09000  3751.49000        49   \n",
       "1  3754.86000  3757.44000  3747.96000  3750.71000       292   \n",
       "2  3753.60000  3760.00000  3753.59000  3754.86000       346   \n",
       "3  3746.19000  3754.86000  3746.17000  3753.59000       308   \n",
       "4  3746.28000  3748.95000  3743.59000  3746.19000       305   \n",
       "\n",
       "              date.utc Real Upper Band Real Lower Band Real Middle Band  \\\n",
       "0  2021-12-30 20:30:00       3765.5021       3744.0039        3754.7530   \n",
       "1  2021-12-30 20:25:00       3765.5382       3744.2408        3754.8895   \n",
       "2  2021-12-30 20:20:00       3766.1126       3742.9814        3754.5470   \n",
       "3  2021-12-30 20:15:00       3766.8461       3740.8549        3753.8505   \n",
       "4  2021-12-30 20:10:00       3767.4577       3738.9183        3753.1880   \n",
       "\n",
       "          date.est1 MACD_Signal    MACD MACD_Hist         date.est2  \\\n",
       "0  2021-12-30 15:30      2.2129  1.1451   -1.0678  2021-12-30 15:30   \n",
       "1  2021-12-30 15:25      2.4799  1.3149   -1.1650  2021-12-30 15:25   \n",
       "2  2021-12-30 15:20      2.7711  1.5920   -1.1791  2021-12-30 15:20   \n",
       "3  2021-12-30 15:15      3.0659  1.5000   -1.5660  2021-12-30 15:15   \n",
       "4  2021-12-30 15:10      3.4574  1.4900   -1.9674  2021-12-30 15:10   \n",
       "\n",
       "        VWAP         date.est3  \n",
       "0  3719.1712  2021-12-30 15:30  \n",
       "1  3719.1609  2021-12-30 15:25  \n",
       "2  3719.0975  2021-12-30 15:20  \n",
       "3  3719.0127  2021-12-30 15:15  \n",
       "4  3718.9461  2021-12-30 15:10  "
      ]
     },
     "execution_count": 11,
     "metadata": {},
     "output_type": "execute_result"
    }
   ],
   "source": [
    "df = price_df.join(bbands_df, how = 'left')\n",
    "df = df.join(macd_df, how = 'left')\n",
    "df = df.join(vwap_df, how = 'left')\n",
    "df.head()"
   ]
  },
  {
   "cell_type": "code",
   "execution_count": 12,
   "metadata": {},
   "outputs": [],
   "source": [
    "# Dictionary with original and new column names.\n",
    "new_col_names = {'1. open': 'open',\n",
    "        '2. high': 'high',\n",
    "        '3. low': 'low',\n",
    "        '4. close': 'close',\n",
    "        '5. volume': 'volume',\n",
    "        'Real Middle Band': 'bband.mid',\n",
    "        'Real Upper Band': 'bband.up',\n",
    "        'Real Lower Band': 'bband.low',\n",
    "        'MACD_Signal': 'macd.sig',\n",
    "        'MACD_Hist': 'macd.hist',\n",
    "        'MACD': 'macd',\n",
    "        'VWAP': 'vwap'}\n",
    "  \n",
    "# Call rename() method. \n",
    "df.rename(columns= new_col_names,\n",
    "          inplace=True)"
   ]
  },
  {
   "cell_type": "code",
   "execution_count": 13,
   "metadata": {},
   "outputs": [
    {
     "name": "stderr",
     "output_type": "stream",
     "text": [
      "/tmp/ipykernel_195/1508849808.py:1: FutureWarning: In a future version of pandas all arguments of DataFrame.drop except for the argument 'labels' will be keyword-only\n",
      "  df = df.drop(['date.est1', 'date.est2', 'date.est3'], 1)\n"
     ]
    }
   ],
   "source": [
    "df = df.drop(['date.est1', 'date.est2', 'date.est3'], 1)\n",
    "df['date.utc'] = pd.to_datetime(df['date.utc'])\n",
    "df = df.set_index('date.utc')"
   ]
  },
  {
   "cell_type": "code",
   "execution_count": 14,
   "metadata": {},
   "outputs": [],
   "source": [
    "df['open'] = df['open'].astype(str).astype(float)\n",
    "df['high'] = df['high'].astype(str).astype(float)\n",
    "df['low'] = df['low'].astype(str).astype(float)\n",
    "df['close'] = df['close'].astype(str).astype(float)\n",
    "df['volume'] = df['volume'].astype(str).astype(float)\n",
    "df['bband.low'] = df['bband.low'].astype(str).astype(float)\n",
    "df['bband.up'] = df['bband.up'].astype(str).astype(float)\n",
    "df['bband.mid'] = df['bband.mid'].astype(str).astype(float)\n",
    "df['macd'] = df['macd'].astype(str).astype(float)\n",
    "df['macd.hist'] = df['macd.hist'].astype(str).astype(float)\n",
    "df['macd.sig'] = df['macd.sig'].astype(str).astype(float)\n",
    "df['vwap'] = df['vwap'].astype(str).astype(float)"
   ]
  },
  {
   "cell_type": "code",
   "execution_count": 15,
   "metadata": {},
   "outputs": [
    {
     "name": "stdout",
     "output_type": "stream",
     "text": [
      "<class 'pandas.core.frame.DataFrame'>\n",
      "DatetimeIndex: 100 entries, 2021-12-30 20:30:00 to 2021-12-30 12:15:00\n",
      "Data columns (total 12 columns):\n",
      " #   Column     Non-Null Count  Dtype  \n",
      "---  ------     --------------  -----  \n",
      " 0   open       100 non-null    float64\n",
      " 1   high       100 non-null    float64\n",
      " 2   low        100 non-null    float64\n",
      " 3   close      100 non-null    float64\n",
      " 4   volume     100 non-null    float64\n",
      " 5   bband.up   100 non-null    float64\n",
      " 6   bband.low  100 non-null    float64\n",
      " 7   bband.mid  100 non-null    float64\n",
      " 8   macd.sig   100 non-null    float64\n",
      " 9   macd       100 non-null    float64\n",
      " 10  macd.hist  100 non-null    float64\n",
      " 11  vwap       100 non-null    float64\n",
      "dtypes: float64(12)\n",
      "memory usage: 10.2 KB\n",
      "None\n"
     ]
    }
   ],
   "source": [
    "print(df.info())"
   ]
  },
  {
   "cell_type": "code",
   "execution_count": 16,
   "metadata": {},
   "outputs": [
    {
     "data": {
      "text/html": [
       "<div>\n",
       "<style scoped>\n",
       "    .dataframe tbody tr th:only-of-type {\n",
       "        vertical-align: middle;\n",
       "    }\n",
       "\n",
       "    .dataframe tbody tr th {\n",
       "        vertical-align: top;\n",
       "    }\n",
       "\n",
       "    .dataframe thead th {\n",
       "        text-align: right;\n",
       "    }\n",
       "</style>\n",
       "<table border=\"1\" class=\"dataframe\">\n",
       "  <thead>\n",
       "    <tr style=\"text-align: right;\">\n",
       "      <th></th>\n",
       "      <th>open</th>\n",
       "      <th>high</th>\n",
       "      <th>low</th>\n",
       "      <th>close</th>\n",
       "      <th>volume</th>\n",
       "      <th>bband.up</th>\n",
       "      <th>bband.low</th>\n",
       "      <th>bband.mid</th>\n",
       "      <th>macd.sig</th>\n",
       "      <th>macd</th>\n",
       "      <th>macd.hist</th>\n",
       "      <th>vwap</th>\n",
       "    </tr>\n",
       "    <tr>\n",
       "      <th>date.utc</th>\n",
       "      <th></th>\n",
       "      <th></th>\n",
       "      <th></th>\n",
       "      <th></th>\n",
       "      <th></th>\n",
       "      <th></th>\n",
       "      <th></th>\n",
       "      <th></th>\n",
       "      <th></th>\n",
       "      <th></th>\n",
       "      <th></th>\n",
       "      <th></th>\n",
       "    </tr>\n",
       "  </thead>\n",
       "  <tbody>\n",
       "    <tr>\n",
       "      <th>2021-12-30 20:30:00</th>\n",
       "      <td>3750.71</td>\n",
       "      <td>3751.49</td>\n",
       "      <td>3749.09</td>\n",
       "      <td>3751.49</td>\n",
       "      <td>49.0</td>\n",
       "      <td>3765.5021</td>\n",
       "      <td>3744.0039</td>\n",
       "      <td>3754.7530</td>\n",
       "      <td>2.2129</td>\n",
       "      <td>1.1451</td>\n",
       "      <td>-1.0678</td>\n",
       "      <td>3719.1712</td>\n",
       "    </tr>\n",
       "    <tr>\n",
       "      <th>2021-12-30 20:25:00</th>\n",
       "      <td>3754.86</td>\n",
       "      <td>3757.44</td>\n",
       "      <td>3747.96</td>\n",
       "      <td>3750.71</td>\n",
       "      <td>292.0</td>\n",
       "      <td>3765.5382</td>\n",
       "      <td>3744.2408</td>\n",
       "      <td>3754.8895</td>\n",
       "      <td>2.4799</td>\n",
       "      <td>1.3149</td>\n",
       "      <td>-1.1650</td>\n",
       "      <td>3719.1609</td>\n",
       "    </tr>\n",
       "    <tr>\n",
       "      <th>2021-12-30 20:20:00</th>\n",
       "      <td>3753.60</td>\n",
       "      <td>3760.00</td>\n",
       "      <td>3753.59</td>\n",
       "      <td>3754.86</td>\n",
       "      <td>346.0</td>\n",
       "      <td>3766.1126</td>\n",
       "      <td>3742.9814</td>\n",
       "      <td>3754.5470</td>\n",
       "      <td>2.7711</td>\n",
       "      <td>1.5920</td>\n",
       "      <td>-1.1791</td>\n",
       "      <td>3719.0975</td>\n",
       "    </tr>\n",
       "    <tr>\n",
       "      <th>2021-12-30 20:15:00</th>\n",
       "      <td>3746.19</td>\n",
       "      <td>3754.86</td>\n",
       "      <td>3746.17</td>\n",
       "      <td>3753.59</td>\n",
       "      <td>308.0</td>\n",
       "      <td>3766.8461</td>\n",
       "      <td>3740.8549</td>\n",
       "      <td>3753.8505</td>\n",
       "      <td>3.0659</td>\n",
       "      <td>1.5000</td>\n",
       "      <td>-1.5660</td>\n",
       "      <td>3719.0127</td>\n",
       "    </tr>\n",
       "    <tr>\n",
       "      <th>2021-12-30 20:10:00</th>\n",
       "      <td>3746.28</td>\n",
       "      <td>3748.95</td>\n",
       "      <td>3743.59</td>\n",
       "      <td>3746.19</td>\n",
       "      <td>305.0</td>\n",
       "      <td>3767.4577</td>\n",
       "      <td>3738.9183</td>\n",
       "      <td>3753.1880</td>\n",
       "      <td>3.4574</td>\n",
       "      <td>1.4900</td>\n",
       "      <td>-1.9674</td>\n",
       "      <td>3718.9461</td>\n",
       "    </tr>\n",
       "  </tbody>\n",
       "</table>\n",
       "</div>"
      ],
      "text/plain": [
       "                        open     high      low    close  volume   bband.up  \\\n",
       "date.utc                                                                     \n",
       "2021-12-30 20:30:00  3750.71  3751.49  3749.09  3751.49    49.0  3765.5021   \n",
       "2021-12-30 20:25:00  3754.86  3757.44  3747.96  3750.71   292.0  3765.5382   \n",
       "2021-12-30 20:20:00  3753.60  3760.00  3753.59  3754.86   346.0  3766.1126   \n",
       "2021-12-30 20:15:00  3746.19  3754.86  3746.17  3753.59   308.0  3766.8461   \n",
       "2021-12-30 20:10:00  3746.28  3748.95  3743.59  3746.19   305.0  3767.4577   \n",
       "\n",
       "                     bband.low  bband.mid  macd.sig    macd  macd.hist  \\\n",
       "date.utc                                                                 \n",
       "2021-12-30 20:30:00  3744.0039  3754.7530    2.2129  1.1451    -1.0678   \n",
       "2021-12-30 20:25:00  3744.2408  3754.8895    2.4799  1.3149    -1.1650   \n",
       "2021-12-30 20:20:00  3742.9814  3754.5470    2.7711  1.5920    -1.1791   \n",
       "2021-12-30 20:15:00  3740.8549  3753.8505    3.0659  1.5000    -1.5660   \n",
       "2021-12-30 20:10:00  3738.9183  3753.1880    3.4574  1.4900    -1.9674   \n",
       "\n",
       "                          vwap  \n",
       "date.utc                        \n",
       "2021-12-30 20:30:00  3719.1712  \n",
       "2021-12-30 20:25:00  3719.1609  \n",
       "2021-12-30 20:20:00  3719.0975  \n",
       "2021-12-30 20:15:00  3719.0127  \n",
       "2021-12-30 20:10:00  3718.9461  "
      ]
     },
     "execution_count": 16,
     "metadata": {},
     "output_type": "execute_result"
    }
   ],
   "source": [
    "df.head()"
   ]
  },
  {
   "cell_type": "code",
   "execution_count": 17,
   "metadata": {},
   "outputs": [
    {
     "data": {
      "image/png": "[encoded data removed]",
      "text/plain": [
       "<Figure size 432x288 with 1 Axes>"
      ]
     },
     "metadata": {
      "needs_background": "light"
     },
     "output_type": "display_data"
    }
   ],
   "source": [
    "# Case Study 5\n",
    "# Define figure and axis\n",
    "fig, axs = plt.subplots(1,1)\n",
    "\n",
    "# Set title and axes labels\n",
    "axs.set_title(\"ETH Close Price With BBands Overlay\")\n",
    "axs.set_xlabel(\"Date\")\n",
    "axs.set_ylabel(\"Price (USD)\")\n",
    "\n",
    "# Create the plot \n",
    "axs.plot(df['close'], \"-\", label = \"Close Price\", color = \"green\")\n",
    "axs.plot(df['bband.up'], \"--\", label = \"BB Upper\", color = \"red\")\n",
    "axs.plot(df['bband.mid'], \"--\", label = \"BB Middle\", color = \"blue\")\n",
    "axs.plot(df['bband.low'], \"--\", label = \"BB Low\", color = \"red\")\n",
    "axs.legend(title = \"Legend\", fontsize = 8, bbox_to_anchor=(1.25, .6), loc=\"upper right\")\n",
    "plt.xticks(rotation=45)\n",
    "\n",
    "# Show \n",
    "plt.show()"
   ]
  },
  {
   "cell_type": "code",
   "execution_count": 18,
   "metadata": {},
   "outputs": [
    {
     "data": {
      "image/png": "[encoded data removed]",
      "text/plain": [
       "<Figure size 432x288 with 2 Axes>"
      ]
     },
     "metadata": {
      "needs_background": "light"
     },
     "output_type": "display_data"
    }
   ],
   "source": [
    "# Define figure and axis\n",
    "fig, axs = plt.subplots(2,1, sharex=True)\n",
    "\n",
    "# Set title and axes labels\n",
    "fig.suptitle(t = \"ETH Close Price and MACD\", fontsize = 16)\n",
    "#axs.set_title(\"ETH Close Price With MACD Overlay\")\n",
    "\n",
    "axs[1].set_xlabel(\"Date\")\n",
    "axs[0].set_ylabel(\"Price (USD)\")\n",
    "axs[1].set_ylabel(\"MACD\")\n",
    "\n",
    "\n",
    "    \n",
    "# Create the plot \n",
    "axs[0].plot(df['close'], \"-\", label = \"Close Price\", color = \"green\")\n",
    "\n",
    "axs[1].plot(df['macd'], \"--\", label = \"MACD\", color = \"red\")\n",
    "axs[1].plot(df['macd.sig'], \"--\", label = \"Signal\", color = \"orange\")\n",
    "axs[1].plot(df['macd.hist'], \"-\", label = \"History\", color = \"blue\")\n",
    "axs[1].legend(title = \"Legend\", fontsize = 8, bbox_to_anchor=(1.25, .6), loc=\"upper right\")\n",
    "plt.xticks(rotation=45)\n",
    "axs[1].axhline(y=0, color = 'black')\n",
    "\n",
    "# Show \n",
    "plt.show()"
   ]
  },
  {
   "cell_type": "code",
   "execution_count": 19,
   "metadata": {},
   "outputs": [
    {
     "data": {
      "image/png": "[encoded data removed]",
      "text/plain": [
       "<Figure size 432x288 with 2 Axes>"
      ]
     },
     "metadata": {
      "needs_background": "light"
     },
     "output_type": "display_data"
    }
   ],
   "source": [
    "# Define figure and axis\n",
    "fig, axs = plt.subplots(2,1, sharex=True)\n",
    "\n",
    "# Set title and axes labels\n",
    "fig.suptitle(t = \"ETH Close Price, VWAP, and Volume\", fontsize = 16)\n",
    "#axs.set_title(\"ETH Close Price With MACD Overlay\")\n",
    "\n",
    "axs[1].set_xlabel(\"Date\")\n",
    "axs[0].set_ylabel(\"Price (USD)\")\n",
    "axs[1].set_ylabel(\"Volume\")\n",
    "\n",
    "\n",
    "    \n",
    "# Create the plot \n",
    "axs[0].plot(df['close'], \"-\", label = \"Close Price\", color = \"green\")\n",
    "axs[0].plot(df['vwap'], \"--\", label = \"VWAP\", color = \"red\")\n",
    "\n",
    "axs[1].plot(df['volume'], \"-\", label = \"Volume\", color = \"blue\")\n",
    "\n",
    "plt.legend(title = \"Legend\", fontsize = 8, bbox_to_anchor=(1.25, .6), loc=\"upper right\")\n",
    "plt.xticks(rotation=45)\n",
    "axs[1].axhline(y=0, color = 'black')\n",
    "\n",
    "# Show \n",
    "plt.show()"
   ]
  },
  {
   "cell_type": "code",
   "execution_count": 20,
   "metadata": {},
   "outputs": [],
   "source": [
    "# begin trading strategy"
   ]
  }
 ],
 "metadata": {
  "interpreter": {
   "hash": "31f2aee4e71d21fbe5cf8b01ff0e069b9275f58929596ceb00d14d90e3e16cd6"
  },
  "kernelspec": {
   "display_name": "Python 3.8.10 64-bit",
   "language": "python",
   "name": "python3"
  },
  "language_info": {
   "codemirror_mode": {
    "name": "ipython",
    "version": 3
   },
   "file_extension": ".py",
   "mimetype": "text/x-python",
   "name": "python",
   "nbconvert_exporter": "python",
   "pygments_lexer": "ipython3",
   "version": "3.8.10"
  },
  "orig_nbformat": 4
 },
 "nbformat": 4,
 "nbformat_minor": 2
}
