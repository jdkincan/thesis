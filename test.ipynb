{
 "cells": [
  {
   "cell_type": "code",
   "execution_count": 182,
   "metadata": {},
   "outputs": [],
   "source": [
    "# Import Dependencies\n",
    "import os\n",
    "from dotenv import load_dotenv\n",
    "import requests\n",
    "from alpha_vantage.cryptocurrencies import CryptoCurrencies\n",
    "from alpha_vantage.techindicators import TechIndicators\n",
    "import pandas as pd\n",
    "import matplotlib.pyplot as plt\n",
    "import seaborn as sns\n",
    "from datetime import datetime"
   ]
  },
  {
   "cell_type": "code",
   "execution_count": 183,
   "metadata": {},
   "outputs": [],
   "source": [
    "# RUN ONCE\n",
    "load_dotenv()\n",
    "API_KEY = os.getenv('SPECIAL_API_KEY')"
   ]
  },
  {
   "cell_type": "code",
   "execution_count": 184,
   "metadata": {},
   "outputs": [
    {
     "name": "stdout",
     "output_type": "stream",
     "text": [
      "https://www.alphavantage.co/query?function=CRYPTO_INTRADAY&symbol=ETH&market=USD&interval=5min&time_zone=US%2FEastern+Time&apikey=J1CWSFE0KTEO2I97\n",
      "dict_keys(['Meta Data', 'Time Series Crypto (5min)'])\n"
     ]
    }
   ],
   "source": [
    "# RUN ONCE\n",
    "params = {\n",
    " 'function': 'CRYPTO_INTRADAY',\n",
    " 'symbol': 'ETH',\n",
    " 'market': 'USD',\n",
    " 'interval': '5min',\n",
    " 'time_zone': 'US/Eastern Time',\n",
    " 'apikey': API_KEY\n",
    " }\n",
    "\n",
    "r = requests.get('https://www.alphavantage.co/query', params=params)\n",
    "print(r.url)\n",
    "price_data = r.json()\n",
    "print(price_data.keys())\n",
    "r.close()"
   ]
  },
  {
   "cell_type": "code",
   "execution_count": 185,
   "metadata": {},
   "outputs": [
    {
     "name": "stdout",
     "output_type": "stream",
     "text": [
      "{'1. Information': 'Crypto Intraday (5min) Time Series', '2. Digital Currency Code': 'ETH', '3. Digital Currency Name': 'Ethereum', '4. Market Code': 'USD', '5. Market Name': 'United States Dollar', '6. Last Refreshed': '2021-12-28 04:30:00', '7. Interval': '5min', '8. Output Size': 'Compact', '9. Time Zone': 'UTC'}\n"
     ]
    },
    {
     "name": "stderr",
     "output_type": "stream",
     "text": [
      "/tmp/ipykernel_202/2187447110.py:5: FutureWarning: In a future version of pandas all arguments of DataFrame.drop except for the argument 'labels' will be keyword-only\n",
      "  price_df = price_df.drop('index', 1)\n"
     ]
    },
    {
     "data": {
      "text/html": [
       "<div>\n",
       "<style scoped>\n",
       "    .dataframe tbody tr th:only-of-type {\n",
       "        vertical-align: middle;\n",
       "    }\n",
       "\n",
       "    .dataframe tbody tr th {\n",
       "        vertical-align: top;\n",
       "    }\n",
       "\n",
       "    .dataframe thead th {\n",
       "        text-align: right;\n",
       "    }\n",
       "</style>\n",
       "<table border=\"1\" class=\"dataframe\">\n",
       "  <thead>\n",
       "    <tr style=\"text-align: right;\">\n",
       "      <th></th>\n",
       "      <th>1. open</th>\n",
       "      <th>2. high</th>\n",
       "      <th>3. low</th>\n",
       "      <th>4. close</th>\n",
       "      <th>5. volume</th>\n",
       "      <th>date.utc</th>\n",
       "    </tr>\n",
       "  </thead>\n",
       "  <tbody>\n",
       "    <tr>\n",
       "      <th>0</th>\n",
       "      <td>3900.00000</td>\n",
       "      <td>3907.69000</td>\n",
       "      <td>3896.71000</td>\n",
       "      <td>3905.01000</td>\n",
       "      <td>611</td>\n",
       "      <td>2021-12-28 04:30:00</td>\n",
       "    </tr>\n",
       "    <tr>\n",
       "      <th>1</th>\n",
       "      <td>3899.20000</td>\n",
       "      <td>3900.65000</td>\n",
       "      <td>3888.44000</td>\n",
       "      <td>3900.01000</td>\n",
       "      <td>1482</td>\n",
       "      <td>2021-12-28 04:25:00</td>\n",
       "    </tr>\n",
       "    <tr>\n",
       "      <th>2</th>\n",
       "      <td>3898.70000</td>\n",
       "      <td>3909.46000</td>\n",
       "      <td>3877.00000</td>\n",
       "      <td>3899.20000</td>\n",
       "      <td>6181</td>\n",
       "      <td>2021-12-28 04:20:00</td>\n",
       "    </tr>\n",
       "    <tr>\n",
       "      <th>3</th>\n",
       "      <td>3932.91000</td>\n",
       "      <td>3933.45000</td>\n",
       "      <td>3890.22000</td>\n",
       "      <td>3898.70000</td>\n",
       "      <td>8651</td>\n",
       "      <td>2021-12-28 04:15:00</td>\n",
       "    </tr>\n",
       "    <tr>\n",
       "      <th>4</th>\n",
       "      <td>3943.72000</td>\n",
       "      <td>3944.73000</td>\n",
       "      <td>3931.65000</td>\n",
       "      <td>3933.24000</td>\n",
       "      <td>718</td>\n",
       "      <td>2021-12-28 04:10:00</td>\n",
       "    </tr>\n",
       "  </tbody>\n",
       "</table>\n",
       "</div>"
      ],
      "text/plain": [
       "      1. open     2. high      3. low    4. close 5. volume  \\\n",
       "0  3900.00000  3907.69000  3896.71000  3905.01000       611   \n",
       "1  3899.20000  3900.65000  3888.44000  3900.01000      1482   \n",
       "2  3898.70000  3909.46000  3877.00000  3899.20000      6181   \n",
       "3  3932.91000  3933.45000  3890.22000  3898.70000      8651   \n",
       "4  3943.72000  3944.73000  3931.65000  3933.24000       718   \n",
       "\n",
       "              date.utc  \n",
       "0  2021-12-28 04:30:00  \n",
       "1  2021-12-28 04:25:00  \n",
       "2  2021-12-28 04:20:00  \n",
       "3  2021-12-28 04:15:00  \n",
       "4  2021-12-28 04:10:00  "
      ]
     },
     "execution_count": 185,
     "metadata": {},
     "output_type": "execute_result"
    }
   ],
   "source": [
    "price_df = pd.DataFrame(price_data['Time Series Crypto (5min)']).T\n",
    "print(price_data['Meta Data'])\n",
    "price_df.reset_index(inplace=True)\n",
    "price_df['date.utc'] = price_df['index']\n",
    "price_df = price_df.drop('index', 1)\n",
    "price_df.head()"
   ]
  },
  {
   "cell_type": "code",
   "execution_count": 186,
   "metadata": {},
   "outputs": [
    {
     "name": "stdout",
     "output_type": "stream",
     "text": [
      "https://www.alphavantage.co/query?function=BBANDS&symbol=ETHUSD&interval=5min&time_period=20&series_type=close&apikey=J1CWSFE0KTEO2I97\n",
      "dict_keys(['Meta Data', 'Technical Analysis: BBANDS'])\n"
     ]
    }
   ],
   "source": [
    "# RUN ONCE\n",
    "params = {\n",
    " 'function': 'BBANDS',\n",
    " 'symbol': 'ETHUSD',\n",
    " 'interval': '5min',\n",
    " 'time_period': '20',\n",
    " 'series_type': 'close',\n",
    " 'apikey': API_KEY\n",
    " }\n",
    "\n",
    "r = requests.get('https://www.alphavantage.co/query', params=params)\n",
    "print(r.url)\n",
    "bband_data = r.json()\n",
    "print(bband_data.keys())\n",
    "r.close()"
   ]
  },
  {
   "cell_type": "code",
   "execution_count": 187,
   "metadata": {},
   "outputs": [
    {
     "name": "stdout",
     "output_type": "stream",
     "text": [
      "{'1: Symbol': 'ETHUSD', '2: Indicator': 'Bollinger Bands (BBANDS)', '3: Last Refreshed': '2021-12-27 23:30:00', '4: Interval': '5min', '5: Time Period': 20, '6.1: Deviation multiplier for upper band': 2, '6.2: Deviation multiplier for lower band': 2, '6.3: MA Type': 0, '7: Series Type': 'close', '8: Time Zone': 'US/Eastern Time'}\n"
     ]
    },
    {
     "name": "stderr",
     "output_type": "stream",
     "text": [
      "/tmp/ipykernel_202/2181832318.py:5: FutureWarning: In a future version of pandas all arguments of DataFrame.drop except for the argument 'labels' will be keyword-only\n",
      "  bbands_df = bbands_df.drop('index', 1)\n"
     ]
    },
    {
     "data": {
      "text/html": [
       "<div>\n",
       "<style scoped>\n",
       "    .dataframe tbody tr th:only-of-type {\n",
       "        vertical-align: middle;\n",
       "    }\n",
       "\n",
       "    .dataframe tbody tr th {\n",
       "        vertical-align: top;\n",
       "    }\n",
       "\n",
       "    .dataframe thead th {\n",
       "        text-align: right;\n",
       "    }\n",
       "</style>\n",
       "<table border=\"1\" class=\"dataframe\">\n",
       "  <thead>\n",
       "    <tr style=\"text-align: right;\">\n",
       "      <th></th>\n",
       "      <th>Real Middle Band</th>\n",
       "      <th>Real Upper Band</th>\n",
       "      <th>Real Lower Band</th>\n",
       "      <th>date.est1</th>\n",
       "    </tr>\n",
       "  </thead>\n",
       "  <tbody>\n",
       "    <tr>\n",
       "      <th>0</th>\n",
       "      <td>3939.2355</td>\n",
       "      <td>3981.1307</td>\n",
       "      <td>3897.3403</td>\n",
       "      <td>2021-12-27 23:30</td>\n",
       "    </tr>\n",
       "    <tr>\n",
       "      <th>1</th>\n",
       "      <td>3942.2110</td>\n",
       "      <td>3982.3779</td>\n",
       "      <td>3902.0441</td>\n",
       "      <td>2021-12-27 23:25</td>\n",
       "    </tr>\n",
       "    <tr>\n",
       "      <th>2</th>\n",
       "      <td>3945.3890</td>\n",
       "      <td>3981.5558</td>\n",
       "      <td>3909.2222</td>\n",
       "      <td>2021-12-27 23:20</td>\n",
       "    </tr>\n",
       "    <tr>\n",
       "      <th>3</th>\n",
       "      <td>3949.1180</td>\n",
       "      <td>3980.5336</td>\n",
       "      <td>3917.7024</td>\n",
       "      <td>2021-12-27 23:15</td>\n",
       "    </tr>\n",
       "    <tr>\n",
       "      <th>4</th>\n",
       "      <td>3952.9850</td>\n",
       "      <td>3976.7271</td>\n",
       "      <td>3929.2429</td>\n",
       "      <td>2021-12-27 23:10</td>\n",
       "    </tr>\n",
       "  </tbody>\n",
       "</table>\n",
       "</div>"
      ],
      "text/plain": [
       "  Real Middle Band Real Upper Band Real Lower Band         date.est1\n",
       "0        3939.2355       3981.1307       3897.3403  2021-12-27 23:30\n",
       "1        3942.2110       3982.3779       3902.0441  2021-12-27 23:25\n",
       "2        3945.3890       3981.5558       3909.2222  2021-12-27 23:20\n",
       "3        3949.1180       3980.5336       3917.7024  2021-12-27 23:15\n",
       "4        3952.9850       3976.7271       3929.2429  2021-12-27 23:10"
      ]
     },
     "execution_count": 187,
     "metadata": {},
     "output_type": "execute_result"
    }
   ],
   "source": [
    "bbands_df = pd.DataFrame(bband_data['Technical Analysis: BBANDS']).T\n",
    "print(bband_data['Meta Data'])\n",
    "bbands_df.reset_index(inplace=True)\n",
    "bbands_df['date.est1'] = bbands_df['index']\n",
    "bbands_df = bbands_df.drop('index', 1)\n",
    "bbands_df.head()"
   ]
  },
  {
   "cell_type": "code",
   "execution_count": 188,
   "metadata": {},
   "outputs": [
    {
     "name": "stdout",
     "output_type": "stream",
     "text": [
      "https://www.alphavantage.co/query?function=MACD&symbol=ETHUSD&interval=5min&series_type=close&apikey=J1CWSFE0KTEO2I97\n",
      "dict_keys(['Meta Data', 'Technical Analysis: MACD'])\n"
     ]
    }
   ],
   "source": [
    "# RUN ONCE\n",
    "params = {\n",
    " 'function': 'MACD',\n",
    " 'symbol': 'ETHUSD',\n",
    " 'interval': '5min',\n",
    " 'series_type': 'close',\n",
    " 'apikey': API_KEY\n",
    " }\n",
    "\n",
    "r = requests.get('https://www.alphavantage.co/query', params=params)\n",
    "print(r.url)\n",
    "macd_data = r.json()\n",
    "print(macd_data.keys())\n",
    "r.close()"
   ]
  },
  {
   "cell_type": "code",
   "execution_count": 189,
   "metadata": {},
   "outputs": [
    {
     "name": "stdout",
     "output_type": "stream",
     "text": [
      "{'1: Symbol': 'ETHUSD', '2: Indicator': 'Moving Average Convergence/Divergence (MACD)', '3: Last Refreshed': '2021-12-27 23:30:00', '4: Interval': '5min', '5.1: Fast Period': 12, '5.2: Slow Period': 26, '5.3: Signal Period': 9, '6: Series Type': 'close', '7: Time Zone': 'US/Eastern'}\n"
     ]
    },
    {
     "name": "stderr",
     "output_type": "stream",
     "text": [
      "/tmp/ipykernel_202/1630572137.py:5: FutureWarning: In a future version of pandas all arguments of DataFrame.drop except for the argument 'labels' will be keyword-only\n",
      "  macd_df = macd_df.drop('index', 1)\n"
     ]
    },
    {
     "data": {
      "text/html": [
       "<div>\n",
       "<style scoped>\n",
       "    .dataframe tbody tr th:only-of-type {\n",
       "        vertical-align: middle;\n",
       "    }\n",
       "\n",
       "    .dataframe tbody tr th {\n",
       "        vertical-align: top;\n",
       "    }\n",
       "\n",
       "    .dataframe thead th {\n",
       "        text-align: right;\n",
       "    }\n",
       "</style>\n",
       "<table border=\"1\" class=\"dataframe\">\n",
       "  <thead>\n",
       "    <tr style=\"text-align: right;\">\n",
       "      <th></th>\n",
       "      <th>MACD</th>\n",
       "      <th>MACD_Hist</th>\n",
       "      <th>MACD_Signal</th>\n",
       "      <th>date.est2</th>\n",
       "    </tr>\n",
       "  </thead>\n",
       "  <tbody>\n",
       "    <tr>\n",
       "      <th>0</th>\n",
       "      <td>-19.3925</td>\n",
       "      <td>-3.2768</td>\n",
       "      <td>-16.1156</td>\n",
       "      <td>2021-12-27 23:30</td>\n",
       "    </tr>\n",
       "    <tr>\n",
       "      <th>1</th>\n",
       "      <td>-18.9066</td>\n",
       "      <td>-3.6102</td>\n",
       "      <td>-15.2964</td>\n",
       "      <td>2021-12-27 23:25</td>\n",
       "    </tr>\n",
       "    <tr>\n",
       "      <th>2</th>\n",
       "      <td>-17.5024</td>\n",
       "      <td>-3.1085</td>\n",
       "      <td>-14.3939</td>\n",
       "      <td>2021-12-27 23:20</td>\n",
       "    </tr>\n",
       "    <tr>\n",
       "      <th>3</th>\n",
       "      <td>-15.3730</td>\n",
       "      <td>-1.7562</td>\n",
       "      <td>-13.6168</td>\n",
       "      <td>2021-12-27 23:15</td>\n",
       "    </tr>\n",
       "    <tr>\n",
       "      <th>4</th>\n",
       "      <td>-12.3807</td>\n",
       "      <td>0.7971</td>\n",
       "      <td>-13.1777</td>\n",
       "      <td>2021-12-27 23:10</td>\n",
       "    </tr>\n",
       "  </tbody>\n",
       "</table>\n",
       "</div>"
      ],
      "text/plain": [
       "       MACD MACD_Hist MACD_Signal         date.est2\n",
       "0  -19.3925   -3.2768    -16.1156  2021-12-27 23:30\n",
       "1  -18.9066   -3.6102    -15.2964  2021-12-27 23:25\n",
       "2  -17.5024   -3.1085    -14.3939  2021-12-27 23:20\n",
       "3  -15.3730   -1.7562    -13.6168  2021-12-27 23:15\n",
       "4  -12.3807    0.7971    -13.1777  2021-12-27 23:10"
      ]
     },
     "execution_count": 189,
     "metadata": {},
     "output_type": "execute_result"
    }
   ],
   "source": [
    "macd_df = pd.DataFrame(macd_data['Technical Analysis: MACD']).T\n",
    "print(macd_data['Meta Data'])\n",
    "macd_df.reset_index(inplace=True)\n",
    "macd_df['date.est2'] = macd_df['index']\n",
    "macd_df = macd_df.drop('index', 1)\n",
    "macd_df.head()"
   ]
  },
  {
   "cell_type": "code",
   "execution_count": 190,
   "metadata": {},
   "outputs": [
    {
     "data": {
      "text/html": [
       "<div>\n",
       "<style scoped>\n",
       "    .dataframe tbody tr th:only-of-type {\n",
       "        vertical-align: middle;\n",
       "    }\n",
       "\n",
       "    .dataframe tbody tr th {\n",
       "        vertical-align: top;\n",
       "    }\n",
       "\n",
       "    .dataframe thead th {\n",
       "        text-align: right;\n",
       "    }\n",
       "</style>\n",
       "<table border=\"1\" class=\"dataframe\">\n",
       "  <thead>\n",
       "    <tr style=\"text-align: right;\">\n",
       "      <th></th>\n",
       "      <th>1. open</th>\n",
       "      <th>2. high</th>\n",
       "      <th>3. low</th>\n",
       "      <th>4. close</th>\n",
       "      <th>5. volume</th>\n",
       "      <th>date.utc</th>\n",
       "      <th>Real Middle Band</th>\n",
       "      <th>Real Upper Band</th>\n",
       "      <th>Real Lower Band</th>\n",
       "      <th>date.est1</th>\n",
       "      <th>MACD</th>\n",
       "      <th>MACD_Hist</th>\n",
       "      <th>MACD_Signal</th>\n",
       "      <th>date.est2</th>\n",
       "    </tr>\n",
       "  </thead>\n",
       "  <tbody>\n",
       "    <tr>\n",
       "      <th>0</th>\n",
       "      <td>3900.00000</td>\n",
       "      <td>3907.69000</td>\n",
       "      <td>3896.71000</td>\n",
       "      <td>3905.01000</td>\n",
       "      <td>611</td>\n",
       "      <td>2021-12-28 04:30:00</td>\n",
       "      <td>3939.2355</td>\n",
       "      <td>3981.1307</td>\n",
       "      <td>3897.3403</td>\n",
       "      <td>2021-12-27 23:30</td>\n",
       "      <td>-19.3925</td>\n",
       "      <td>-3.2768</td>\n",
       "      <td>-16.1156</td>\n",
       "      <td>2021-12-27 23:30</td>\n",
       "    </tr>\n",
       "    <tr>\n",
       "      <th>1</th>\n",
       "      <td>3899.20000</td>\n",
       "      <td>3900.65000</td>\n",
       "      <td>3888.44000</td>\n",
       "      <td>3900.01000</td>\n",
       "      <td>1482</td>\n",
       "      <td>2021-12-28 04:25:00</td>\n",
       "      <td>3942.2110</td>\n",
       "      <td>3982.3779</td>\n",
       "      <td>3902.0441</td>\n",
       "      <td>2021-12-27 23:25</td>\n",
       "      <td>-18.9066</td>\n",
       "      <td>-3.6102</td>\n",
       "      <td>-15.2964</td>\n",
       "      <td>2021-12-27 23:25</td>\n",
       "    </tr>\n",
       "    <tr>\n",
       "      <th>2</th>\n",
       "      <td>3898.70000</td>\n",
       "      <td>3909.46000</td>\n",
       "      <td>3877.00000</td>\n",
       "      <td>3899.20000</td>\n",
       "      <td>6181</td>\n",
       "      <td>2021-12-28 04:20:00</td>\n",
       "      <td>3945.3890</td>\n",
       "      <td>3981.5558</td>\n",
       "      <td>3909.2222</td>\n",
       "      <td>2021-12-27 23:20</td>\n",
       "      <td>-17.5024</td>\n",
       "      <td>-3.1085</td>\n",
       "      <td>-14.3939</td>\n",
       "      <td>2021-12-27 23:20</td>\n",
       "    </tr>\n",
       "    <tr>\n",
       "      <th>3</th>\n",
       "      <td>3932.91000</td>\n",
       "      <td>3933.45000</td>\n",
       "      <td>3890.22000</td>\n",
       "      <td>3898.70000</td>\n",
       "      <td>8651</td>\n",
       "      <td>2021-12-28 04:15:00</td>\n",
       "      <td>3949.1180</td>\n",
       "      <td>3980.5336</td>\n",
       "      <td>3917.7024</td>\n",
       "      <td>2021-12-27 23:15</td>\n",
       "      <td>-15.3730</td>\n",
       "      <td>-1.7562</td>\n",
       "      <td>-13.6168</td>\n",
       "      <td>2021-12-27 23:15</td>\n",
       "    </tr>\n",
       "    <tr>\n",
       "      <th>4</th>\n",
       "      <td>3943.72000</td>\n",
       "      <td>3944.73000</td>\n",
       "      <td>3931.65000</td>\n",
       "      <td>3933.24000</td>\n",
       "      <td>718</td>\n",
       "      <td>2021-12-28 04:10:00</td>\n",
       "      <td>3952.9850</td>\n",
       "      <td>3976.7271</td>\n",
       "      <td>3929.2429</td>\n",
       "      <td>2021-12-27 23:10</td>\n",
       "      <td>-12.3807</td>\n",
       "      <td>0.7971</td>\n",
       "      <td>-13.1777</td>\n",
       "      <td>2021-12-27 23:10</td>\n",
       "    </tr>\n",
       "  </tbody>\n",
       "</table>\n",
       "</div>"
      ],
      "text/plain": [
       "      1. open     2. high      3. low    4. close 5. volume  \\\n",
       "0  3900.00000  3907.69000  3896.71000  3905.01000       611   \n",
       "1  3899.20000  3900.65000  3888.44000  3900.01000      1482   \n",
       "2  3898.70000  3909.46000  3877.00000  3899.20000      6181   \n",
       "3  3932.91000  3933.45000  3890.22000  3898.70000      8651   \n",
       "4  3943.72000  3944.73000  3931.65000  3933.24000       718   \n",
       "\n",
       "              date.utc Real Middle Band Real Upper Band Real Lower Band  \\\n",
       "0  2021-12-28 04:30:00        3939.2355       3981.1307       3897.3403   \n",
       "1  2021-12-28 04:25:00        3942.2110       3982.3779       3902.0441   \n",
       "2  2021-12-28 04:20:00        3945.3890       3981.5558       3909.2222   \n",
       "3  2021-12-28 04:15:00        3949.1180       3980.5336       3917.7024   \n",
       "4  2021-12-28 04:10:00        3952.9850       3976.7271       3929.2429   \n",
       "\n",
       "          date.est1      MACD MACD_Hist MACD_Signal         date.est2  \n",
       "0  2021-12-27 23:30  -19.3925   -3.2768    -16.1156  2021-12-27 23:30  \n",
       "1  2021-12-27 23:25  -18.9066   -3.6102    -15.2964  2021-12-27 23:25  \n",
       "2  2021-12-27 23:20  -17.5024   -3.1085    -14.3939  2021-12-27 23:20  \n",
       "3  2021-12-27 23:15  -15.3730   -1.7562    -13.6168  2021-12-27 23:15  \n",
       "4  2021-12-27 23:10  -12.3807    0.7971    -13.1777  2021-12-27 23:10  "
      ]
     },
     "execution_count": 190,
     "metadata": {},
     "output_type": "execute_result"
    }
   ],
   "source": [
    "df = price_df.join(bbands_df, how = 'left')\n",
    "df = df.join(macd_df, how = 'left')\n",
    "df.head()"
   ]
  },
  {
   "cell_type": "code",
   "execution_count": 191,
   "metadata": {},
   "outputs": [],
   "source": [
    "# Dictionary with original and new column names.\n",
    "new_col_names = {'1. open': 'open',\n",
    "        '2. high': 'high',\n",
    "        '3. low': 'low',\n",
    "        '4. close': 'close',\n",
    "        '5. volume': 'volume',\n",
    "        'Real Middle Band': 'bband.mid',\n",
    "        'Real Upper Band': 'bband.up',\n",
    "        'Real Lower Band': 'bband.low',\n",
    "        'MACD_Signal': 'macd.sig',\n",
    "        'MACD_Hist': 'macd.hist',\n",
    "        'MACD': 'macd'}\n",
    "  \n",
    "# Call rename() method. \n",
    "df.rename(columns= new_col_names,\n",
    "          inplace=True)"
   ]
  },
  {
   "cell_type": "code",
   "execution_count": 192,
   "metadata": {},
   "outputs": [
    {
     "name": "stderr",
     "output_type": "stream",
     "text": [
      "/tmp/ipykernel_202/3001725684.py:1: FutureWarning: In a future version of pandas all arguments of DataFrame.drop except for the argument 'labels' will be keyword-only\n",
      "  df = df.drop(['date.est1', 'date.est2'], 1)\n"
     ]
    }
   ],
   "source": [
    "df = df.drop(['date.est1', 'date.est2'], 1)\n",
    "df['date.utc'] = pd.to_datetime(df['date.utc'])\n",
    "df = df.set_index('date.utc')"
   ]
  },
  {
   "cell_type": "code",
   "execution_count": 193,
   "metadata": {},
   "outputs": [],
   "source": [
    "df['open'] = df['open'].astype(str).astype(float)\n",
    "df['high'] = df['high'].astype(str).astype(float)\n",
    "df['low'] = df['low'].astype(str).astype(float)\n",
    "df['close'] = df['close'].astype(str).astype(float)\n",
    "df['volume'] = df['volume'].astype(str).astype(float)\n",
    "df['bband.low'] = df['bband.low'].astype(str).astype(float)\n",
    "df['bband.up'] = df['bband.up'].astype(str).astype(float)\n",
    "df['bband.mid'] = df['bband.mid'].astype(str).astype(float)\n",
    "df['macd'] = df['macd'].astype(str).astype(float)\n",
    "df['macd.hist'] = df['macd.hist'].astype(str).astype(float)\n",
    "df['macd.sig'] = df['macd.sig'].astype(str).astype(float)"
   ]
  },
  {
   "cell_type": "code",
   "execution_count": 194,
   "metadata": {},
   "outputs": [
    {
     "name": "stdout",
     "output_type": "stream",
     "text": [
      "<class 'pandas.core.frame.DataFrame'>\n",
      "DatetimeIndex: 100 entries, 2021-12-28 04:30:00 to 2021-12-27 20:15:00\n",
      "Data columns (total 11 columns):\n",
      " #   Column     Non-Null Count  Dtype  \n",
      "---  ------     --------------  -----  \n",
      " 0   open       100 non-null    float64\n",
      " 1   high       100 non-null    float64\n",
      " 2   low        100 non-null    float64\n",
      " 3   close      100 non-null    float64\n",
      " 4   volume     100 non-null    float64\n",
      " 5   bband.mid  100 non-null    float64\n",
      " 6   bband.up   100 non-null    float64\n",
      " 7   bband.low  100 non-null    float64\n",
      " 8   macd       100 non-null    float64\n",
      " 9   macd.hist  100 non-null    float64\n",
      " 10  macd.sig   100 non-null    float64\n",
      "dtypes: float64(11)\n",
      "memory usage: 9.4 KB\n",
      "None\n"
     ]
    }
   ],
   "source": [
    "print(df.info())"
   ]
  },
  {
   "cell_type": "code",
   "execution_count": 195,
   "metadata": {},
   "outputs": [
    {
     "data": {
      "text/html": [
       "<div>\n",
       "<style scoped>\n",
       "    .dataframe tbody tr th:only-of-type {\n",
       "        vertical-align: middle;\n",
       "    }\n",
       "\n",
       "    .dataframe tbody tr th {\n",
       "        vertical-align: top;\n",
       "    }\n",
       "\n",
       "    .dataframe thead th {\n",
       "        text-align: right;\n",
       "    }\n",
       "</style>\n",
       "<table border=\"1\" class=\"dataframe\">\n",
       "  <thead>\n",
       "    <tr style=\"text-align: right;\">\n",
       "      <th></th>\n",
       "      <th>open</th>\n",
       "      <th>high</th>\n",
       "      <th>low</th>\n",
       "      <th>close</th>\n",
       "      <th>volume</th>\n",
       "      <th>bband.mid</th>\n",
       "      <th>bband.up</th>\n",
       "      <th>bband.low</th>\n",
       "      <th>macd</th>\n",
       "      <th>macd.hist</th>\n",
       "      <th>macd.sig</th>\n",
       "    </tr>\n",
       "    <tr>\n",
       "      <th>date.utc</th>\n",
       "      <th></th>\n",
       "      <th></th>\n",
       "      <th></th>\n",
       "      <th></th>\n",
       "      <th></th>\n",
       "      <th></th>\n",
       "      <th></th>\n",
       "      <th></th>\n",
       "      <th></th>\n",
       "      <th></th>\n",
       "      <th></th>\n",
       "    </tr>\n",
       "  </thead>\n",
       "  <tbody>\n",
       "    <tr>\n",
       "      <th>2021-12-28 04:30:00</th>\n",
       "      <td>3900.00</td>\n",
       "      <td>3907.69</td>\n",
       "      <td>3896.71</td>\n",
       "      <td>3905.01</td>\n",
       "      <td>611.0</td>\n",
       "      <td>3939.2355</td>\n",
       "      <td>3981.1307</td>\n",
       "      <td>3897.3403</td>\n",
       "      <td>-19.3925</td>\n",
       "      <td>-3.2768</td>\n",
       "      <td>-16.1156</td>\n",
       "    </tr>\n",
       "    <tr>\n",
       "      <th>2021-12-28 04:25:00</th>\n",
       "      <td>3899.20</td>\n",
       "      <td>3900.65</td>\n",
       "      <td>3888.44</td>\n",
       "      <td>3900.01</td>\n",
       "      <td>1482.0</td>\n",
       "      <td>3942.2110</td>\n",
       "      <td>3982.3779</td>\n",
       "      <td>3902.0441</td>\n",
       "      <td>-18.9066</td>\n",
       "      <td>-3.6102</td>\n",
       "      <td>-15.2964</td>\n",
       "    </tr>\n",
       "    <tr>\n",
       "      <th>2021-12-28 04:20:00</th>\n",
       "      <td>3898.70</td>\n",
       "      <td>3909.46</td>\n",
       "      <td>3877.00</td>\n",
       "      <td>3899.20</td>\n",
       "      <td>6181.0</td>\n",
       "      <td>3945.3890</td>\n",
       "      <td>3981.5558</td>\n",
       "      <td>3909.2222</td>\n",
       "      <td>-17.5024</td>\n",
       "      <td>-3.1085</td>\n",
       "      <td>-14.3939</td>\n",
       "    </tr>\n",
       "    <tr>\n",
       "      <th>2021-12-28 04:15:00</th>\n",
       "      <td>3932.91</td>\n",
       "      <td>3933.45</td>\n",
       "      <td>3890.22</td>\n",
       "      <td>3898.70</td>\n",
       "      <td>8651.0</td>\n",
       "      <td>3949.1180</td>\n",
       "      <td>3980.5336</td>\n",
       "      <td>3917.7024</td>\n",
       "      <td>-15.3730</td>\n",
       "      <td>-1.7562</td>\n",
       "      <td>-13.6168</td>\n",
       "    </tr>\n",
       "    <tr>\n",
       "      <th>2021-12-28 04:10:00</th>\n",
       "      <td>3943.72</td>\n",
       "      <td>3944.73</td>\n",
       "      <td>3931.65</td>\n",
       "      <td>3933.24</td>\n",
       "      <td>718.0</td>\n",
       "      <td>3952.9850</td>\n",
       "      <td>3976.7271</td>\n",
       "      <td>3929.2429</td>\n",
       "      <td>-12.3807</td>\n",
       "      <td>0.7971</td>\n",
       "      <td>-13.1777</td>\n",
       "    </tr>\n",
       "  </tbody>\n",
       "</table>\n",
       "</div>"
      ],
      "text/plain": [
       "                        open     high      low    close  volume  bband.mid  \\\n",
       "date.utc                                                                     \n",
       "2021-12-28 04:30:00  3900.00  3907.69  3896.71  3905.01   611.0  3939.2355   \n",
       "2021-12-28 04:25:00  3899.20  3900.65  3888.44  3900.01  1482.0  3942.2110   \n",
       "2021-12-28 04:20:00  3898.70  3909.46  3877.00  3899.20  6181.0  3945.3890   \n",
       "2021-12-28 04:15:00  3932.91  3933.45  3890.22  3898.70  8651.0  3949.1180   \n",
       "2021-12-28 04:10:00  3943.72  3944.73  3931.65  3933.24   718.0  3952.9850   \n",
       "\n",
       "                      bband.up  bband.low     macd  macd.hist  macd.sig  \n",
       "date.utc                                                                 \n",
       "2021-12-28 04:30:00  3981.1307  3897.3403 -19.3925    -3.2768  -16.1156  \n",
       "2021-12-28 04:25:00  3982.3779  3902.0441 -18.9066    -3.6102  -15.2964  \n",
       "2021-12-28 04:20:00  3981.5558  3909.2222 -17.5024    -3.1085  -14.3939  \n",
       "2021-12-28 04:15:00  3980.5336  3917.7024 -15.3730    -1.7562  -13.6168  \n",
       "2021-12-28 04:10:00  3976.7271  3929.2429 -12.3807     0.7971  -13.1777  "
      ]
     },
     "execution_count": 195,
     "metadata": {},
     "output_type": "execute_result"
    }
   ],
   "source": [
    "df.head()"
   ]
  },
  {
   "cell_type": "code",
   "execution_count": 196,
   "metadata": {},
   "outputs": [
    {
     "data": {
      "image/png": "[encoded data removed]",
      "text/plain": [
       "<Figure size 432x288 with 1 Axes>"
      ]
     },
     "metadata": {
      "needs_background": "light"
     },
     "output_type": "display_data"
    }
   ],
   "source": [
    "# Case Study 5\n",
    "# Define figure and axis\n",
    "fig, axs = plt.subplots(1,1)\n",
    "\n",
    "# Set title and axes labels\n",
    "axs.set_title(\"ETH Close Price With BBands Overlay\")\n",
    "axs.set_xlabel(\"Date\")\n",
    "axs.set_ylabel(\"Price (USD)\")\n",
    "\n",
    "# Create the plot \n",
    "axs.plot(df['close'], \"-\", label = \"Close Price\", color = \"green\")\n",
    "axs.plot(df['bband.up'], \"--\", label = \"BB Upper\", color = \"red\")\n",
    "axs.plot(df['bband.mid'], \"--\", label = \"BB Middle\", color = \"blue\")\n",
    "axs.plot(df['bband.low'], \"--\", label = \"BB Low\", color = \"red\")\n",
    "axs.legend(title = \"Legend\", fontsize = 8, bbox_to_anchor=(1.25, .6), loc=\"upper right\")\n",
    "plt.xticks(rotation=45)\n",
    "\n",
    "# Show \n",
    "plt.show()"
   ]
  },
  {
   "cell_type": "code",
   "execution_count": 197,
   "metadata": {},
   "outputs": [
    {
     "data": {
      "image/png": "[encoded data removed]",
      "text/plain": [
       "<Figure size 432x288 with 2 Axes>"
      ]
     },
     "metadata": {
      "needs_background": "light"
     },
     "output_type": "display_data"
    }
   ],
   "source": [
    "# Define figure and axis\n",
    "fig, axs = plt.subplots(2,1, sharex=True)\n",
    "\n",
    "# Set title and axes labels\n",
    "fig.suptitle(t = \"ETH Close Price and MACD\", fontsize = 16)\n",
    "#axs.set_title(\"ETH Close Price With MACD Overlay\")\n",
    "\n",
    "axs[1].set_xlabel(\"Date\")\n",
    "axs[0].set_ylabel(\"Price (USD)\")\n",
    "axs[1].set_ylabel(\"MACD Signal\")\n",
    "\n",
    "\n",
    "    \n",
    "# Create the plot \n",
    "axs[0].plot(df['close'], \"-\", label = \"Close Price\", color = \"green\")\n",
    "\n",
    "axs[1].plot(df['macd'], \"--\", label = \"MACD\", color = \"red\")\n",
    "axs[1].plot(df['macd.sig'], \"--\", label = \"Signal\", color = \"orange\")\n",
    "axs[1].plot(df['macd.hist'], \"-\", label = \"History\", color = \"blue\")\n",
    "axs[1].legend(title = \"Legend\", fontsize = 8, bbox_to_anchor=(1.25, .6), loc=\"upper right\")\n",
    "plt.xticks(rotation=45)\n",
    "axs[1].axhline(y=0, color = 'black')\n",
    "\n",
    "# Show \n",
    "plt.show()"
   ]
  }
 ],
 "metadata": {
  "interpreter": {
   "hash": "31f2aee4e71d21fbe5cf8b01ff0e069b9275f58929596ceb00d14d90e3e16cd6"
  },
  "kernelspec": {
   "display_name": "Python 3.8.10 64-bit",
   "language": "python",
   "name": "python3"
  },
  "language_info": {
   "codemirror_mode": {
    "name": "ipython",
    "version": 3
   },
   "file_extension": ".py",
   "mimetype": "text/x-python",
   "name": "python",
   "nbconvert_exporter": "python",
   "pygments_lexer": "ipython3",
   "version": "3.8.10"
  },
  "orig_nbformat": 4
 },
 "nbformat": 4,
 "nbformat_minor": 2
}
