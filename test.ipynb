{
 "cells": [
  {
   "cell_type": "code",
   "execution_count": 24,
   "metadata": {},
   "outputs": [],
   "source": [
    "# Import Dependencies\n",
    "import os\n",
    "from dotenv import load_dotenv\n",
    "import requests\n",
    "from alpha_vantage.cryptocurrencies import CryptoCurrencies\n",
    "from alpha_vantage.techindicators import TechIndicators\n",
    "import pandas as pd"
   ]
  },
  {
   "cell_type": "code",
   "execution_count": 25,
   "metadata": {},
   "outputs": [],
   "source": [
    "# RUN ONCE\n",
    "load_dotenv()\n",
    "API_KEY = os.getenv('SPECIAL_API_KEY')"
   ]
  },
  {
   "cell_type": "code",
   "execution_count": 26,
   "metadata": {},
   "outputs": [
    {
     "name": "stdout",
     "output_type": "stream",
     "text": [
      "https://www.alphavantage.co/query?function=CRYPTO_INTRADAY&symbol=ETH&market=USD&interval=5min&apikey=J1CWSFE0KTEO2I97\n"
     ]
    }
   ],
   "source": [
    "# RUN ONCE\n",
    "params = {\n",
    " 'function': 'CRYPTO_INTRADAY',\n",
    " 'symbol': 'ETH',\n",
    " 'market': 'USD',\n",
    " 'interval': '5min',\n",
    " 'apikey': API_KEY\n",
    " }\n",
    "\n",
    "r = requests.get('https://www.alphavantage.co/query', params=params)\n",
    "print(r.url)\n",
    "price_data = r.json()\n",
    "r.close()"
   ]
  },
  {
   "cell_type": "code",
   "execution_count": 27,
   "metadata": {},
   "outputs": [
    {
     "data": {
      "text/html": [
       "<div>\n",
       "<style scoped>\n",
       "    .dataframe tbody tr th:only-of-type {\n",
       "        vertical-align: middle;\n",
       "    }\n",
       "\n",
       "    .dataframe tbody tr th {\n",
       "        vertical-align: top;\n",
       "    }\n",
       "\n",
       "    .dataframe thead th {\n",
       "        text-align: right;\n",
       "    }\n",
       "</style>\n",
       "<table border=\"1\" class=\"dataframe\">\n",
       "  <thead>\n",
       "    <tr style=\"text-align: right;\">\n",
       "      <th></th>\n",
       "      <th>1. open</th>\n",
       "      <th>2. high</th>\n",
       "      <th>3. low</th>\n",
       "      <th>4. close</th>\n",
       "      <th>5. volume</th>\n",
       "    </tr>\n",
       "  </thead>\n",
       "  <tbody>\n",
       "    <tr>\n",
       "      <th>2021-12-27 22:20:00</th>\n",
       "      <td>4072.31000</td>\n",
       "      <td>4072.85000</td>\n",
       "      <td>4069.86000</td>\n",
       "      <td>4069.97000</td>\n",
       "      <td>151</td>\n",
       "    </tr>\n",
       "    <tr>\n",
       "      <th>2021-12-27 22:15:00</th>\n",
       "      <td>4073.66000</td>\n",
       "      <td>4073.66000</td>\n",
       "      <td>4067.22000</td>\n",
       "      <td>4072.32000</td>\n",
       "      <td>585</td>\n",
       "    </tr>\n",
       "    <tr>\n",
       "      <th>2021-12-27 22:10:00</th>\n",
       "      <td>4067.83000</td>\n",
       "      <td>4073.67000</td>\n",
       "      <td>4067.82000</td>\n",
       "      <td>4073.66000</td>\n",
       "      <td>723</td>\n",
       "    </tr>\n",
       "    <tr>\n",
       "      <th>2021-12-27 22:05:00</th>\n",
       "      <td>4064.13000</td>\n",
       "      <td>4067.83000</td>\n",
       "      <td>4060.10000</td>\n",
       "      <td>4067.82000</td>\n",
       "      <td>1088</td>\n",
       "    </tr>\n",
       "    <tr>\n",
       "      <th>2021-12-27 22:00:00</th>\n",
       "      <td>4059.69000</td>\n",
       "      <td>4066.13000</td>\n",
       "      <td>4055.00000</td>\n",
       "      <td>4064.12000</td>\n",
       "      <td>1215</td>\n",
       "    </tr>\n",
       "  </tbody>\n",
       "</table>\n",
       "</div>"
      ],
      "text/plain": [
       "                        1. open     2. high      3. low    4. close 5. volume\n",
       "2021-12-27 22:20:00  4072.31000  4072.85000  4069.86000  4069.97000       151\n",
       "2021-12-27 22:15:00  4073.66000  4073.66000  4067.22000  4072.32000       585\n",
       "2021-12-27 22:10:00  4067.83000  4073.67000  4067.82000  4073.66000       723\n",
       "2021-12-27 22:05:00  4064.13000  4067.83000  4060.10000  4067.82000      1088\n",
       "2021-12-27 22:00:00  4059.69000  4066.13000  4055.00000  4064.12000      1215"
      ]
     },
     "execution_count": 27,
     "metadata": {},
     "output_type": "execute_result"
    }
   ],
   "source": [
    "price_df = pd.DataFrame(price_data['Time Series Crypto (5min)']).T\n",
    "price_df.head()"
   ]
  },
  {
   "cell_type": "code",
   "execution_count": 28,
   "metadata": {},
   "outputs": [
    {
     "name": "stdout",
     "output_type": "stream",
     "text": [
      "https://www.alphavantage.co/query?function=BBANDS&symbol=ETHUSD&interval=5min&time_period=100&series_type=open&apikey=J1CWSFE0KTEO2I97\n",
      "dict_keys(['Meta Data', 'Technical Analysis: BBANDS'])\n"
     ]
    }
   ],
   "source": [
    "# RUN ONCE\n",
    "params = {\n",
    " 'function': 'BBANDS',\n",
    " 'symbol': 'ETHUSD',\n",
    " 'interval': '5min',\n",
    " 'time_period':'100',\n",
    " 'series_type':'open',\n",
    " 'apikey': API_KEY\n",
    " }\n",
    "\n",
    "r = requests.get('https://www.alphavantage.co/query', params=params)\n",
    "print(r.url)\n",
    "bband_data = r.json()\n",
    "print(bband_data.keys())\n",
    "r.close()"
   ]
  },
  {
   "cell_type": "code",
   "execution_count": 29,
   "metadata": {},
   "outputs": [
    {
     "data": {
      "text/html": [
       "<div>\n",
       "<style scoped>\n",
       "    .dataframe tbody tr th:only-of-type {\n",
       "        vertical-align: middle;\n",
       "    }\n",
       "\n",
       "    .dataframe tbody tr th {\n",
       "        vertical-align: top;\n",
       "    }\n",
       "\n",
       "    .dataframe thead th {\n",
       "        text-align: right;\n",
       "    }\n",
       "</style>\n",
       "<table border=\"1\" class=\"dataframe\">\n",
       "  <thead>\n",
       "    <tr style=\"text-align: right;\">\n",
       "      <th></th>\n",
       "      <th>Real Middle Band</th>\n",
       "      <th>Real Lower Band</th>\n",
       "      <th>Real Upper Band</th>\n",
       "    </tr>\n",
       "  </thead>\n",
       "  <tbody>\n",
       "    <tr>\n",
       "      <th>2021-12-27 17:20</th>\n",
       "      <td>4091.3037</td>\n",
       "      <td>4065.6190</td>\n",
       "      <td>4116.9884</td>\n",
       "    </tr>\n",
       "    <tr>\n",
       "      <th>2021-12-27 17:15</th>\n",
       "      <td>4091.4754</td>\n",
       "      <td>4066.0728</td>\n",
       "      <td>4116.8780</td>\n",
       "    </tr>\n",
       "    <tr>\n",
       "      <th>2021-12-27 17:10</th>\n",
       "      <td>4091.6704</td>\n",
       "      <td>4066.5197</td>\n",
       "      <td>4116.8211</td>\n",
       "    </tr>\n",
       "    <tr>\n",
       "      <th>2021-12-27 17:05</th>\n",
       "      <td>4091.8670</td>\n",
       "      <td>4067.1614</td>\n",
       "      <td>4116.5726</td>\n",
       "    </tr>\n",
       "    <tr>\n",
       "      <th>2021-12-27 17:00</th>\n",
       "      <td>4092.0872</td>\n",
       "      <td>4067.9894</td>\n",
       "      <td>4116.1850</td>\n",
       "    </tr>\n",
       "  </tbody>\n",
       "</table>\n",
       "</div>"
      ],
      "text/plain": [
       "                 Real Middle Band Real Lower Band Real Upper Band\n",
       "2021-12-27 17:20        4091.3037       4065.6190       4116.9884\n",
       "2021-12-27 17:15        4091.4754       4066.0728       4116.8780\n",
       "2021-12-27 17:10        4091.6704       4066.5197       4116.8211\n",
       "2021-12-27 17:05        4091.8670       4067.1614       4116.5726\n",
       "2021-12-27 17:00        4092.0872       4067.9894       4116.1850"
      ]
     },
     "execution_count": 29,
     "metadata": {},
     "output_type": "execute_result"
    }
   ],
   "source": [
    "bbands_df = pd.DataFrame(bband_data['Technical Analysis: BBANDS']).T\n",
    "bbands_df.head()"
   ]
  },
  {
   "cell_type": "code",
   "execution_count": 30,
   "metadata": {},
   "outputs": [],
   "source": [
    "# # Dictionary with original and new column names.\n",
    "# new_col_names = {'1a. open (USD)': 'open',\n",
    "#         '2a. high (USD)': 'high',\n",
    "#         '3a. low (USD)': 'low',\n",
    "#         '4a. close (USD)': 'close',\n",
    "#         '5. volume': 'volume',}\n",
    "  \n",
    "# # Call rename() method. \n",
    "# df.rename(columns= new_col_names,\n",
    "#           inplace=True)"
   ]
  },
  {
   "cell_type": "code",
   "execution_count": 31,
   "metadata": {},
   "outputs": [],
   "source": [
    "# # Dictionary with original and new column names.\n",
    "# new_col_names = {'Real Upper Band': 'bband_up',\n",
    "#         'Real Middle Band': 'bband_mid',\n",
    "#         'Real Lower Band': 'bband_low',\n",
    "#         'RSI': 'rsi'}\n",
    "  \n",
    "# # Call rename() method. \n",
    "# df.rename(columns= new_col_names,\n",
    "#           inplace=True)"
   ]
  }
 ],
 "metadata": {
  "interpreter": {
   "hash": "31f2aee4e71d21fbe5cf8b01ff0e069b9275f58929596ceb00d14d90e3e16cd6"
  },
  "kernelspec": {
   "display_name": "Python 3.8.10 64-bit",
   "language": "python",
   "name": "python3"
  },
  "language_info": {
   "codemirror_mode": {
    "name": "ipython",
    "version": 3
   },
   "file_extension": ".py",
   "mimetype": "text/x-python",
   "name": "python",
   "nbconvert_exporter": "python",
   "pygments_lexer": "ipython3",
   "version": "3.8.10"
  },
  "orig_nbformat": 4
 },
 "nbformat": 4,
 "nbformat_minor": 2
}
