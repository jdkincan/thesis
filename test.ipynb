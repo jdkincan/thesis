{
 "cells": [
  {
   "cell_type": "code",
   "execution_count": 51,
   "metadata": {},
   "outputs": [],
   "source": [
    "# Import Dependencies\n",
    "import os\n",
    "from dotenv import load_dotenv\n",
    "import requests\n",
    "from alpha_vantage.cryptocurrencies import CryptoCurrencies\n",
    "from alpha_vantage.techindicators import TechIndicators\n",
    "import pandas as pd\n",
    "import matplotlib.pyplot as plt\n",
    "import seaborn as sns\n",
    "from datetime import datetime"
   ]
  },
  {
   "cell_type": "code",
   "execution_count": 52,
   "metadata": {},
   "outputs": [],
   "source": [
    "# RUN ONCE\n",
    "load_dotenv()\n",
    "API_KEY = os.getenv('SPECIAL_API_KEY')"
   ]
  },
  {
   "cell_type": "code",
   "execution_count": 53,
   "metadata": {},
   "outputs": [
    {
     "name": "stdout",
     "output_type": "stream",
     "text": [
      "https://www.alphavantage.co/query?function=CRYPTO_INTRADAY&symbol=ETH&market=USD&interval=5min&time_zone=US%2FEastern+Time&apikey=J1CWSFE0KTEO2I97\n",
      "dict_keys(['Meta Data', 'Time Series Crypto (5min)'])\n"
     ]
    }
   ],
   "source": [
    "# RUN ONCE\n",
    "params = {\n",
    " 'function': 'CRYPTO_INTRADAY',\n",
    " 'symbol': 'ETH',\n",
    " 'market': 'USD',\n",
    " 'interval': '5min',\n",
    " 'time_zone': 'US/Eastern Time',\n",
    " 'apikey': API_KEY\n",
    " }\n",
    "\n",
    "r = requests.get('https://www.alphavantage.co/query', params=params)\n",
    "print(r.url)\n",
    "price_data = r.json()\n",
    "print(price_data.keys())\n",
    "r.close()"
   ]
  },
  {
   "cell_type": "code",
   "execution_count": 54,
   "metadata": {},
   "outputs": [
    {
     "name": "stdout",
     "output_type": "stream",
     "text": [
      "{'1. Information': 'Crypto Intraday (5min) Time Series', '2. Digital Currency Code': 'ETH', '3. Digital Currency Name': 'Ethereum', '4. Market Code': 'USD', '5. Market Name': 'United States Dollar', '6. Last Refreshed': '2021-12-29 00:35:00', '7. Interval': '5min', '8. Output Size': 'Compact', '9. Time Zone': 'UTC'}\n"
     ]
    },
    {
     "name": "stderr",
     "output_type": "stream",
     "text": [
      "/tmp/ipykernel_285/2187447110.py:5: FutureWarning: In a future version of pandas all arguments of DataFrame.drop except for the argument 'labels' will be keyword-only\n",
      "  price_df = price_df.drop('index', 1)\n"
     ]
    },
    {
     "data": {
      "text/html": [
       "<div>\n",
       "<style scoped>\n",
       "    .dataframe tbody tr th:only-of-type {\n",
       "        vertical-align: middle;\n",
       "    }\n",
       "\n",
       "    .dataframe tbody tr th {\n",
       "        vertical-align: top;\n",
       "    }\n",
       "\n",
       "    .dataframe thead th {\n",
       "        text-align: right;\n",
       "    }\n",
       "</style>\n",
       "<table border=\"1\" class=\"dataframe\">\n",
       "  <thead>\n",
       "    <tr style=\"text-align: right;\">\n",
       "      <th></th>\n",
       "      <th>1. open</th>\n",
       "      <th>2. high</th>\n",
       "      <th>3. low</th>\n",
       "      <th>4. close</th>\n",
       "      <th>5. volume</th>\n",
       "      <th>date.utc</th>\n",
       "    </tr>\n",
       "  </thead>\n",
       "  <tbody>\n",
       "    <tr>\n",
       "      <th>0</th>\n",
       "      <td>3802.62000</td>\n",
       "      <td>3804.90000</td>\n",
       "      <td>3795.25000</td>\n",
       "      <td>3798.37000</td>\n",
       "      <td>186</td>\n",
       "      <td>2021-12-29 00:35:00</td>\n",
       "    </tr>\n",
       "    <tr>\n",
       "      <th>1</th>\n",
       "      <td>3809.18000</td>\n",
       "      <td>3809.18000</td>\n",
       "      <td>3795.54000</td>\n",
       "      <td>3802.63000</td>\n",
       "      <td>707</td>\n",
       "      <td>2021-12-29 00:30:00</td>\n",
       "    </tr>\n",
       "    <tr>\n",
       "      <th>2</th>\n",
       "      <td>3812.28000</td>\n",
       "      <td>3813.26000</td>\n",
       "      <td>3806.84000</td>\n",
       "      <td>3809.18000</td>\n",
       "      <td>569</td>\n",
       "      <td>2021-12-29 00:25:00</td>\n",
       "    </tr>\n",
       "    <tr>\n",
       "      <th>3</th>\n",
       "      <td>3817.40000</td>\n",
       "      <td>3819.70000</td>\n",
       "      <td>3811.57000</td>\n",
       "      <td>3812.28000</td>\n",
       "      <td>472</td>\n",
       "      <td>2021-12-29 00:20:00</td>\n",
       "    </tr>\n",
       "    <tr>\n",
       "      <th>4</th>\n",
       "      <td>3818.51000</td>\n",
       "      <td>3820.50000</td>\n",
       "      <td>3810.00000</td>\n",
       "      <td>3817.39000</td>\n",
       "      <td>960</td>\n",
       "      <td>2021-12-29 00:15:00</td>\n",
       "    </tr>\n",
       "  </tbody>\n",
       "</table>\n",
       "</div>"
      ],
      "text/plain": [
       "      1. open     2. high      3. low    4. close 5. volume  \\\n",
       "0  3802.62000  3804.90000  3795.25000  3798.37000       186   \n",
       "1  3809.18000  3809.18000  3795.54000  3802.63000       707   \n",
       "2  3812.28000  3813.26000  3806.84000  3809.18000       569   \n",
       "3  3817.40000  3819.70000  3811.57000  3812.28000       472   \n",
       "4  3818.51000  3820.50000  3810.00000  3817.39000       960   \n",
       "\n",
       "              date.utc  \n",
       "0  2021-12-29 00:35:00  \n",
       "1  2021-12-29 00:30:00  \n",
       "2  2021-12-29 00:25:00  \n",
       "3  2021-12-29 00:20:00  \n",
       "4  2021-12-29 00:15:00  "
      ]
     },
     "execution_count": 54,
     "metadata": {},
     "output_type": "execute_result"
    }
   ],
   "source": [
    "price_df = pd.DataFrame(price_data['Time Series Crypto (5min)']).T\n",
    "print(price_data['Meta Data'])\n",
    "price_df.reset_index(inplace=True)\n",
    "price_df['date.utc'] = price_df['index']\n",
    "price_df = price_df.drop('index', 1)\n",
    "price_df.head()"
   ]
  },
  {
   "cell_type": "code",
   "execution_count": 55,
   "metadata": {},
   "outputs": [
    {
     "name": "stdout",
     "output_type": "stream",
     "text": [
      "https://www.alphavantage.co/query?function=BBANDS&symbol=ETHUSD&interval=5min&time_period=20&series_type=close&apikey=J1CWSFE0KTEO2I97\n",
      "dict_keys(['Meta Data', 'Technical Analysis: BBANDS'])\n"
     ]
    }
   ],
   "source": [
    "# RUN ONCE\n",
    "params = {\n",
    " 'function': 'BBANDS',\n",
    " 'symbol': 'ETHUSD',\n",
    " 'interval': '5min',\n",
    " 'time_period': '20',\n",
    " 'series_type': 'close',\n",
    " 'apikey': API_KEY\n",
    " }\n",
    "\n",
    "r = requests.get('https://www.alphavantage.co/query', params=params)\n",
    "print(r.url)\n",
    "bband_data = r.json()\n",
    "print(bband_data.keys())\n",
    "r.close()"
   ]
  },
  {
   "cell_type": "code",
   "execution_count": 56,
   "metadata": {},
   "outputs": [
    {
     "name": "stdout",
     "output_type": "stream",
     "text": [
      "{'1: Symbol': 'ETHUSD', '2: Indicator': 'Bollinger Bands (BBANDS)', '3: Last Refreshed': '2021-12-28 19:35:00', '4: Interval': '5min', '5: Time Period': 20, '6.1: Deviation multiplier for upper band': 2, '6.2: Deviation multiplier for lower band': 2, '6.3: MA Type': 0, '7: Series Type': 'close', '8: Time Zone': 'US/Eastern Time'}\n"
     ]
    },
    {
     "name": "stderr",
     "output_type": "stream",
     "text": [
      "/tmp/ipykernel_285/2181832318.py:5: FutureWarning: In a future version of pandas all arguments of DataFrame.drop except for the argument 'labels' will be keyword-only\n",
      "  bbands_df = bbands_df.drop('index', 1)\n"
     ]
    },
    {
     "data": {
      "text/html": [
       "<div>\n",
       "<style scoped>\n",
       "    .dataframe tbody tr th:only-of-type {\n",
       "        vertical-align: middle;\n",
       "    }\n",
       "\n",
       "    .dataframe tbody tr th {\n",
       "        vertical-align: top;\n",
       "    }\n",
       "\n",
       "    .dataframe thead th {\n",
       "        text-align: right;\n",
       "    }\n",
       "</style>\n",
       "<table border=\"1\" class=\"dataframe\">\n",
       "  <thead>\n",
       "    <tr style=\"text-align: right;\">\n",
       "      <th></th>\n",
       "      <th>Real Middle Band</th>\n",
       "      <th>Real Lower Band</th>\n",
       "      <th>Real Upper Band</th>\n",
       "      <th>date.est1</th>\n",
       "    </tr>\n",
       "  </thead>\n",
       "  <tbody>\n",
       "    <tr>\n",
       "      <th>0</th>\n",
       "      <td>3806.4455</td>\n",
       "      <td>3789.4866</td>\n",
       "      <td>3823.4044</td>\n",
       "      <td>2021-12-28 19:35</td>\n",
       "    </tr>\n",
       "    <tr>\n",
       "      <th>1</th>\n",
       "      <td>3807.0580</td>\n",
       "      <td>3790.4283</td>\n",
       "      <td>3823.6877</td>\n",
       "      <td>2021-12-28 19:30</td>\n",
       "    </tr>\n",
       "    <tr>\n",
       "      <th>2</th>\n",
       "      <td>3807.4480</td>\n",
       "      <td>3790.8863</td>\n",
       "      <td>3824.0097</td>\n",
       "      <td>2021-12-28 19:25</td>\n",
       "    </tr>\n",
       "    <tr>\n",
       "      <th>3</th>\n",
       "      <td>3807.4890</td>\n",
       "      <td>3790.9063</td>\n",
       "      <td>3824.0717</td>\n",
       "      <td>2021-12-28 19:20</td>\n",
       "    </tr>\n",
       "    <tr>\n",
       "      <th>4</th>\n",
       "      <td>3807.1095</td>\n",
       "      <td>3790.6357</td>\n",
       "      <td>3823.5833</td>\n",
       "      <td>2021-12-28 19:15</td>\n",
       "    </tr>\n",
       "  </tbody>\n",
       "</table>\n",
       "</div>"
      ],
      "text/plain": [
       "  Real Middle Band Real Lower Band Real Upper Band         date.est1\n",
       "0        3806.4455       3789.4866       3823.4044  2021-12-28 19:35\n",
       "1        3807.0580       3790.4283       3823.6877  2021-12-28 19:30\n",
       "2        3807.4480       3790.8863       3824.0097  2021-12-28 19:25\n",
       "3        3807.4890       3790.9063       3824.0717  2021-12-28 19:20\n",
       "4        3807.1095       3790.6357       3823.5833  2021-12-28 19:15"
      ]
     },
     "execution_count": 56,
     "metadata": {},
     "output_type": "execute_result"
    }
   ],
   "source": [
    "bbands_df = pd.DataFrame(bband_data['Technical Analysis: BBANDS']).T\n",
    "print(bband_data['Meta Data'])\n",
    "bbands_df.reset_index(inplace=True)\n",
    "bbands_df['date.est1'] = bbands_df['index']\n",
    "bbands_df = bbands_df.drop('index', 1)\n",
    "bbands_df.head()"
   ]
  },
  {
   "cell_type": "code",
   "execution_count": 57,
   "metadata": {},
   "outputs": [
    {
     "name": "stdout",
     "output_type": "stream",
     "text": [
      "https://www.alphavantage.co/query?function=MACD&symbol=ETHUSD&interval=5min&series_type=close&apikey=J1CWSFE0KTEO2I97\n",
      "dict_keys(['Meta Data', 'Technical Analysis: MACD'])\n"
     ]
    }
   ],
   "source": [
    "# RUN ONCE\n",
    "params = {\n",
    " 'function': 'MACD',\n",
    " 'symbol': 'ETHUSD',\n",
    " 'interval': '5min',\n",
    " 'series_type': 'close',\n",
    " 'apikey': API_KEY\n",
    " }\n",
    "\n",
    "r = requests.get('https://www.alphavantage.co/query', params=params)\n",
    "print(r.url)\n",
    "macd_data = r.json()\n",
    "print(macd_data.keys())\n",
    "r.close()"
   ]
  },
  {
   "cell_type": "code",
   "execution_count": 58,
   "metadata": {},
   "outputs": [
    {
     "name": "stdout",
     "output_type": "stream",
     "text": [
      "{'1: Symbol': 'ETHUSD', '2: Indicator': 'Moving Average Convergence/Divergence (MACD)', '3: Last Refreshed': '2021-12-28 19:35:00', '4: Interval': '5min', '5.1: Fast Period': 12, '5.2: Slow Period': 26, '5.3: Signal Period': 9, '6: Series Type': 'close', '7: Time Zone': 'US/Eastern'}\n"
     ]
    },
    {
     "name": "stderr",
     "output_type": "stream",
     "text": [
      "/tmp/ipykernel_285/1630572137.py:5: FutureWarning: In a future version of pandas all arguments of DataFrame.drop except for the argument 'labels' will be keyword-only\n",
      "  macd_df = macd_df.drop('index', 1)\n"
     ]
    },
    {
     "data": {
      "text/html": [
       "<div>\n",
       "<style scoped>\n",
       "    .dataframe tbody tr th:only-of-type {\n",
       "        vertical-align: middle;\n",
       "    }\n",
       "\n",
       "    .dataframe tbody tr th {\n",
       "        vertical-align: top;\n",
       "    }\n",
       "\n",
       "    .dataframe thead th {\n",
       "        text-align: right;\n",
       "    }\n",
       "</style>\n",
       "<table border=\"1\" class=\"dataframe\">\n",
       "  <thead>\n",
       "    <tr style=\"text-align: right;\">\n",
       "      <th></th>\n",
       "      <th>MACD</th>\n",
       "      <th>MACD_Signal</th>\n",
       "      <th>MACD_Hist</th>\n",
       "      <th>date.est2</th>\n",
       "    </tr>\n",
       "  </thead>\n",
       "  <tbody>\n",
       "    <tr>\n",
       "      <th>0</th>\n",
       "      <td>-1.2339</td>\n",
       "      <td>-1.0959</td>\n",
       "      <td>-0.1379</td>\n",
       "      <td>2021-12-28 19:35</td>\n",
       "    </tr>\n",
       "    <tr>\n",
       "      <th>1</th>\n",
       "      <td>-0.4450</td>\n",
       "      <td>-1.0614</td>\n",
       "      <td>0.6164</td>\n",
       "      <td>2021-12-28 19:30</td>\n",
       "    </tr>\n",
       "    <tr>\n",
       "      <th>2</th>\n",
       "      <td>-0.0039</td>\n",
       "      <td>-1.2155</td>\n",
       "      <td>1.2117</td>\n",
       "      <td>2021-12-28 19:25</td>\n",
       "    </tr>\n",
       "    <tr>\n",
       "      <th>3</th>\n",
       "      <td>-0.1077</td>\n",
       "      <td>-1.5185</td>\n",
       "      <td>1.4108</td>\n",
       "      <td>2021-12-28 19:20</td>\n",
       "    </tr>\n",
       "    <tr>\n",
       "      <th>4</th>\n",
       "      <td>-0.5542</td>\n",
       "      <td>-1.8712</td>\n",
       "      <td>1.3170</td>\n",
       "      <td>2021-12-28 19:15</td>\n",
       "    </tr>\n",
       "  </tbody>\n",
       "</table>\n",
       "</div>"
      ],
      "text/plain": [
       "      MACD MACD_Signal MACD_Hist         date.est2\n",
       "0  -1.2339     -1.0959   -0.1379  2021-12-28 19:35\n",
       "1  -0.4450     -1.0614    0.6164  2021-12-28 19:30\n",
       "2  -0.0039     -1.2155    1.2117  2021-12-28 19:25\n",
       "3  -0.1077     -1.5185    1.4108  2021-12-28 19:20\n",
       "4  -0.5542     -1.8712    1.3170  2021-12-28 19:15"
      ]
     },
     "execution_count": 58,
     "metadata": {},
     "output_type": "execute_result"
    }
   ],
   "source": [
    "macd_df = pd.DataFrame(macd_data['Technical Analysis: MACD']).T\n",
    "print(macd_data['Meta Data'])\n",
    "macd_df.reset_index(inplace=True)\n",
    "macd_df['date.est2'] = macd_df['index']\n",
    "macd_df = macd_df.drop('index', 1)\n",
    "macd_df.head()"
   ]
  },
  {
   "cell_type": "code",
   "execution_count": 59,
   "metadata": {},
   "outputs": [
    {
     "name": "stdout",
     "output_type": "stream",
     "text": [
      "https://www.alphavantage.co/query?function=VWAP&symbol=ETHUSD&interval=5min&apikey=J1CWSFE0KTEO2I97\n",
      "dict_keys(['Meta Data', 'Technical Analysis: VWAP'])\n"
     ]
    }
   ],
   "source": [
    "# RUN ONCE\n",
    "params = {\n",
    " 'function': 'VWAP',\n",
    " 'symbol': 'ETHUSD',\n",
    " 'interval': '5min',\n",
    " 'apikey': API_KEY\n",
    " }\n",
    "\n",
    "r = requests.get('https://www.alphavantage.co/query', params=params)\n",
    "print(r.url)\n",
    "vwap_data = r.json()\n",
    "print(vwap_data.keys())\n",
    "r.close()"
   ]
  },
  {
   "cell_type": "code",
   "execution_count": 60,
   "metadata": {},
   "outputs": [
    {
     "name": "stdout",
     "output_type": "stream",
     "text": [
      "{'1: Symbol': 'ETHUSD', '2: Indicator': 'Volume Weighted Average Price (VWAP)', '3: Last Refreshed': '2021-12-28 19:35:00', '4: Interval': '5min', '5: Time Zone': 'US/Eastern'}\n"
     ]
    },
    {
     "name": "stderr",
     "output_type": "stream",
     "text": [
      "/tmp/ipykernel_285/3144706710.py:5: FutureWarning: In a future version of pandas all arguments of DataFrame.drop except for the argument 'labels' will be keyword-only\n",
      "  vwap_df = vwap_df.drop('index', 1)\n"
     ]
    },
    {
     "data": {
      "text/html": [
       "<div>\n",
       "<style scoped>\n",
       "    .dataframe tbody tr th:only-of-type {\n",
       "        vertical-align: middle;\n",
       "    }\n",
       "\n",
       "    .dataframe tbody tr th {\n",
       "        vertical-align: top;\n",
       "    }\n",
       "\n",
       "    .dataframe thead th {\n",
       "        text-align: right;\n",
       "    }\n",
       "</style>\n",
       "<table border=\"1\" class=\"dataframe\">\n",
       "  <thead>\n",
       "    <tr style=\"text-align: right;\">\n",
       "      <th></th>\n",
       "      <th>VWAP</th>\n",
       "      <th>date.est3</th>\n",
       "    </tr>\n",
       "  </thead>\n",
       "  <tbody>\n",
       "    <tr>\n",
       "      <th>0</th>\n",
       "      <td>3861.7788</td>\n",
       "      <td>2021-12-28 19:35</td>\n",
       "    </tr>\n",
       "    <tr>\n",
       "      <th>1</th>\n",
       "      <td>3861.8342</td>\n",
       "      <td>2021-12-28 19:30</td>\n",
       "    </tr>\n",
       "    <tr>\n",
       "      <th>2</th>\n",
       "      <td>3861.9942</td>\n",
       "      <td>2021-12-28 19:25</td>\n",
       "    </tr>\n",
       "    <tr>\n",
       "      <th>3</th>\n",
       "      <td>3862.1078</td>\n",
       "      <td>2021-12-28 19:20</td>\n",
       "    </tr>\n",
       "    <tr>\n",
       "      <th>4</th>\n",
       "      <td>3862.1938</td>\n",
       "      <td>2021-12-28 19:15</td>\n",
       "    </tr>\n",
       "  </tbody>\n",
       "</table>\n",
       "</div>"
      ],
      "text/plain": [
       "        VWAP         date.est3\n",
       "0  3861.7788  2021-12-28 19:35\n",
       "1  3861.8342  2021-12-28 19:30\n",
       "2  3861.9942  2021-12-28 19:25\n",
       "3  3862.1078  2021-12-28 19:20\n",
       "4  3862.1938  2021-12-28 19:15"
      ]
     },
     "execution_count": 60,
     "metadata": {},
     "output_type": "execute_result"
    }
   ],
   "source": [
    "vwap_df = pd.DataFrame(vwap_data['Technical Analysis: VWAP']).T\n",
    "print(vwap_data['Meta Data'])\n",
    "vwap_df.reset_index(inplace=True)\n",
    "vwap_df['date.est3'] = vwap_df['index']\n",
    "vwap_df = vwap_df.drop('index', 1)\n",
    "vwap_df.head()"
   ]
  },
  {
   "cell_type": "code",
   "execution_count": 61,
   "metadata": {},
   "outputs": [
    {
     "data": {
      "text/html": [
       "<div>\n",
       "<style scoped>\n",
       "    .dataframe tbody tr th:only-of-type {\n",
       "        vertical-align: middle;\n",
       "    }\n",
       "\n",
       "    .dataframe tbody tr th {\n",
       "        vertical-align: top;\n",
       "    }\n",
       "\n",
       "    .dataframe thead th {\n",
       "        text-align: right;\n",
       "    }\n",
       "</style>\n",
       "<table border=\"1\" class=\"dataframe\">\n",
       "  <thead>\n",
       "    <tr style=\"text-align: right;\">\n",
       "      <th></th>\n",
       "      <th>1. open</th>\n",
       "      <th>2. high</th>\n",
       "      <th>3. low</th>\n",
       "      <th>4. close</th>\n",
       "      <th>5. volume</th>\n",
       "      <th>date.utc</th>\n",
       "      <th>Real Middle Band</th>\n",
       "      <th>Real Lower Band</th>\n",
       "      <th>Real Upper Band</th>\n",
       "      <th>date.est1</th>\n",
       "      <th>MACD</th>\n",
       "      <th>MACD_Signal</th>\n",
       "      <th>MACD_Hist</th>\n",
       "      <th>date.est2</th>\n",
       "      <th>VWAP</th>\n",
       "      <th>date.est3</th>\n",
       "    </tr>\n",
       "  </thead>\n",
       "  <tbody>\n",
       "    <tr>\n",
       "      <th>0</th>\n",
       "      <td>3802.62000</td>\n",
       "      <td>3804.90000</td>\n",
       "      <td>3795.25000</td>\n",
       "      <td>3798.37000</td>\n",
       "      <td>186</td>\n",
       "      <td>2021-12-29 00:35:00</td>\n",
       "      <td>3806.4455</td>\n",
       "      <td>3789.4866</td>\n",
       "      <td>3823.4044</td>\n",
       "      <td>2021-12-28 19:35</td>\n",
       "      <td>-1.2339</td>\n",
       "      <td>-1.0959</td>\n",
       "      <td>-0.1379</td>\n",
       "      <td>2021-12-28 19:35</td>\n",
       "      <td>3861.7788</td>\n",
       "      <td>2021-12-28 19:35</td>\n",
       "    </tr>\n",
       "    <tr>\n",
       "      <th>1</th>\n",
       "      <td>3809.18000</td>\n",
       "      <td>3809.18000</td>\n",
       "      <td>3795.54000</td>\n",
       "      <td>3802.63000</td>\n",
       "      <td>707</td>\n",
       "      <td>2021-12-29 00:30:00</td>\n",
       "      <td>3807.0580</td>\n",
       "      <td>3790.4283</td>\n",
       "      <td>3823.6877</td>\n",
       "      <td>2021-12-28 19:30</td>\n",
       "      <td>-0.4450</td>\n",
       "      <td>-1.0614</td>\n",
       "      <td>0.6164</td>\n",
       "      <td>2021-12-28 19:30</td>\n",
       "      <td>3861.8342</td>\n",
       "      <td>2021-12-28 19:30</td>\n",
       "    </tr>\n",
       "    <tr>\n",
       "      <th>2</th>\n",
       "      <td>3812.28000</td>\n",
       "      <td>3813.26000</td>\n",
       "      <td>3806.84000</td>\n",
       "      <td>3809.18000</td>\n",
       "      <td>569</td>\n",
       "      <td>2021-12-29 00:25:00</td>\n",
       "      <td>3807.4480</td>\n",
       "      <td>3790.8863</td>\n",
       "      <td>3824.0097</td>\n",
       "      <td>2021-12-28 19:25</td>\n",
       "      <td>-0.0039</td>\n",
       "      <td>-1.2155</td>\n",
       "      <td>1.2117</td>\n",
       "      <td>2021-12-28 19:25</td>\n",
       "      <td>3861.9942</td>\n",
       "      <td>2021-12-28 19:25</td>\n",
       "    </tr>\n",
       "    <tr>\n",
       "      <th>3</th>\n",
       "      <td>3817.40000</td>\n",
       "      <td>3819.70000</td>\n",
       "      <td>3811.57000</td>\n",
       "      <td>3812.28000</td>\n",
       "      <td>472</td>\n",
       "      <td>2021-12-29 00:20:00</td>\n",
       "      <td>3807.4890</td>\n",
       "      <td>3790.9063</td>\n",
       "      <td>3824.0717</td>\n",
       "      <td>2021-12-28 19:20</td>\n",
       "      <td>-0.1077</td>\n",
       "      <td>-1.5185</td>\n",
       "      <td>1.4108</td>\n",
       "      <td>2021-12-28 19:20</td>\n",
       "      <td>3862.1078</td>\n",
       "      <td>2021-12-28 19:20</td>\n",
       "    </tr>\n",
       "    <tr>\n",
       "      <th>4</th>\n",
       "      <td>3818.51000</td>\n",
       "      <td>3820.50000</td>\n",
       "      <td>3810.00000</td>\n",
       "      <td>3817.39000</td>\n",
       "      <td>960</td>\n",
       "      <td>2021-12-29 00:15:00</td>\n",
       "      <td>3807.1095</td>\n",
       "      <td>3790.6357</td>\n",
       "      <td>3823.5833</td>\n",
       "      <td>2021-12-28 19:15</td>\n",
       "      <td>-0.5542</td>\n",
       "      <td>-1.8712</td>\n",
       "      <td>1.3170</td>\n",
       "      <td>2021-12-28 19:15</td>\n",
       "      <td>3862.1938</td>\n",
       "      <td>2021-12-28 19:15</td>\n",
       "    </tr>\n",
       "  </tbody>\n",
       "</table>\n",
       "</div>"
      ],
      "text/plain": [
       "      1. open     2. high      3. low    4. close 5. volume  \\\n",
       "0  3802.62000  3804.90000  3795.25000  3798.37000       186   \n",
       "1  3809.18000  3809.18000  3795.54000  3802.63000       707   \n",
       "2  3812.28000  3813.26000  3806.84000  3809.18000       569   \n",
       "3  3817.40000  3819.70000  3811.57000  3812.28000       472   \n",
       "4  3818.51000  3820.50000  3810.00000  3817.39000       960   \n",
       "\n",
       "              date.utc Real Middle Band Real Lower Band Real Upper Band  \\\n",
       "0  2021-12-29 00:35:00        3806.4455       3789.4866       3823.4044   \n",
       "1  2021-12-29 00:30:00        3807.0580       3790.4283       3823.6877   \n",
       "2  2021-12-29 00:25:00        3807.4480       3790.8863       3824.0097   \n",
       "3  2021-12-29 00:20:00        3807.4890       3790.9063       3824.0717   \n",
       "4  2021-12-29 00:15:00        3807.1095       3790.6357       3823.5833   \n",
       "\n",
       "          date.est1     MACD MACD_Signal MACD_Hist         date.est2  \\\n",
       "0  2021-12-28 19:35  -1.2339     -1.0959   -0.1379  2021-12-28 19:35   \n",
       "1  2021-12-28 19:30  -0.4450     -1.0614    0.6164  2021-12-28 19:30   \n",
       "2  2021-12-28 19:25  -0.0039     -1.2155    1.2117  2021-12-28 19:25   \n",
       "3  2021-12-28 19:20  -0.1077     -1.5185    1.4108  2021-12-28 19:20   \n",
       "4  2021-12-28 19:15  -0.5542     -1.8712    1.3170  2021-12-28 19:15   \n",
       "\n",
       "        VWAP         date.est3  \n",
       "0  3861.7788  2021-12-28 19:35  \n",
       "1  3861.8342  2021-12-28 19:30  \n",
       "2  3861.9942  2021-12-28 19:25  \n",
       "3  3862.1078  2021-12-28 19:20  \n",
       "4  3862.1938  2021-12-28 19:15  "
      ]
     },
     "execution_count": 61,
     "metadata": {},
     "output_type": "execute_result"
    }
   ],
   "source": [
    "df = price_df.join(bbands_df, how = 'left')\n",
    "df = df.join(macd_df, how = 'left')\n",
    "df = df.join(vwap_df, how = 'left')\n",
    "df.head()"
   ]
  },
  {
   "cell_type": "code",
   "execution_count": 62,
   "metadata": {},
   "outputs": [],
   "source": [
    "# Dictionary with original and new column names.\n",
    "new_col_names = {'1. open': 'open',\n",
    "        '2. high': 'high',\n",
    "        '3. low': 'low',\n",
    "        '4. close': 'close',\n",
    "        '5. volume': 'volume',\n",
    "        'Real Middle Band': 'bband.mid',\n",
    "        'Real Upper Band': 'bband.up',\n",
    "        'Real Lower Band': 'bband.low',\n",
    "        'MACD_Signal': 'macd.sig',\n",
    "        'MACD_Hist': 'macd.hist',\n",
    "        'MACD': 'macd',\n",
    "        'VWAP': 'vwap'}\n",
    "  \n",
    "# Call rename() method. \n",
    "df.rename(columns= new_col_names,\n",
    "          inplace=True)"
   ]
  },
  {
   "cell_type": "code",
   "execution_count": 63,
   "metadata": {},
   "outputs": [
    {
     "name": "stderr",
     "output_type": "stream",
     "text": [
      "/tmp/ipykernel_285/1508849808.py:1: FutureWarning: In a future version of pandas all arguments of DataFrame.drop except for the argument 'labels' will be keyword-only\n",
      "  df = df.drop(['date.est1', 'date.est2', 'date.est3'], 1)\n"
     ]
    }
   ],
   "source": [
    "df = df.drop(['date.est1', 'date.est2', 'date.est3'], 1)\n",
    "df['date.utc'] = pd.to_datetime(df['date.utc'])\n",
    "df = df.set_index('date.utc')"
   ]
  },
  {
   "cell_type": "code",
   "execution_count": 69,
   "metadata": {},
   "outputs": [],
   "source": [
    "df['open'] = df['open'].astype(str).astype(float)\n",
    "df['high'] = df['high'].astype(str).astype(float)\n",
    "df['low'] = df['low'].astype(str).astype(float)\n",
    "df['close'] = df['close'].astype(str).astype(float)\n",
    "df['volume'] = df['volume'].astype(str).astype(float)\n",
    "df['bband.low'] = df['bband.low'].astype(str).astype(float)\n",
    "df['bband.up'] = df['bband.up'].astype(str).astype(float)\n",
    "df['bband.mid'] = df['bband.mid'].astype(str).astype(float)\n",
    "df['macd'] = df['macd'].astype(str).astype(float)\n",
    "df['macd.hist'] = df['macd.hist'].astype(str).astype(float)\n",
    "df['macd.sig'] = df['macd.sig'].astype(str).astype(float)\n",
    "df['vwap'] = df['vwap'].astype(str).astype(float)"
   ]
  },
  {
   "cell_type": "code",
   "execution_count": 70,
   "metadata": {},
   "outputs": [
    {
     "name": "stdout",
     "output_type": "stream",
     "text": [
      "<class 'pandas.core.frame.DataFrame'>\n",
      "DatetimeIndex: 100 entries, 2021-12-29 00:35:00 to 2021-12-28 16:20:00\n",
      "Data columns (total 12 columns):\n",
      " #   Column     Non-Null Count  Dtype  \n",
      "---  ------     --------------  -----  \n",
      " 0   open       100 non-null    float64\n",
      " 1   high       100 non-null    float64\n",
      " 2   low        100 non-null    float64\n",
      " 3   close      100 non-null    float64\n",
      " 4   volume     100 non-null    float64\n",
      " 5   bband.mid  100 non-null    float64\n",
      " 6   bband.low  100 non-null    float64\n",
      " 7   bband.up   100 non-null    float64\n",
      " 8   macd       100 non-null    float64\n",
      " 9   macd.sig   100 non-null    float64\n",
      " 10  macd.hist  100 non-null    float64\n",
      " 11  vwap       100 non-null    float64\n",
      "dtypes: float64(12)\n",
      "memory usage: 10.2 KB\n",
      "None\n"
     ]
    }
   ],
   "source": [
    "print(df.info())"
   ]
  },
  {
   "cell_type": "code",
   "execution_count": 71,
   "metadata": {},
   "outputs": [
    {
     "data": {
      "text/html": [
       "<div>\n",
       "<style scoped>\n",
       "    .dataframe tbody tr th:only-of-type {\n",
       "        vertical-align: middle;\n",
       "    }\n",
       "\n",
       "    .dataframe tbody tr th {\n",
       "        vertical-align: top;\n",
       "    }\n",
       "\n",
       "    .dataframe thead th {\n",
       "        text-align: right;\n",
       "    }\n",
       "</style>\n",
       "<table border=\"1\" class=\"dataframe\">\n",
       "  <thead>\n",
       "    <tr style=\"text-align: right;\">\n",
       "      <th></th>\n",
       "      <th>open</th>\n",
       "      <th>high</th>\n",
       "      <th>low</th>\n",
       "      <th>close</th>\n",
       "      <th>volume</th>\n",
       "      <th>bband.mid</th>\n",
       "      <th>bband.low</th>\n",
       "      <th>bband.up</th>\n",
       "      <th>macd</th>\n",
       "      <th>macd.sig</th>\n",
       "      <th>macd.hist</th>\n",
       "      <th>vwap</th>\n",
       "    </tr>\n",
       "    <tr>\n",
       "      <th>date.utc</th>\n",
       "      <th></th>\n",
       "      <th></th>\n",
       "      <th></th>\n",
       "      <th></th>\n",
       "      <th></th>\n",
       "      <th></th>\n",
       "      <th></th>\n",
       "      <th></th>\n",
       "      <th></th>\n",
       "      <th></th>\n",
       "      <th></th>\n",
       "      <th></th>\n",
       "    </tr>\n",
       "  </thead>\n",
       "  <tbody>\n",
       "    <tr>\n",
       "      <th>2021-12-29 00:35:00</th>\n",
       "      <td>3802.62</td>\n",
       "      <td>3804.90</td>\n",
       "      <td>3795.25</td>\n",
       "      <td>3798.37</td>\n",
       "      <td>186.0</td>\n",
       "      <td>3806.4455</td>\n",
       "      <td>3789.4866</td>\n",
       "      <td>3823.4044</td>\n",
       "      <td>-1.2339</td>\n",
       "      <td>-1.0959</td>\n",
       "      <td>-0.1379</td>\n",
       "      <td>3861.7788</td>\n",
       "    </tr>\n",
       "    <tr>\n",
       "      <th>2021-12-29 00:30:00</th>\n",
       "      <td>3809.18</td>\n",
       "      <td>3809.18</td>\n",
       "      <td>3795.54</td>\n",
       "      <td>3802.63</td>\n",
       "      <td>707.0</td>\n",
       "      <td>3807.0580</td>\n",
       "      <td>3790.4283</td>\n",
       "      <td>3823.6877</td>\n",
       "      <td>-0.4450</td>\n",
       "      <td>-1.0614</td>\n",
       "      <td>0.6164</td>\n",
       "      <td>3861.8342</td>\n",
       "    </tr>\n",
       "    <tr>\n",
       "      <th>2021-12-29 00:25:00</th>\n",
       "      <td>3812.28</td>\n",
       "      <td>3813.26</td>\n",
       "      <td>3806.84</td>\n",
       "      <td>3809.18</td>\n",
       "      <td>569.0</td>\n",
       "      <td>3807.4480</td>\n",
       "      <td>3790.8863</td>\n",
       "      <td>3824.0097</td>\n",
       "      <td>-0.0039</td>\n",
       "      <td>-1.2155</td>\n",
       "      <td>1.2117</td>\n",
       "      <td>3861.9942</td>\n",
       "    </tr>\n",
       "    <tr>\n",
       "      <th>2021-12-29 00:20:00</th>\n",
       "      <td>3817.40</td>\n",
       "      <td>3819.70</td>\n",
       "      <td>3811.57</td>\n",
       "      <td>3812.28</td>\n",
       "      <td>472.0</td>\n",
       "      <td>3807.4890</td>\n",
       "      <td>3790.9063</td>\n",
       "      <td>3824.0717</td>\n",
       "      <td>-0.1077</td>\n",
       "      <td>-1.5185</td>\n",
       "      <td>1.4108</td>\n",
       "      <td>3862.1078</td>\n",
       "    </tr>\n",
       "    <tr>\n",
       "      <th>2021-12-29 00:15:00</th>\n",
       "      <td>3818.51</td>\n",
       "      <td>3820.50</td>\n",
       "      <td>3810.00</td>\n",
       "      <td>3817.39</td>\n",
       "      <td>960.0</td>\n",
       "      <td>3807.1095</td>\n",
       "      <td>3790.6357</td>\n",
       "      <td>3823.5833</td>\n",
       "      <td>-0.5542</td>\n",
       "      <td>-1.8712</td>\n",
       "      <td>1.3170</td>\n",
       "      <td>3862.1938</td>\n",
       "    </tr>\n",
       "  </tbody>\n",
       "</table>\n",
       "</div>"
      ],
      "text/plain": [
       "                        open     high      low    close  volume  bband.mid  \\\n",
       "date.utc                                                                     \n",
       "2021-12-29 00:35:00  3802.62  3804.90  3795.25  3798.37   186.0  3806.4455   \n",
       "2021-12-29 00:30:00  3809.18  3809.18  3795.54  3802.63   707.0  3807.0580   \n",
       "2021-12-29 00:25:00  3812.28  3813.26  3806.84  3809.18   569.0  3807.4480   \n",
       "2021-12-29 00:20:00  3817.40  3819.70  3811.57  3812.28   472.0  3807.4890   \n",
       "2021-12-29 00:15:00  3818.51  3820.50  3810.00  3817.39   960.0  3807.1095   \n",
       "\n",
       "                     bband.low   bband.up    macd  macd.sig  macd.hist  \\\n",
       "date.utc                                                                 \n",
       "2021-12-29 00:35:00  3789.4866  3823.4044 -1.2339   -1.0959    -0.1379   \n",
       "2021-12-29 00:30:00  3790.4283  3823.6877 -0.4450   -1.0614     0.6164   \n",
       "2021-12-29 00:25:00  3790.8863  3824.0097 -0.0039   -1.2155     1.2117   \n",
       "2021-12-29 00:20:00  3790.9063  3824.0717 -0.1077   -1.5185     1.4108   \n",
       "2021-12-29 00:15:00  3790.6357  3823.5833 -0.5542   -1.8712     1.3170   \n",
       "\n",
       "                          vwap  \n",
       "date.utc                        \n",
       "2021-12-29 00:35:00  3861.7788  \n",
       "2021-12-29 00:30:00  3861.8342  \n",
       "2021-12-29 00:25:00  3861.9942  \n",
       "2021-12-29 00:20:00  3862.1078  \n",
       "2021-12-29 00:15:00  3862.1938  "
      ]
     },
     "execution_count": 71,
     "metadata": {},
     "output_type": "execute_result"
    }
   ],
   "source": [
    "df.head()"
   ]
  },
  {
   "cell_type": "code",
   "execution_count": 67,
   "metadata": {},
   "outputs": [
    {
     "data": {
      "image/png": "[encoded data removed]",
      "text/plain": [
       "<Figure size 432x288 with 1 Axes>"
      ]
     },
     "metadata": {
      "needs_background": "light"
     },
     "output_type": "display_data"
    }
   ],
   "source": [
    "# Case Study 5\n",
    "# Define figure and axis\n",
    "fig, axs = plt.subplots(1,1)\n",
    "\n",
    "# Set title and axes labels\n",
    "axs.set_title(\"ETH Close Price With BBands Overlay\")\n",
    "axs.set_xlabel(\"Date\")\n",
    "axs.set_ylabel(\"Price (USD)\")\n",
    "\n",
    "# Create the plot \n",
    "axs.plot(df['close'], \"-\", label = \"Close Price\", color = \"green\")\n",
    "axs.plot(df['bband.up'], \"--\", label = \"BB Upper\", color = \"red\")\n",
    "axs.plot(df['bband.mid'], \"--\", label = \"BB Middle\", color = \"blue\")\n",
    "axs.plot(df['bband.low'], \"--\", label = \"BB Low\", color = \"red\")\n",
    "axs.legend(title = \"Legend\", fontsize = 8, bbox_to_anchor=(1.25, .6), loc=\"upper right\")\n",
    "plt.xticks(rotation=45)\n",
    "\n",
    "# Show \n",
    "plt.show()"
   ]
  },
  {
   "cell_type": "code",
   "execution_count": 68,
   "metadata": {},
   "outputs": [
    {
     "data": {
      "image/png": "[encoded data removed]",
      "text/plain": [
       "<Figure size 432x288 with 2 Axes>"
      ]
     },
     "metadata": {
      "needs_background": "light"
     },
     "output_type": "display_data"
    }
   ],
   "source": [
    "# Define figure and axis\n",
    "fig, axs = plt.subplots(2,1, sharex=True)\n",
    "\n",
    "# Set title and axes labels\n",
    "fig.suptitle(t = \"ETH Close Price and MACD\", fontsize = 16)\n",
    "#axs.set_title(\"ETH Close Price With MACD Overlay\")\n",
    "\n",
    "axs[1].set_xlabel(\"Date\")\n",
    "axs[0].set_ylabel(\"Price (USD)\")\n",
    "axs[1].set_ylabel(\"MACD Signal\")\n",
    "\n",
    "\n",
    "    \n",
    "# Create the plot \n",
    "axs[0].plot(df['close'], \"-\", label = \"Close Price\", color = \"green\")\n",
    "\n",
    "axs[1].plot(df['macd'], \"--\", label = \"MACD\", color = \"red\")\n",
    "axs[1].plot(df['macd.sig'], \"--\", label = \"Signal\", color = \"orange\")\n",
    "axs[1].plot(df['macd.hist'], \"-\", label = \"History\", color = \"blue\")\n",
    "axs[1].legend(title = \"Legend\", fontsize = 8, bbox_to_anchor=(1.25, .6), loc=\"upper right\")\n",
    "plt.xticks(rotation=45)\n",
    "axs[1].axhline(y=0, color = 'black')\n",
    "\n",
    "# Show \n",
    "plt.show()"
   ]
  },
  {
   "cell_type": "code",
   "execution_count": 75,
   "metadata": {},
   "outputs": [
    {
     "data": {
      "image/png": "[encoded data removed]",
      "text/plain": [
       "<Figure size 432x288 with 2 Axes>"
      ]
     },
     "metadata": {
      "needs_background": "light"
     },
     "output_type": "display_data"
    }
   ],
   "source": [
    "# Define figure and axis\n",
    "fig, axs = plt.subplots(2,1, sharex=True)\n",
    "\n",
    "# Set title and axes labels\n",
    "fig.suptitle(t = \"ETH Close Price, VWAP, and Volume\", fontsize = 16)\n",
    "#axs.set_title(\"ETH Close Price With MACD Overlay\")\n",
    "\n",
    "axs[1].set_xlabel(\"Date\")\n",
    "axs[0].set_ylabel(\"Price (USD)\")\n",
    "axs[1].set_ylabel(\"Volume\")\n",
    "\n",
    "\n",
    "    \n",
    "# Create the plot \n",
    "axs[0].plot(df['close'], \"-\", label = \"Close Price\", color = \"green\")\n",
    "axs[0].plot(df['vwap'], \"--\", label = \"VWAP\", color = \"red\")\n",
    "\n",
    "axs[1].plot(df['volume'], \"-\", label = \"Volume\", color = \"blue\")\n",
    "\n",
    "plt.legend(title = \"Legend\", fontsize = 8, bbox_to_anchor=(1.25, .6), loc=\"upper right\")\n",
    "plt.xticks(rotation=45)\n",
    "axs[1].axhline(y=0, color = 'black')\n",
    "\n",
    "# Show \n",
    "plt.show()"
   ]
  },
  {
   "cell_type": "code",
   "execution_count": null,
   "metadata": {},
   "outputs": [],
   "source": [
    "# begin trading strategy"
   ]
  }
 ],
 "metadata": {
  "interpreter": {
   "hash": "31f2aee4e71d21fbe5cf8b01ff0e069b9275f58929596ceb00d14d90e3e16cd6"
  },
  "kernelspec": {
   "display_name": "Python 3.8.10 64-bit",
   "language": "python",
   "name": "python3"
  },
  "language_info": {
   "codemirror_mode": {
    "name": "ipython",
    "version": 3
   },
   "file_extension": ".py",
   "mimetype": "text/x-python",
   "name": "python",
   "nbconvert_exporter": "python",
   "pygments_lexer": "ipython3",
   "version": "3.8.10"
  },
  "orig_nbformat": 4
 },
 "nbformat": 4,
 "nbformat_minor": 2
}
