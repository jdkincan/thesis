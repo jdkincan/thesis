{
 "cells": [
  {
   "cell_type": "code",
   "execution_count": 153,
   "metadata": {},
   "outputs": [],
   "source": [
    "# Import Dependencies\n",
    "import os\n",
    "from dotenv import load_dotenv\n",
    "import requests\n",
    "from alpha_vantage.cryptocurrencies import CryptoCurrencies\n",
    "from alpha_vantage.techindicators import TechIndicators\n",
    "import pandas as pd\n",
    "import matplotlib.pyplot as plt\n",
    "#from datetime import datetime\n",
    "#import pytz"
   ]
  },
  {
   "cell_type": "code",
   "execution_count": 154,
   "metadata": {},
   "outputs": [],
   "source": [
    "# RUN ONCE\n",
    "load_dotenv()\n",
    "API_KEY = os.getenv('SPECIAL_API_KEY')"
   ]
  },
  {
   "cell_type": "code",
   "execution_count": 155,
   "metadata": {},
   "outputs": [
    {
     "name": "stdout",
     "output_type": "stream",
     "text": [
      "https://www.alphavantage.co/query?function=CRYPTO_INTRADAY&symbol=ETH&market=USD&interval=5min&time_zone=US%2FEastern+Time&apikey=J1CWSFE0KTEO2I97\n",
      "dict_keys(['Meta Data', 'Time Series Crypto (5min)'])\n"
     ]
    }
   ],
   "source": [
    "# RUN ONCE\n",
    "params = {\n",
    " 'function': 'CRYPTO_INTRADAY',\n",
    " 'symbol': 'ETH',\n",
    " 'market': 'USD',\n",
    " 'interval': '5min',\n",
    " 'time_zone': 'US/Eastern Time',\n",
    " 'apikey': API_KEY\n",
    " }\n",
    "\n",
    "r = requests.get('https://www.alphavantage.co/query', params=params)\n",
    "print(r.url)\n",
    "price_data = r.json()\n",
    "print(price_data.keys())\n",
    "r.close()"
   ]
  },
  {
   "cell_type": "code",
   "execution_count": 156,
   "metadata": {},
   "outputs": [
    {
     "name": "stdout",
     "output_type": "stream",
     "text": [
      "{'1. Information': 'Crypto Intraday (5min) Time Series', '2. Digital Currency Code': 'ETH', '3. Digital Currency Name': 'Ethereum', '4. Market Code': 'USD', '5. Market Name': 'United States Dollar', '6. Last Refreshed': '2021-12-28 01:10:00', '7. Interval': '5min', '8. Output Size': 'Compact', '9. Time Zone': 'UTC'}\n"
     ]
    },
    {
     "name": "stderr",
     "output_type": "stream",
     "text": [
      "/tmp/ipykernel_861/2187447110.py:5: FutureWarning: In a future version of pandas all arguments of DataFrame.drop except for the argument 'labels' will be keyword-only\n",
      "  price_df = price_df.drop('index', 1)\n"
     ]
    },
    {
     "data": {
      "text/html": [
       "<div>\n",
       "<style scoped>\n",
       "    .dataframe tbody tr th:only-of-type {\n",
       "        vertical-align: middle;\n",
       "    }\n",
       "\n",
       "    .dataframe tbody tr th {\n",
       "        vertical-align: top;\n",
       "    }\n",
       "\n",
       "    .dataframe thead th {\n",
       "        text-align: right;\n",
       "    }\n",
       "</style>\n",
       "<table border=\"1\" class=\"dataframe\">\n",
       "  <thead>\n",
       "    <tr style=\"text-align: right;\">\n",
       "      <th></th>\n",
       "      <th>1. open</th>\n",
       "      <th>2. high</th>\n",
       "      <th>3. low</th>\n",
       "      <th>4. close</th>\n",
       "      <th>5. volume</th>\n",
       "      <th>date.utc</th>\n",
       "    </tr>\n",
       "  </thead>\n",
       "  <tbody>\n",
       "    <tr>\n",
       "      <th>0</th>\n",
       "      <td>4022.29000</td>\n",
       "      <td>4022.35000</td>\n",
       "      <td>4011.16000</td>\n",
       "      <td>4011.40000</td>\n",
       "      <td>461</td>\n",
       "      <td>2021-12-28 01:10:00</td>\n",
       "    </tr>\n",
       "    <tr>\n",
       "      <th>1</th>\n",
       "      <td>4020.21000</td>\n",
       "      <td>4022.92000</td>\n",
       "      <td>4010.00000</td>\n",
       "      <td>4022.29000</td>\n",
       "      <td>1198</td>\n",
       "      <td>2021-12-28 01:05:00</td>\n",
       "    </tr>\n",
       "    <tr>\n",
       "      <th>2</th>\n",
       "      <td>4028.83000</td>\n",
       "      <td>4028.83000</td>\n",
       "      <td>4020.00000</td>\n",
       "      <td>4020.21000</td>\n",
       "      <td>848</td>\n",
       "      <td>2021-12-28 01:00:00</td>\n",
       "    </tr>\n",
       "    <tr>\n",
       "      <th>3</th>\n",
       "      <td>4030.46000</td>\n",
       "      <td>4031.28000</td>\n",
       "      <td>4026.31000</td>\n",
       "      <td>4028.83000</td>\n",
       "      <td>664</td>\n",
       "      <td>2021-12-28 00:55:00</td>\n",
       "    </tr>\n",
       "    <tr>\n",
       "      <th>4</th>\n",
       "      <td>4025.56000</td>\n",
       "      <td>4031.87000</td>\n",
       "      <td>4022.44000</td>\n",
       "      <td>4030.47000</td>\n",
       "      <td>812</td>\n",
       "      <td>2021-12-28 00:50:00</td>\n",
       "    </tr>\n",
       "  </tbody>\n",
       "</table>\n",
       "</div>"
      ],
      "text/plain": [
       "      1. open     2. high      3. low    4. close 5. volume  \\\n",
       "0  4022.29000  4022.35000  4011.16000  4011.40000       461   \n",
       "1  4020.21000  4022.92000  4010.00000  4022.29000      1198   \n",
       "2  4028.83000  4028.83000  4020.00000  4020.21000       848   \n",
       "3  4030.46000  4031.28000  4026.31000  4028.83000       664   \n",
       "4  4025.56000  4031.87000  4022.44000  4030.47000       812   \n",
       "\n",
       "              date.utc  \n",
       "0  2021-12-28 01:10:00  \n",
       "1  2021-12-28 01:05:00  \n",
       "2  2021-12-28 01:00:00  \n",
       "3  2021-12-28 00:55:00  \n",
       "4  2021-12-28 00:50:00  "
      ]
     },
     "execution_count": 156,
     "metadata": {},
     "output_type": "execute_result"
    }
   ],
   "source": [
    "price_df = pd.DataFrame(price_data['Time Series Crypto (5min)']).T\n",
    "print(price_data['Meta Data'])\n",
    "price_df.reset_index(inplace=True)\n",
    "price_df['date.utc'] = price_df['index']\n",
    "price_df = price_df.drop('index', 1)\n",
    "price_df.head()"
   ]
  },
  {
   "cell_type": "code",
   "execution_count": 157,
   "metadata": {},
   "outputs": [
    {
     "name": "stdout",
     "output_type": "stream",
     "text": [
      "https://www.alphavantage.co/query?function=BBANDS&symbol=ETHUSD&interval=5min&time_period=100&series_type=open&apikey=J1CWSFE0KTEO2I97\n",
      "dict_keys(['Meta Data', 'Technical Analysis: BBANDS'])\n"
     ]
    }
   ],
   "source": [
    "# RUN ONCE\n",
    "params = {\n",
    " 'function': 'BBANDS',\n",
    " 'symbol': 'ETHUSD',\n",
    " 'interval': '5min',\n",
    " 'time_period': '100',\n",
    " 'series_type': 'open',\n",
    " 'apikey': API_KEY\n",
    " }\n",
    "\n",
    "r = requests.get('https://www.alphavantage.co/query', params=params)\n",
    "print(r.url)\n",
    "bband_data = r.json()\n",
    "print(bband_data.keys())\n",
    "r.close()"
   ]
  },
  {
   "cell_type": "code",
   "execution_count": 158,
   "metadata": {},
   "outputs": [
    {
     "name": "stdout",
     "output_type": "stream",
     "text": [
      "{'1: Symbol': 'ETHUSD', '2: Indicator': 'Bollinger Bands (BBANDS)', '3: Last Refreshed': '2021-12-27 20:10:00', '4: Interval': '5min', '5: Time Period': 100, '6.1: Deviation multiplier for upper band': 2, '6.2: Deviation multiplier for lower band': 2, '6.3: MA Type': 0, '7: Series Type': 'open', '8: Time Zone': 'US/Eastern Time'}\n"
     ]
    },
    {
     "name": "stderr",
     "output_type": "stream",
     "text": [
      "/tmp/ipykernel_861/2177948158.py:5: FutureWarning: In a future version of pandas all arguments of DataFrame.drop except for the argument 'labels' will be keyword-only\n",
      "  bbands_df = bbands_df.drop('index', 1)\n"
     ]
    },
    {
     "data": {
      "text/html": [
       "<div>\n",
       "<style scoped>\n",
       "    .dataframe tbody tr th:only-of-type {\n",
       "        vertical-align: middle;\n",
       "    }\n",
       "\n",
       "    .dataframe tbody tr th {\n",
       "        vertical-align: top;\n",
       "    }\n",
       "\n",
       "    .dataframe thead th {\n",
       "        text-align: right;\n",
       "    }\n",
       "</style>\n",
       "<table border=\"1\" class=\"dataframe\">\n",
       "  <thead>\n",
       "    <tr style=\"text-align: right;\">\n",
       "      <th></th>\n",
       "      <th>Real Lower Band</th>\n",
       "      <th>Real Upper Band</th>\n",
       "      <th>Real Middle Band</th>\n",
       "      <th>date.est</th>\n",
       "    </tr>\n",
       "  </thead>\n",
       "  <tbody>\n",
       "    <tr>\n",
       "      <th>0</th>\n",
       "      <td>4014.8520</td>\n",
       "      <td>4132.1448</td>\n",
       "      <td>4073.4984</td>\n",
       "      <td>2021-12-27 20:10</td>\n",
       "    </tr>\n",
       "    <tr>\n",
       "      <th>1</th>\n",
       "      <td>4016.3521</td>\n",
       "      <td>4131.9949</td>\n",
       "      <td>4074.1735</td>\n",
       "      <td>2021-12-27 20:05</td>\n",
       "    </tr>\n",
       "    <tr>\n",
       "      <th>2</th>\n",
       "      <td>4017.9876</td>\n",
       "      <td>4131.8318</td>\n",
       "      <td>4074.9097</td>\n",
       "      <td>2021-12-27 20:00</td>\n",
       "    </tr>\n",
       "    <tr>\n",
       "      <th>3</th>\n",
       "      <td>4019.2816</td>\n",
       "      <td>4131.7184</td>\n",
       "      <td>4075.5000</td>\n",
       "      <td>2021-12-27 19:55</td>\n",
       "    </tr>\n",
       "    <tr>\n",
       "      <th>4</th>\n",
       "      <td>4020.5188</td>\n",
       "      <td>4131.5156</td>\n",
       "      <td>4076.0172</td>\n",
       "      <td>2021-12-27 19:50</td>\n",
       "    </tr>\n",
       "  </tbody>\n",
       "</table>\n",
       "</div>"
      ],
      "text/plain": [
       "  Real Lower Band Real Upper Band Real Middle Band          date.est\n",
       "0       4014.8520       4132.1448        4073.4984  2021-12-27 20:10\n",
       "1       4016.3521       4131.9949        4074.1735  2021-12-27 20:05\n",
       "2       4017.9876       4131.8318        4074.9097  2021-12-27 20:00\n",
       "3       4019.2816       4131.7184        4075.5000  2021-12-27 19:55\n",
       "4       4020.5188       4131.5156        4076.0172  2021-12-27 19:50"
      ]
     },
     "execution_count": 158,
     "metadata": {},
     "output_type": "execute_result"
    }
   ],
   "source": [
    "bbands_df = pd.DataFrame(bband_data['Technical Analysis: BBANDS']).T\n",
    "print(bband_data['Meta Data'])\n",
    "bbands_df.reset_index(inplace=True)\n",
    "bbands_df['date.est'] = bbands_df['index']\n",
    "bbands_df = bbands_df.drop('index', 1)\n",
    "bbands_df.head()"
   ]
  },
  {
   "cell_type": "code",
   "execution_count": 159,
   "metadata": {},
   "outputs": [
    {
     "data": {
      "text/html": [
       "<div>\n",
       "<style scoped>\n",
       "    .dataframe tbody tr th:only-of-type {\n",
       "        vertical-align: middle;\n",
       "    }\n",
       "\n",
       "    .dataframe tbody tr th {\n",
       "        vertical-align: top;\n",
       "    }\n",
       "\n",
       "    .dataframe thead th {\n",
       "        text-align: right;\n",
       "    }\n",
       "</style>\n",
       "<table border=\"1\" class=\"dataframe\">\n",
       "  <thead>\n",
       "    <tr style=\"text-align: right;\">\n",
       "      <th></th>\n",
       "      <th>1. open</th>\n",
       "      <th>2. high</th>\n",
       "      <th>3. low</th>\n",
       "      <th>4. close</th>\n",
       "      <th>5. volume</th>\n",
       "      <th>date.utc</th>\n",
       "      <th>Real Lower Band</th>\n",
       "      <th>Real Upper Band</th>\n",
       "      <th>Real Middle Band</th>\n",
       "      <th>date.est</th>\n",
       "    </tr>\n",
       "  </thead>\n",
       "  <tbody>\n",
       "    <tr>\n",
       "      <th>0</th>\n",
       "      <td>4022.29000</td>\n",
       "      <td>4022.35000</td>\n",
       "      <td>4011.16000</td>\n",
       "      <td>4011.40000</td>\n",
       "      <td>461</td>\n",
       "      <td>2021-12-28 01:10:00</td>\n",
       "      <td>4014.8520</td>\n",
       "      <td>4132.1448</td>\n",
       "      <td>4073.4984</td>\n",
       "      <td>2021-12-27 20:10</td>\n",
       "    </tr>\n",
       "    <tr>\n",
       "      <th>1</th>\n",
       "      <td>4020.21000</td>\n",
       "      <td>4022.92000</td>\n",
       "      <td>4010.00000</td>\n",
       "      <td>4022.29000</td>\n",
       "      <td>1198</td>\n",
       "      <td>2021-12-28 01:05:00</td>\n",
       "      <td>4016.3521</td>\n",
       "      <td>4131.9949</td>\n",
       "      <td>4074.1735</td>\n",
       "      <td>2021-12-27 20:05</td>\n",
       "    </tr>\n",
       "    <tr>\n",
       "      <th>2</th>\n",
       "      <td>4028.83000</td>\n",
       "      <td>4028.83000</td>\n",
       "      <td>4020.00000</td>\n",
       "      <td>4020.21000</td>\n",
       "      <td>848</td>\n",
       "      <td>2021-12-28 01:00:00</td>\n",
       "      <td>4017.9876</td>\n",
       "      <td>4131.8318</td>\n",
       "      <td>4074.9097</td>\n",
       "      <td>2021-12-27 20:00</td>\n",
       "    </tr>\n",
       "    <tr>\n",
       "      <th>3</th>\n",
       "      <td>4030.46000</td>\n",
       "      <td>4031.28000</td>\n",
       "      <td>4026.31000</td>\n",
       "      <td>4028.83000</td>\n",
       "      <td>664</td>\n",
       "      <td>2021-12-28 00:55:00</td>\n",
       "      <td>4019.2816</td>\n",
       "      <td>4131.7184</td>\n",
       "      <td>4075.5000</td>\n",
       "      <td>2021-12-27 19:55</td>\n",
       "    </tr>\n",
       "    <tr>\n",
       "      <th>4</th>\n",
       "      <td>4025.56000</td>\n",
       "      <td>4031.87000</td>\n",
       "      <td>4022.44000</td>\n",
       "      <td>4030.47000</td>\n",
       "      <td>812</td>\n",
       "      <td>2021-12-28 00:50:00</td>\n",
       "      <td>4020.5188</td>\n",
       "      <td>4131.5156</td>\n",
       "      <td>4076.0172</td>\n",
       "      <td>2021-12-27 19:50</td>\n",
       "    </tr>\n",
       "  </tbody>\n",
       "</table>\n",
       "</div>"
      ],
      "text/plain": [
       "      1. open     2. high      3. low    4. close 5. volume  \\\n",
       "0  4022.29000  4022.35000  4011.16000  4011.40000       461   \n",
       "1  4020.21000  4022.92000  4010.00000  4022.29000      1198   \n",
       "2  4028.83000  4028.83000  4020.00000  4020.21000       848   \n",
       "3  4030.46000  4031.28000  4026.31000  4028.83000       664   \n",
       "4  4025.56000  4031.87000  4022.44000  4030.47000       812   \n",
       "\n",
       "              date.utc Real Lower Band Real Upper Band Real Middle Band  \\\n",
       "0  2021-12-28 01:10:00       4014.8520       4132.1448        4073.4984   \n",
       "1  2021-12-28 01:05:00       4016.3521       4131.9949        4074.1735   \n",
       "2  2021-12-28 01:00:00       4017.9876       4131.8318        4074.9097   \n",
       "3  2021-12-28 00:55:00       4019.2816       4131.7184        4075.5000   \n",
       "4  2021-12-28 00:50:00       4020.5188       4131.5156        4076.0172   \n",
       "\n",
       "           date.est  \n",
       "0  2021-12-27 20:10  \n",
       "1  2021-12-27 20:05  \n",
       "2  2021-12-27 20:00  \n",
       "3  2021-12-27 19:55  \n",
       "4  2021-12-27 19:50  "
      ]
     },
     "execution_count": 159,
     "metadata": {},
     "output_type": "execute_result"
    }
   ],
   "source": [
    "df = price_df.join(bbands_df, how = 'left')\n",
    "df.head()"
   ]
  },
  {
   "cell_type": "code",
   "execution_count": 160,
   "metadata": {},
   "outputs": [],
   "source": [
    "# format = '%Y-%m-%d %H:%M'\n",
    "\n",
    "# datetime = datetime.strptime(bband_data['Meta Data']['3. Last Refreshed'], format)\n",
    "# old_timezone = pytz.timezone(bband_data['Meta Data']['8. Time Zone'])\n",
    "# new_timezone = pytz.timezone(\"Asia/Calcutta\")\n",
    "\n",
    "# # returns datetime in the new timezone\n",
    "# my_timestamp_in_new_timezone = old_timezone.localize(datetime).astimezone(new_timezone) \n",
    "# print(my_timestamp_in_new_timezone.strftime(format))"
   ]
  },
  {
   "cell_type": "code",
   "execution_count": 161,
   "metadata": {},
   "outputs": [],
   "source": [
    "# Dictionary with original and new column names.\n",
    "new_col_names = {'1. open': 'open',\n",
    "        '2. high': 'high',\n",
    "        '3. low': 'low',\n",
    "        '4. close': 'close',\n",
    "        '5. volume': 'volume',\n",
    "        'Real Middle Band': 'bband.mid',\n",
    "        'Real Upper Band': 'bband.up',\n",
    "        'Real Lower Band': 'bband.low'}\n",
    "  \n",
    "# Call rename() method. \n",
    "df.rename(columns= new_col_names,\n",
    "          inplace=True)"
   ]
  },
  {
   "cell_type": "code",
   "execution_count": 162,
   "metadata": {},
   "outputs": [
    {
     "name": "stderr",
     "output_type": "stream",
     "text": [
      "/tmp/ipykernel_861/3140491876.py:1: FutureWarning: In a future version of pandas all arguments of DataFrame.drop except for the argument 'labels' will be keyword-only\n",
      "  df = df.drop('date.est', 1)\n"
     ]
    }
   ],
   "source": [
    "df = df.drop('date.est', 1)\n",
    "df = df.set_index('date.utc')"
   ]
  },
  {
   "cell_type": "code",
   "execution_count": 163,
   "metadata": {},
   "outputs": [
    {
     "data": {
      "text/html": [
       "<div>\n",
       "<style scoped>\n",
       "    .dataframe tbody tr th:only-of-type {\n",
       "        vertical-align: middle;\n",
       "    }\n",
       "\n",
       "    .dataframe tbody tr th {\n",
       "        vertical-align: top;\n",
       "    }\n",
       "\n",
       "    .dataframe thead th {\n",
       "        text-align: right;\n",
       "    }\n",
       "</style>\n",
       "<table border=\"1\" class=\"dataframe\">\n",
       "  <thead>\n",
       "    <tr style=\"text-align: right;\">\n",
       "      <th></th>\n",
       "      <th>open</th>\n",
       "      <th>high</th>\n",
       "      <th>low</th>\n",
       "      <th>close</th>\n",
       "      <th>volume</th>\n",
       "      <th>bband.low</th>\n",
       "      <th>bband.up</th>\n",
       "      <th>bband.mid</th>\n",
       "    </tr>\n",
       "    <tr>\n",
       "      <th>date.utc</th>\n",
       "      <th></th>\n",
       "      <th></th>\n",
       "      <th></th>\n",
       "      <th></th>\n",
       "      <th></th>\n",
       "      <th></th>\n",
       "      <th></th>\n",
       "      <th></th>\n",
       "    </tr>\n",
       "  </thead>\n",
       "  <tbody>\n",
       "    <tr>\n",
       "      <th>2021-12-28 01:10:00</th>\n",
       "      <td>4022.29000</td>\n",
       "      <td>4022.35000</td>\n",
       "      <td>4011.16000</td>\n",
       "      <td>4011.40000</td>\n",
       "      <td>461</td>\n",
       "      <td>4014.8520</td>\n",
       "      <td>4132.1448</td>\n",
       "      <td>4073.4984</td>\n",
       "    </tr>\n",
       "    <tr>\n",
       "      <th>2021-12-28 01:05:00</th>\n",
       "      <td>4020.21000</td>\n",
       "      <td>4022.92000</td>\n",
       "      <td>4010.00000</td>\n",
       "      <td>4022.29000</td>\n",
       "      <td>1198</td>\n",
       "      <td>4016.3521</td>\n",
       "      <td>4131.9949</td>\n",
       "      <td>4074.1735</td>\n",
       "    </tr>\n",
       "    <tr>\n",
       "      <th>2021-12-28 01:00:00</th>\n",
       "      <td>4028.83000</td>\n",
       "      <td>4028.83000</td>\n",
       "      <td>4020.00000</td>\n",
       "      <td>4020.21000</td>\n",
       "      <td>848</td>\n",
       "      <td>4017.9876</td>\n",
       "      <td>4131.8318</td>\n",
       "      <td>4074.9097</td>\n",
       "    </tr>\n",
       "    <tr>\n",
       "      <th>2021-12-28 00:55:00</th>\n",
       "      <td>4030.46000</td>\n",
       "      <td>4031.28000</td>\n",
       "      <td>4026.31000</td>\n",
       "      <td>4028.83000</td>\n",
       "      <td>664</td>\n",
       "      <td>4019.2816</td>\n",
       "      <td>4131.7184</td>\n",
       "      <td>4075.5000</td>\n",
       "    </tr>\n",
       "    <tr>\n",
       "      <th>2021-12-28 00:50:00</th>\n",
       "      <td>4025.56000</td>\n",
       "      <td>4031.87000</td>\n",
       "      <td>4022.44000</td>\n",
       "      <td>4030.47000</td>\n",
       "      <td>812</td>\n",
       "      <td>4020.5188</td>\n",
       "      <td>4131.5156</td>\n",
       "      <td>4076.0172</td>\n",
       "    </tr>\n",
       "  </tbody>\n",
       "</table>\n",
       "</div>"
      ],
      "text/plain": [
       "                           open        high         low       close volume  \\\n",
       "date.utc                                                                     \n",
       "2021-12-28 01:10:00  4022.29000  4022.35000  4011.16000  4011.40000    461   \n",
       "2021-12-28 01:05:00  4020.21000  4022.92000  4010.00000  4022.29000   1198   \n",
       "2021-12-28 01:00:00  4028.83000  4028.83000  4020.00000  4020.21000    848   \n",
       "2021-12-28 00:55:00  4030.46000  4031.28000  4026.31000  4028.83000    664   \n",
       "2021-12-28 00:50:00  4025.56000  4031.87000  4022.44000  4030.47000    812   \n",
       "\n",
       "                     bband.low   bband.up  bband.mid  \n",
       "date.utc                                              \n",
       "2021-12-28 01:10:00  4014.8520  4132.1448  4073.4984  \n",
       "2021-12-28 01:05:00  4016.3521  4131.9949  4074.1735  \n",
       "2021-12-28 01:00:00  4017.9876  4131.8318  4074.9097  \n",
       "2021-12-28 00:55:00  4019.2816  4131.7184  4075.5000  \n",
       "2021-12-28 00:50:00  4020.5188  4131.5156  4076.0172  "
      ]
     },
     "execution_count": 163,
     "metadata": {},
     "output_type": "execute_result"
    }
   ],
   "source": [
    "df.head()"
   ]
  },
  {
   "cell_type": "code",
   "execution_count": 164,
   "metadata": {},
   "outputs": [
    {
     "data": {
      "image/png": "[encoded data removed]",
      "text/plain": [
       "<Figure size 432x288 with 1 Axes>"
      ]
     },
     "metadata": {
      "needs_background": "light"
     },
     "output_type": "display_data"
    }
   ],
   "source": [
    "# Case Study 5\n",
    "# Define figure and axis\n",
    "fig, axs = plt.subplots(1,1)\n",
    "\n",
    "# Set title and axes labels\n",
    "axs.set_title(\"ETH Close Price With BBands Overlay\")\n",
    "axs.set_xlabel(\"Date\")\n",
    "axs.set_ylabel(\"Price (USD)\")\n",
    "\n",
    "# Create the plot \n",
    "axs.plot(df['volume'], \"-\", label = \"Volume\", color = \"green\")\n",
    "\n",
    "plt.xticks(rotation=45)\n",
    "\n",
    "# Show \n",
    "plt.show()"
   ]
  }
 ],
 "metadata": {
  "interpreter": {
   "hash": "31f2aee4e71d21fbe5cf8b01ff0e069b9275f58929596ceb00d14d90e3e16cd6"
  },
  "kernelspec": {
   "display_name": "Python 3.8.10 64-bit",
   "language": "python",
   "name": "python3"
  },
  "language_info": {
   "codemirror_mode": {
    "name": "ipython",
    "version": 3
   },
   "file_extension": ".py",
   "mimetype": "text/x-python",
   "name": "python",
   "nbconvert_exporter": "python",
   "pygments_lexer": "ipython3",
   "version": "3.8.10"
  },
  "orig_nbformat": 4
 },
 "nbformat": 4,
 "nbformat_minor": 2
}
