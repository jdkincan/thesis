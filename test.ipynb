{
 "cells": [
  {
   "cell_type": "code",
   "execution_count": 47,
   "metadata": {},
   "outputs": [],
   "source": [
    "# Import Dependencies\n",
    "import os\n",
    "from dotenv import load_dotenv\n",
    "import requests\n",
    "from alpha_vantage.cryptocurrencies import CryptoCurrencies\n",
    "from alpha_vantage.techindicators import TechIndicators\n",
    "import pandas as pd\n",
    "from datetime import datetime\n",
    "import pytz"
   ]
  },
  {
   "cell_type": "code",
   "execution_count": 48,
   "metadata": {},
   "outputs": [],
   "source": [
    "# RUN ONCE\n",
    "load_dotenv()\n",
    "API_KEY = os.getenv('SPECIAL_API_KEY')"
   ]
  },
  {
   "cell_type": "code",
   "execution_count": 49,
   "metadata": {},
   "outputs": [
    {
     "name": "stdout",
     "output_type": "stream",
     "text": [
      "https://www.alphavantage.co/query?function=CRYPTO_INTRADAY&symbol=ETH&market=USD&interval=5min&time_zone=US%2FEastern+Time&apikey=J1CWSFE0KTEO2I97\n",
      "dict_keys(['Meta Data', 'Time Series Crypto (5min)'])\n"
     ]
    }
   ],
   "source": [
    "# RUN ONCE\n",
    "params = {\n",
    " 'function': 'CRYPTO_INTRADAY',\n",
    " 'symbol': 'ETH',\n",
    " 'market': 'USD',\n",
    " 'interval': '5min',\n",
    " 'time_zone': 'US/Eastern Time',\n",
    " 'apikey': API_KEY\n",
    " }\n",
    "\n",
    "r = requests.get('https://www.alphavantage.co/query', params=params)\n",
    "print(r.url)\n",
    "price_data = r.json()\n",
    "print(price_data.keys())\n",
    "r.close()"
   ]
  },
  {
   "cell_type": "code",
   "execution_count": 50,
   "metadata": {},
   "outputs": [
    {
     "name": "stdout",
     "output_type": "stream",
     "text": [
      "{'1. Information': 'Crypto Intraday (5min) Time Series', '2. Digital Currency Code': 'ETH', '3. Digital Currency Name': 'Ethereum', '4. Market Code': 'USD', '5. Market Name': 'United States Dollar', '6. Last Refreshed': '2021-12-27 23:10:00', '7. Interval': '5min', '8. Output Size': 'Compact', '9. Time Zone': 'UTC'}\n"
     ]
    },
    {
     "data": {
      "text/html": [
       "<div>\n",
       "<style scoped>\n",
       "    .dataframe tbody tr th:only-of-type {\n",
       "        vertical-align: middle;\n",
       "    }\n",
       "\n",
       "    .dataframe tbody tr th {\n",
       "        vertical-align: top;\n",
       "    }\n",
       "\n",
       "    .dataframe thead th {\n",
       "        text-align: right;\n",
       "    }\n",
       "</style>\n",
       "<table border=\"1\" class=\"dataframe\">\n",
       "  <thead>\n",
       "    <tr style=\"text-align: right;\">\n",
       "      <th></th>\n",
       "      <th>1. open</th>\n",
       "      <th>2. high</th>\n",
       "      <th>3. low</th>\n",
       "      <th>4. close</th>\n",
       "      <th>5. volume</th>\n",
       "    </tr>\n",
       "  </thead>\n",
       "  <tbody>\n",
       "    <tr>\n",
       "      <th>2021-12-27 23:10:00</th>\n",
       "      <td>4062.44000</td>\n",
       "      <td>4064.43000</td>\n",
       "      <td>4056.36000</td>\n",
       "      <td>4057.96000</td>\n",
       "      <td>331</td>\n",
       "    </tr>\n",
       "    <tr>\n",
       "      <th>2021-12-27 23:05:00</th>\n",
       "      <td>4061.38000</td>\n",
       "      <td>4065.53000</td>\n",
       "      <td>4057.68000</td>\n",
       "      <td>4062.44000</td>\n",
       "      <td>868</td>\n",
       "    </tr>\n",
       "    <tr>\n",
       "      <th>2021-12-27 23:00:00</th>\n",
       "      <td>4063.12000</td>\n",
       "      <td>4068.42000</td>\n",
       "      <td>4052.01000</td>\n",
       "      <td>4061.38000</td>\n",
       "      <td>866</td>\n",
       "    </tr>\n",
       "    <tr>\n",
       "      <th>2021-12-27 22:55:00</th>\n",
       "      <td>4060.05000</td>\n",
       "      <td>4063.49000</td>\n",
       "      <td>4060.04000</td>\n",
       "      <td>4063.12000</td>\n",
       "      <td>610</td>\n",
       "    </tr>\n",
       "    <tr>\n",
       "      <th>2021-12-27 22:50:00</th>\n",
       "      <td>4053.09000</td>\n",
       "      <td>4061.04000</td>\n",
       "      <td>4053.03000</td>\n",
       "      <td>4060.04000</td>\n",
       "      <td>1649</td>\n",
       "    </tr>\n",
       "  </tbody>\n",
       "</table>\n",
       "</div>"
      ],
      "text/plain": [
       "                        1. open     2. high      3. low    4. close 5. volume\n",
       "2021-12-27 23:10:00  4062.44000  4064.43000  4056.36000  4057.96000       331\n",
       "2021-12-27 23:05:00  4061.38000  4065.53000  4057.68000  4062.44000       868\n",
       "2021-12-27 23:00:00  4063.12000  4068.42000  4052.01000  4061.38000       866\n",
       "2021-12-27 22:55:00  4060.05000  4063.49000  4060.04000  4063.12000       610\n",
       "2021-12-27 22:50:00  4053.09000  4061.04000  4053.03000  4060.04000      1649"
      ]
     },
     "execution_count": 50,
     "metadata": {},
     "output_type": "execute_result"
    }
   ],
   "source": [
    "price_df = pd.DataFrame(price_data['Time Series Crypto (5min)']).T\n",
    "print(price_data['Meta Data'])\n",
    "price_df.head()"
   ]
  },
  {
   "cell_type": "code",
   "execution_count": 51,
   "metadata": {},
   "outputs": [
    {
     "name": "stdout",
     "output_type": "stream",
     "text": [
      "https://www.alphavantage.co/query?function=BBANDS&symbol=ETHUSD&interval=5min&time_period=100&series_type=open&apikey=J1CWSFE0KTEO2I97\n",
      "dict_keys(['Meta Data', 'Technical Analysis: BBANDS'])\n"
     ]
    }
   ],
   "source": [
    "# RUN ONCE\n",
    "params = {\n",
    " 'function': 'BBANDS',\n",
    " 'symbol': 'ETHUSD',\n",
    " 'interval': '5min',\n",
    " 'time_period': '100',\n",
    " 'series_type': 'open',\n",
    " 'apikey': API_KEY\n",
    " }\n",
    "\n",
    "r = requests.get('https://www.alphavantage.co/query', params=params)\n",
    "print(r.url)\n",
    "bband_data = r.json()\n",
    "print(bband_data.keys())\n",
    "r.close()"
   ]
  },
  {
   "cell_type": "code",
   "execution_count": 52,
   "metadata": {},
   "outputs": [
    {
     "name": "stdout",
     "output_type": "stream",
     "text": [
      "{'1: Symbol': 'ETHUSD', '2: Indicator': 'Bollinger Bands (BBANDS)', '3: Last Refreshed': '2021-12-27 18:10:00', '4: Interval': '5min', '5: Time Period': 100, '6.1: Deviation multiplier for upper band': 2, '6.2: Deviation multiplier for lower band': 2, '6.3: MA Type': 0, '7: Series Type': 'open', '8: Time Zone': 'US/Eastern Time'}\n"
     ]
    },
    {
     "data": {
      "text/html": [
       "<div>\n",
       "<style scoped>\n",
       "    .dataframe tbody tr th:only-of-type {\n",
       "        vertical-align: middle;\n",
       "    }\n",
       "\n",
       "    .dataframe tbody tr th {\n",
       "        vertical-align: top;\n",
       "    }\n",
       "\n",
       "    .dataframe thead th {\n",
       "        text-align: right;\n",
       "    }\n",
       "</style>\n",
       "<table border=\"1\" class=\"dataframe\">\n",
       "  <thead>\n",
       "    <tr style=\"text-align: right;\">\n",
       "      <th></th>\n",
       "      <th>Real Middle Band</th>\n",
       "      <th>Real Upper Band</th>\n",
       "      <th>Real Lower Band</th>\n",
       "    </tr>\n",
       "  </thead>\n",
       "  <tbody>\n",
       "    <tr>\n",
       "      <th>2021-12-27 18:10</th>\n",
       "      <td>4088.2908</td>\n",
       "      <td>4119.5191</td>\n",
       "      <td>4057.0625</td>\n",
       "    </tr>\n",
       "    <tr>\n",
       "      <th>2021-12-27 18:05</th>\n",
       "      <td>4088.6427</td>\n",
       "      <td>4119.4886</td>\n",
       "      <td>4057.7968</td>\n",
       "    </tr>\n",
       "    <tr>\n",
       "      <th>2021-12-27 18:00</th>\n",
       "      <td>4089.0010</td>\n",
       "      <td>4119.4010</td>\n",
       "      <td>4058.6010</td>\n",
       "    </tr>\n",
       "    <tr>\n",
       "      <th>2021-12-27 17:55</th>\n",
       "      <td>4089.2798</td>\n",
       "      <td>4119.2334</td>\n",
       "      <td>4059.3262</td>\n",
       "    </tr>\n",
       "    <tr>\n",
       "      <th>2021-12-27 17:50</th>\n",
       "      <td>4089.5981</td>\n",
       "      <td>4118.9734</td>\n",
       "      <td>4060.2228</td>\n",
       "    </tr>\n",
       "  </tbody>\n",
       "</table>\n",
       "</div>"
      ],
      "text/plain": [
       "                 Real Middle Band Real Upper Band Real Lower Band\n",
       "2021-12-27 18:10        4088.2908       4119.5191       4057.0625\n",
       "2021-12-27 18:05        4088.6427       4119.4886       4057.7968\n",
       "2021-12-27 18:00        4089.0010       4119.4010       4058.6010\n",
       "2021-12-27 17:55        4089.2798       4119.2334       4059.3262\n",
       "2021-12-27 17:50        4089.5981       4118.9734       4060.2228"
      ]
     },
     "execution_count": 52,
     "metadata": {},
     "output_type": "execute_result"
    }
   ],
   "source": [
    "bbands_df = pd.DataFrame(bband_data['Technical Analysis: BBANDS']).T\n",
    "print(bband_data['Meta Data'])\n",
    "bbands_df.head()"
   ]
  },
  {
   "cell_type": "code",
   "execution_count": 57,
   "metadata": {},
   "outputs": [
    {
     "data": {
      "text/html": [
       "<div>\n",
       "<style scoped>\n",
       "    .dataframe tbody tr th:only-of-type {\n",
       "        vertical-align: middle;\n",
       "    }\n",
       "\n",
       "    .dataframe tbody tr th {\n",
       "        vertical-align: top;\n",
       "    }\n",
       "\n",
       "    .dataframe thead th {\n",
       "        text-align: right;\n",
       "    }\n",
       "</style>\n",
       "<table border=\"1\" class=\"dataframe\">\n",
       "  <thead>\n",
       "    <tr style=\"text-align: right;\">\n",
       "      <th></th>\n",
       "      <th>1. open</th>\n",
       "      <th>2. high</th>\n",
       "      <th>3. low</th>\n",
       "      <th>4. close</th>\n",
       "      <th>5. volume</th>\n",
       "      <th>Real Middle Band</th>\n",
       "      <th>Real Upper Band</th>\n",
       "      <th>Real Lower Band</th>\n",
       "    </tr>\n",
       "  </thead>\n",
       "  <tbody>\n",
       "    <tr>\n",
       "      <th>2021-12-27 23:10:00</th>\n",
       "      <td>4062.44000</td>\n",
       "      <td>4064.43000</td>\n",
       "      <td>4056.36000</td>\n",
       "      <td>4057.96000</td>\n",
       "      <td>331</td>\n",
       "      <td>NaN</td>\n",
       "      <td>NaN</td>\n",
       "      <td>NaN</td>\n",
       "    </tr>\n",
       "    <tr>\n",
       "      <th>2021-12-27 23:05:00</th>\n",
       "      <td>4061.38000</td>\n",
       "      <td>4065.53000</td>\n",
       "      <td>4057.68000</td>\n",
       "      <td>4062.44000</td>\n",
       "      <td>868</td>\n",
       "      <td>NaN</td>\n",
       "      <td>NaN</td>\n",
       "      <td>NaN</td>\n",
       "    </tr>\n",
       "    <tr>\n",
       "      <th>2021-12-27 23:00:00</th>\n",
       "      <td>4063.12000</td>\n",
       "      <td>4068.42000</td>\n",
       "      <td>4052.01000</td>\n",
       "      <td>4061.38000</td>\n",
       "      <td>866</td>\n",
       "      <td>NaN</td>\n",
       "      <td>NaN</td>\n",
       "      <td>NaN</td>\n",
       "    </tr>\n",
       "    <tr>\n",
       "      <th>2021-12-27 22:55:00</th>\n",
       "      <td>4060.05000</td>\n",
       "      <td>4063.49000</td>\n",
       "      <td>4060.04000</td>\n",
       "      <td>4063.12000</td>\n",
       "      <td>610</td>\n",
       "      <td>NaN</td>\n",
       "      <td>NaN</td>\n",
       "      <td>NaN</td>\n",
       "    </tr>\n",
       "    <tr>\n",
       "      <th>2021-12-27 22:50:00</th>\n",
       "      <td>4053.09000</td>\n",
       "      <td>4061.04000</td>\n",
       "      <td>4053.03000</td>\n",
       "      <td>4060.04000</td>\n",
       "      <td>1649</td>\n",
       "      <td>NaN</td>\n",
       "      <td>NaN</td>\n",
       "      <td>NaN</td>\n",
       "    </tr>\n",
       "  </tbody>\n",
       "</table>\n",
       "</div>"
      ],
      "text/plain": [
       "                        1. open     2. high      3. low    4. close 5. volume  \\\n",
       "2021-12-27 23:10:00  4062.44000  4064.43000  4056.36000  4057.96000       331   \n",
       "2021-12-27 23:05:00  4061.38000  4065.53000  4057.68000  4062.44000       868   \n",
       "2021-12-27 23:00:00  4063.12000  4068.42000  4052.01000  4061.38000       866   \n",
       "2021-12-27 22:55:00  4060.05000  4063.49000  4060.04000  4063.12000       610   \n",
       "2021-12-27 22:50:00  4053.09000  4061.04000  4053.03000  4060.04000      1649   \n",
       "\n",
       "                    Real Middle Band Real Upper Band Real Lower Band  \n",
       "2021-12-27 23:10:00              NaN             NaN             NaN  \n",
       "2021-12-27 23:05:00              NaN             NaN             NaN  \n",
       "2021-12-27 23:00:00              NaN             NaN             NaN  \n",
       "2021-12-27 22:55:00              NaN             NaN             NaN  \n",
       "2021-12-27 22:50:00              NaN             NaN             NaN  "
      ]
     },
     "execution_count": 57,
     "metadata": {},
     "output_type": "execute_result"
    }
   ],
   "source": [
    "df = price_df.join(bbands_df, how = 'left')\n",
    "df.head()"
   ]
  },
  {
   "cell_type": "code",
   "execution_count": null,
   "metadata": {},
   "outputs": [],
   "source": [
    "# format = '%Y-%m-%d %H:%M'\n",
    "\n",
    "# datetime = datetime.strptime(bband_data['Meta Data']['3. Last Refreshed'], format)\n",
    "# old_timezone = pytz.timezone(bband_data['Meta Data']['8. Time Zone'])\n",
    "# new_timezone = pytz.timezone(\"Asia/Calcutta\")\n",
    "\n",
    "# # returns datetime in the new timezone\n",
    "# my_timestamp_in_new_timezone = old_timezone.localize(datetime).astimezone(new_timezone) \n",
    "# print(my_timestamp_in_new_timezone.strftime(format))"
   ]
  },
  {
   "cell_type": "code",
   "execution_count": null,
   "metadata": {},
   "outputs": [],
   "source": [
    "# # Dictionary with original and new column names.\n",
    "# new_col_names = {'1a. open (USD)': 'open',\n",
    "#         '2a. high (USD)': 'high',\n",
    "#         '3a. low (USD)': 'low',\n",
    "#         '4a. close (USD)': 'close',\n",
    "#         '5. volume': 'volume',}\n",
    "  \n",
    "# # Call rename() method. \n",
    "# df.rename(columns= new_col_names,\n",
    "#           inplace=True)"
   ]
  },
  {
   "cell_type": "code",
   "execution_count": null,
   "metadata": {},
   "outputs": [],
   "source": [
    "# # Dictionary with original and new column names.\n",
    "# new_col_names = {'Real Upper Band': 'bband_up',\n",
    "#         'Real Middle Band': 'bband_mid',\n",
    "#         'Real Lower Band': 'bband_low',\n",
    "#         'RSI': 'rsi'}\n",
    "  \n",
    "# # Call rename() method. \n",
    "# df.rename(columns= new_col_names,\n",
    "#           inplace=True)"
   ]
  }
 ],
 "metadata": {
  "interpreter": {
   "hash": "31f2aee4e71d21fbe5cf8b01ff0e069b9275f58929596ceb00d14d90e3e16cd6"
  },
  "kernelspec": {
   "display_name": "Python 3.8.10 64-bit",
   "language": "python",
   "name": "python3"
  },
  "language_info": {
   "codemirror_mode": {
    "name": "ipython",
    "version": 3
   },
   "file_extension": ".py",
   "mimetype": "text/x-python",
   "name": "python",
   "nbconvert_exporter": "python",
   "pygments_lexer": "ipython3",
   "version": "3.8.10"
  },
  "orig_nbformat": 4
 },
 "nbformat": 4,
 "nbformat_minor": 2
}
